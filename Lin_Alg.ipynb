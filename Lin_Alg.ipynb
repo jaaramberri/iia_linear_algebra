{
 "cells": [
  {
   "cell_type": "code",
   "execution_count": 1,
   "id": "6d3ae82b-27bf-40e9-890f-0439645210b3",
   "metadata": {},
   "outputs": [
    {
     "name": "stdout",
     "output_type": "stream",
     "text": [
      "Hello Jupyter!\n"
     ]
    }
   ],
   "source": [
    "print('Hello Jupyter!')"
   ]
  },
  {
   "cell_type": "markdown",
   "id": "f549b4ba-676d-4cc8-b975-435e7b69f343",
   "metadata": {},
   "source": [
    "Esta celda tiene texto"
   ]
  },
  {
   "cell_type": "markdown",
   "id": "e7334af6-f2a4-44ec-9bf4-13e792f08b57",
   "metadata": {},
   "source": [
    "# Header \n",
    "## Header\n",
    "### HEader"
   ]
  },
  {
   "cell_type": "markdown",
   "id": "eb995315-b20d-403f-8f42-cd90f78def06",
   "metadata": {},
   "source": [
    "* item 1\n",
    "* iten 2\n",
    "    * subitem "
   ]
  },
  {
   "cell_type": "markdown",
   "id": "a28d6059-4e47-4ea1-a2a8-b2c482a0f667",
   "metadata": {},
   "source": [
    "```python\n",
    "s= \"Syntax highlyting python\"\n",
    "print(x)\n",
    "```"
   ]
  },
  {
   "cell_type": "code",
   "execution_count": null,
   "id": "fa03e1a0-323e-4664-b9f7-be5cffff2e73",
   "metadata": {},
   "outputs": [],
   "source": []
  }
 ],
 "metadata": {
  "kernelspec": {
   "display_name": "Python 3 (ipykernel)",
   "language": "python",
   "name": "python3"
  },
  "language_info": {
   "codemirror_mode": {
    "name": "ipython",
    "version": 3
   },
   "file_extension": ".py",
   "mimetype": "text/x-python",
   "name": "python",
   "nbconvert_exporter": "python",
   "pygments_lexer": "ipython3",
   "version": "3.13.2"
  }
 },
 "nbformat": 4,
 "nbformat_minor": 5
}
