{
 "cells": [
  {
   "cell_type": "markdown",
   "metadata": {},
   "source": [
    "# Introduction to Python\n",
    "\n",
    "If you're here, you likely already know what Python is, how to install it, and why it's so widely loved.\n",
    "\n",
    "In this notebook we include some basic `Python` commands. Find more resources in this tutorial: [docs.python.org/3/tutorial/](https://docs.python.org/3/tutorial/). \n"
   ]
  },
  {
   "cell_type": "markdown",
   "metadata": {},
   "source": [
    "- Very Basic Commands  \n",
    "\n",
    "- How does `print` work?  \n",
    "    - Use `print?` to get information about it.  \n"
   ]
  },
  {
   "cell_type": "code",
   "execution_count": 1,
   "metadata": {},
   "outputs": [],
   "source": [
    "#print?"
   ]
  },
  {
   "cell_type": "markdown",
   "metadata": {},
   "source": [
    "- Adding two numbers in Python is straightforward:  \n"
   ]
  },
  {
   "cell_type": "code",
   "execution_count": 2,
   "metadata": {},
   "outputs": [
    {
     "data": {
      "text/plain": [
       "8"
      ]
     },
     "execution_count": 2,
     "metadata": {},
     "output_type": "execute_result"
    }
   ],
   "source": [
    "3 + 5\n"
   ]
  },
  {
   "cell_type": "markdown",
   "metadata": {},
   "source": [
    "- In Python, text data can be represented using strings.  \n",
    "    - Both `\"hello\"` and `'hello'` are valid strings.  \n",
    "    - Strings can be joined using the `+` operator.  \n"
   ]
  },
  {
   "cell_type": "code",
   "execution_count": 3,
   "metadata": {},
   "outputs": [
    {
     "data": {
      "text/plain": [
       "'hello world'"
      ]
     },
     "execution_count": 3,
     "metadata": {},
     "output_type": "execute_result"
    }
   ],
   "source": [
    "\"hello\" + \" \" + \"world\"\n"
   ]
  },
  {
   "cell_type": "markdown",
   "metadata": {},
   "source": [
    "- A string is a type of **sequence**, which is a general term for an ordered collection of elements.  \n",
    "    - The three most commonly used sequence types are:  \n",
    "        - **Strings**  \n",
    "        - **Lists**  \n",
    "        - **Tuples**  \n"
   ]
  },
  {
   "cell_type": "markdown",
   "metadata": {},
   "source": [
    "- **Lists in Python:**  \n",
    "    - Lists can store multiple values in a single variable.  \n",
    "    - Lists are created using square brackets `[]`.  \n"
   ]
  },
  {
   "cell_type": "code",
   "execution_count": 4,
   "metadata": {},
   "outputs": [
    {
     "data": {
      "text/plain": [
       "[3, 4, 5, 4, 9, 7]"
      ]
     },
     "execution_count": 4,
     "metadata": {},
     "output_type": "execute_result"
    }
   ],
   "source": [
    "x = [3, 4, 5]\n",
    "y = [4, 9, 7]\n",
    "x + y"
   ]
  },
  {
   "cell_type": "markdown",
   "metadata": {},
   "source": [
    "- **List Addition in Python:**  \n",
    "    - Adding two lists together does **not** add elements element-wise.  \n",
    "    - Instead, lists are concatenated.  \n"
   ]
  },
  {
   "cell_type": "markdown",
   "metadata": {},
   "source": [
    "## Variables and Data Types  \n",
    "\n",
    "- In Python, we declare a variable by assigning a value with the `=` sign.  \n",
    "    - Variables act as pointers rather than actual data containers!  \n",
    "- Python offers a range of data types and structures, including:  \n",
    "    - Booleans (`True` or `False`)  \n",
    "    - Numbers (integers, floats, etc.)  \n",
    "    - Strings  \n",
    "    - Lists  \n",
    "    - Dictionaries  \n",
    "    - ... \n",
    "- No need to declare a variable's type when it is assigned, it is determined dynamically using [duck typing](https://en.wikipedia.org/wiki/Duck_typing).\n",
    "\n",
    "(\"If it walks like a duck and it quacks like a duck, then it must be a duck\")\n",
    "\n",
    "---\n"
   ]
  },
  {
   "cell_type": "markdown",
   "metadata": {},
   "source": [
    "### Basic Types"
   ]
  },
  {
   "cell_type": "code",
   "execution_count": 5,
   "metadata": {},
   "outputs": [],
   "source": [
    "# An integer. Notice the variable naming convention.\n",
    "age_in_years = 39"
   ]
  },
  {
   "cell_type": "code",
   "execution_count": 6,
   "metadata": {},
   "outputs": [],
   "source": [
    "# A float\n",
    "almost_pi = 3.1415"
   ]
  },
  {
   "cell_type": "code",
   "execution_count": 7,
   "metadata": {},
   "outputs": [],
   "source": [
    "# A string\n",
    "proton = \"P is for proton\""
   ]
  },
  {
   "cell_type": "code",
   "execution_count": 8,
   "metadata": {},
   "outputs": [],
   "source": [
    "# A boolean takes on only the values True or False\n",
    "enjoying_tutorial = True"
   ]
  },
  {
   "cell_type": "markdown",
   "metadata": {},
   "source": [
    "### Data Structures  \n",
    "\n",
    "- Most programs need more than just basic data types; they require structured data.  \n",
    "- Python has built-in support for various essential data structures.  \n",
    "    - Additional, more advanced, structures can be found in the [collections](https://docs.python.org/3/library/collections.html) module.  \n"
   ]
  },
  {
   "cell_type": "markdown",
   "metadata": {},
   "source": [
    "#### Lists  \n",
    "\n",
    "- An ordered, heterogeneous collection of elements.  \n",
    "- Elements in a list can be accessed by their position (index).  \n",
    "- Lists are created using square brackets:  \n",
    "  - `my_list = []`  \n",
    "  - Alternatively, a list can be declared using `list()` (though square brackets are more commonly used).  \n",
    "- To access elements:  \n",
    "  - First element: `my_list[0]`  \n",
    "  - Last element: `my_list[-1]`  \n"
   ]
  },
  {
   "cell_type": "code",
   "execution_count": 9,
   "metadata": {},
   "outputs": [
    {
     "data": {
      "text/plain": [
       "(10, 40)"
      ]
     },
     "execution_count": 9,
     "metadata": {},
     "output_type": "execute_result"
    }
   ],
   "source": [
    "# Creating a list\n",
    "my_list = [10, 20, 30, 40]\n",
    "\n",
    "# Accessing the first and last elements\n",
    "first_element = my_list[0]\n",
    "last_element = my_list[-1]\n",
    "\n",
    "first_element, last_element\n"
   ]
  },
  {
   "cell_type": "markdown",
   "metadata": {},
   "source": [
    "Lists have a dynamic size and elements can be added (appended) to them"
   ]
  },
  {
   "cell_type": "code",
   "execution_count": 10,
   "metadata": {},
   "outputs": [
    {
     "data": {
      "text/plain": [
       "[10, 20, 30, 40, 4]"
      ]
     },
     "execution_count": 10,
     "metadata": {},
     "output_type": "execute_result"
    }
   ],
   "source": [
    "my_list.append(4)\n",
    "my_list"
   ]
  },
  {
   "cell_type": "markdown",
   "metadata": {},
   "source": [
    "We can access \"slices\" of a list using `my_list[i:j]` where `i` is the start of the slice (again, indexing starts from 0) and `j` the end of the slice. For instance:"
   ]
  },
  {
   "cell_type": "code",
   "execution_count": 11,
   "metadata": {},
   "outputs": [
    {
     "data": {
      "text/plain": [
       "[20, 30]"
      ]
     },
     "execution_count": 11,
     "metadata": {},
     "output_type": "execute_result"
    }
   ],
   "source": [
    "my_list[1:3]"
   ]
  },
  {
   "cell_type": "markdown",
   "metadata": {},
   "source": [
    "Omitting the second index means that the slice shoud run until the end of the list"
   ]
  },
  {
   "cell_type": "code",
   "execution_count": 12,
   "metadata": {},
   "outputs": [
    {
     "data": {
      "text/plain": [
       "[20, 30, 40, 4]"
      ]
     },
     "execution_count": 12,
     "metadata": {},
     "output_type": "execute_result"
    }
   ],
   "source": [
    "my_list[1:]"
   ]
  },
  {
   "cell_type": "markdown",
   "metadata": {},
   "source": [
    "We can check if an element is in the list using `in`.\n",
    "\n",
    "The length of a list can be obtained using the `len` function"
   ]
  },
  {
   "cell_type": "code",
   "execution_count": 13,
   "metadata": {},
   "outputs": [
    {
     "data": {
      "text/plain": [
       "(False, 5)"
      ]
     },
     "execution_count": 13,
     "metadata": {},
     "output_type": "execute_result"
    }
   ],
   "source": [
    "5 in my_list, len(my_list)"
   ]
  },
  {
   "cell_type": "markdown",
   "metadata": {},
   "source": [
    "#### Strings\n",
    "- A **string** is a sequence of characters enclosed in quotes.  \n",
    "- Strings can be created using **single (' ')**, **double (\" \")** quotes.  \n",
    "- Strings are **immutable** (cannot be changed after creation).  \n",
    "- Strings support **indexing** (to access individual characters) and **slicing** (to extract substrings).  \n",
    "- Common string operations include:  \n",
    "  - Concatenation (`+`)  \n",
    "  - Repetition (`*`)  \n",
    "  - Length (`len()`)  \n",
    "  - Methods like `.upper()`, `.lower()`, `.strip()`, `.split()`, etc. "
   ]
  },
  {
   "cell_type": "code",
   "execution_count": 14,
   "metadata": {},
   "outputs": [
    {
     "name": "stdout",
     "output_type": "stream",
     "text": [
      "Hello World, Python is fun!\n"
     ]
    }
   ],
   "source": [
    "# Different ways to create strings\n",
    "str1 = 'Hello'  \n",
    "str2 = \"World,\"  \n",
    "str3 = \"Python is fun!\"  \n",
    "\n",
    "print(str1, str2, str3)\n"
   ]
  },
  {
   "cell_type": "markdown",
   "metadata": {},
   "source": [
    "\n",
    "#### Tuples  \n",
    "\n",
    "- Very similar to lists.  \n",
    "- The key difference: **tuples are immutable** (they cannot be changed after creation).  \n",
    "- Syntax for declaring a tuple:  \n",
    "  - `my_tuple = ()` (using parentheses).  \n",
    "- Elements in a tuple can be accessed by index, just like lists:  \n",
    "  - First element: `my_tuple[0]`  \n",
    "  - Last element: `my_tuple[-1]`  \n"
   ]
  },
  {
   "cell_type": "code",
   "execution_count": null,
   "metadata": {},
   "outputs": [],
   "source": []
  },
  {
   "cell_type": "code",
   "execution_count": 15,
   "metadata": {},
   "outputs": [
    {
     "data": {
      "text/plain": [
       "(5, 'duck')"
      ]
     },
     "execution_count": 15,
     "metadata": {},
     "output_type": "execute_result"
    }
   ],
   "source": [
    "# Creating a tuple\n",
    "my_tuple = (5, \"car\", 15, \"duck\")\n",
    "\n",
    "# Accessing the first and last elements\n",
    "first_element = my_tuple[0]\n",
    "last_element = my_tuple[-1]\n",
    "\n",
    "first_element, last_element\n"
   ]
  },
  {
   "cell_type": "markdown",
   "metadata": {},
   "source": [
    "We cannot modify a tuple and trying to do so introduces an *exception*, or error."
   ]
  },
  {
   "cell_type": "code",
   "execution_count": 16,
   "metadata": {},
   "outputs": [],
   "source": [
    "#my_tuple = (3, 4, 5)\n",
    "#my_tuple[0] = 2"
   ]
  },
  {
   "cell_type": "markdown",
   "metadata": {},
   "source": [
    "#### Dictionaries (dict)  \n",
    "\n",
    "- **Unordered** collection of key-value pairs.  \n",
    "- Dictionary elements are accessed using **keys**, not positions.  \n",
    "- Syntax for creating a dictionary:  \n",
    "  - `my_dictionary = {}` (using curly brackets).  \n",
    "  - Alternatively: `my_dictionary = dict()`, but curly brackets are more commonly used.  \n",
    "- Accessing values:  \n",
    "  - `my_dictionary[\"key_name\"]` retrieves the value associated with `\"key_name\"`.  \n"
   ]
  },
  {
   "cell_type": "code",
   "execution_count": 17,
   "metadata": {},
   "outputs": [
    {
     "data": {
      "text/plain": [
       "('Alice', 25)"
      ]
     },
     "execution_count": 17,
     "metadata": {},
     "output_type": "execute_result"
    }
   ],
   "source": [
    "# Creating a dictionary\n",
    "my_dictionary = {\n",
    "    \"name\": \"Alice\",\n",
    "    \"age\": 25,\n",
    "    \"city\": \"New York\"\n",
    "}\n",
    "\n",
    "# Accessing values by key\n",
    "name = my_dictionary[\"name\"]\n",
    "age = my_dictionary[\"age\"]\n",
    "\n",
    "name, age\n"
   ]
  },
  {
   "cell_type": "code",
   "execution_count": 18,
   "metadata": {},
   "outputs": [],
   "source": [
    "## Conditionals"
   ]
  },
  {
   "cell_type": "markdown",
   "metadata": {},
   "source": [
    "#### Classes  \n",
    "\n",
    "- A **class** is a blueprint for creating objects.  \n",
    "- Classes define attributes (variables) and methods (functions) that belong to an object.  \n",
    "- The `__init__` method initializes the attributes of the class when an object is created.  \n",
    "- `self` refers to the instance of the class itself and allows access to its attributes and methods.  \n",
    "- Syntax:  \n",
    "\n",
    "```python\n",
    "class ClassName:\n",
    "    def __init__(self, param1, param2):\n",
    "        self.attribute1 = param1\n",
    "        self.attribute2 = param2\n",
    "\n",
    "    def method(self):\n",
    "        return self.attribute1\n"
   ]
  },
  {
   "cell_type": "code",
   "execution_count": 19,
   "metadata": {},
   "outputs": [
    {
     "data": {
      "text/plain": [
       "'Hello, my name is Julen and I am 40 years old.'"
      ]
     },
     "execution_count": 19,
     "metadata": {},
     "output_type": "execute_result"
    }
   ],
   "source": [
    "# Defining a simple class\n",
    "class Person:\n",
    "    def __init__(self, name, age):\n",
    "        self.name = name  # Attribute: name\n",
    "        self.age = age    # Attribute: age\n",
    "\n",
    "    def greet(self):\n",
    "        return f\"Hello, my name is {self.name} and I am {self.age} years old.\"\n",
    "\n",
    "\n",
    "# Creating an instance of the Person class\n",
    "person1 = Person(\"Julen\", 40)\n",
    "\n",
    "# Calling the method\n",
    "person1.greet()\n",
    "\n"
   ]
  },
  {
   "cell_type": "code",
   "execution_count": null,
   "metadata": {},
   "outputs": [],
   "source": []
  },
  {
   "cell_type": "code",
   "execution_count": null,
   "metadata": {},
   "outputs": [],
   "source": []
  },
  {
   "cell_type": "markdown",
   "metadata": {},
   "source": [
    "### Exercises"
   ]
  },
  {
   "cell_type": "markdown",
   "metadata": {},
   "source": [
    "- **Exercise 1**: List Operations  \n",
    "\n",
    "Create a list containing the numbers `[3, 7, 2, 9, 1]`.  \n",
    "Perform the following operations:  \n",
    "1. Append the number `5` to the list.  \n",
    "2. Remove the smallest number.  \n",
    "3. Sort the list in descending order.  \n",
    "4. Retrieve and print the last element in the list.  \n"
   ]
  },
  {
   "cell_type": "code",
   "execution_count": 20,
   "metadata": {},
   "outputs": [
    {
     "name": "stdout",
     "output_type": "stream",
     "text": [
      "2\n",
      "[9, 7, 5, 3, 2]\n"
     ]
    }
   ],
   "source": [
    "# Solution\n",
    "numbers = [3, 7, 2, 9, 1]\n",
    "\n",
    "# 1. Append 5\n",
    "numbers.append(5)\n",
    "\n",
    "# 2. Remove the smallest number\n",
    "numbers.remove(min(numbers))\n",
    "\n",
    "# 3. Sort in descending order\n",
    "numbers.sort(reverse=True)\n",
    "\n",
    "# 4. Print the last element\n",
    "print(numbers[-1])\n",
    "\n",
    "# Final list\n",
    "print(numbers)\n"
   ]
  },
  {
   "cell_type": "markdown",
   "metadata": {},
   "source": [
    "- **Exercise 2**: Tuples\n",
    "\n",
    "Given the tuple `coordinates = (10, 20, 30)`:  \n",
    "1. Extract the values into three variables: `x, y, z`.  \n",
    "2. Print each variable separately.  \n",
    "3. Try modifying `x` to `15` and observe what happens.  \n"
   ]
  },
  {
   "cell_type": "code",
   "execution_count": 21,
   "metadata": {},
   "outputs": [
    {
     "name": "stdout",
     "output_type": "stream",
     "text": [
      "10\n",
      "20\n",
      "30\n"
     ]
    }
   ],
   "source": [
    "# Solution\n",
    "coordinates = (10, 20, 30)\n",
    "\n",
    "# 1. Tuple unpacking\n",
    "x, y, z = coordinates\n",
    "\n",
    "# 2. Print values\n",
    "print(x)\n",
    "print(y)\n",
    "print(z)\n",
    "\n",
    "# 3. Attempt to modify x (this will raise an error)\n",
    "# x = 15  # Uncommenting this will cause a TypeError\n"
   ]
  },
  {
   "cell_type": "markdown",
   "metadata": {},
   "source": [
    "- **Exercise 3**: Dictionaries  \n",
    "\n",
    "Create a dictionary representing a student's grades with the following data:  \n",
    "- `\"Math\"`: `85`  \n",
    "- `\"Science\"`: `90`  \n",
    "- `\"History\"`: `78`  \n",
    "\n",
    "Then, perform the following:  \n",
    "1. Add a new subject `\"English\"` with a grade of `88`.  \n",
    "2. Update the `\"Math\"` grade to `92`.  \n",
    "3. Remove `\"History\"` from the dictionary.  \n",
    "4. Print all subjects and their corresponding grades.  \n"
   ]
  },
  {
   "cell_type": "code",
   "execution_count": 22,
   "metadata": {},
   "outputs": [
    {
     "name": "stdout",
     "output_type": "stream",
     "text": [
      "Math: 92\n",
      "Science: 90\n",
      "English: 88\n"
     ]
    }
   ],
   "source": [
    "# Solution\n",
    "grades = {\n",
    "    \"Math\": 85,\n",
    "    \"Science\": 90,\n",
    "    \"History\": 78\n",
    "}\n",
    "\n",
    "# 1. Add \"English\" with a grade of 88\n",
    "grades[\"English\"] = 88\n",
    "\n",
    "# 2. Update \"Math\" grade to 92\n",
    "grades[\"Math\"] = 92\n",
    "\n",
    "# 3. Remove \"History\" safely (avoids KeyError if not present)\n",
    "grades.pop(\"History\", None)\n",
    "\n",
    "# 4. Print all subjects and grades\n",
    "for subject, grade in grades.items():\n",
    "    print(f\"{subject}: {grade}\")\n"
   ]
  },
  {
   "cell_type": "markdown",
   "metadata": {},
   "source": [
    "- **Exercise 4**: Classes\n",
    "\n",
    "1. Define a class `Car` with the following properties:\n",
    "    - `brand` (string)\n",
    "    - `model` (string)\n",
    "    - `year` (integer)  \n",
    "2. Create an `__init__` method to initialize these attributes.  \n",
    "3. Add a method `get_info()` that returns a formatted string with car details.  \n",
    "4. Instantiate a `Car` object with `\"Toyota\"`, `\"Corolla\"`, and `2020`.  \n",
    "5. Call the `get_info()` method and print the result.  \n"
   ]
  },
  {
   "cell_type": "code",
   "execution_count": 23,
   "metadata": {},
   "outputs": [
    {
     "name": "stdout",
     "output_type": "stream",
     "text": [
      "2020 Toyota Corolla\n"
     ]
    }
   ],
   "source": [
    "# Solution\n",
    "class Car:\n",
    "    def __init__(self, brand, model, year):\n",
    "        self.brand = brand\n",
    "        self.model = model\n",
    "        self.year = year\n",
    "    \n",
    "    def get_info(self):\n",
    "        return f\"{self.year} {self.brand} {self.model}\"\n",
    "\n",
    "# 4. Create a Car object\n",
    "my_car = Car(\"Toyota\", \"Corolla\", 2020)\n",
    "\n",
    "# 5. Call get_info() and print\n",
    "print(my_car.get_info())\n"
   ]
  },
  {
   "cell_type": "markdown",
   "metadata": {},
   "source": [
    "## Loops and Functions\n",
    "\n",
    "---"
   ]
  },
  {
   "cell_type": "markdown",
   "metadata": {},
   "source": [
    "### Loops \n",
    "\n",
    "Loops allow us to execute a block of code multiple times. Python has two main types of loops:  \n",
    "\n",
    "- **`for` loops** → Used for iterating over sequences (like lists, tuples, dictionaries, or strings).  \n",
    "- **`while` loops** → Runs as long as a given condition is `True`.  \n",
    "\n",
    "\n"
   ]
  },
  {
   "cell_type": "markdown",
   "metadata": {},
   "source": [
    "**`for`** loop "
   ]
  },
  {
   "cell_type": "code",
   "execution_count": 24,
   "metadata": {},
   "outputs": [
    {
     "name": "stdout",
     "output_type": "stream",
     "text": [
      "apple\n",
      "banana\n",
      "cherry\n"
     ]
    }
   ],
   "source": [
    "# Looping through a list\n",
    "fruits = [\"apple\", \"banana\", \"cherry\"]\n",
    "for fruit in fruits:\n",
    "    print(fruit)\n"
   ]
  },
  {
   "cell_type": "markdown",
   "metadata": {},
   "source": [
    "**`for`** loop with range"
   ]
  },
  {
   "cell_type": "code",
   "execution_count": 25,
   "metadata": {},
   "outputs": [
    {
     "name": "stdout",
     "output_type": "stream",
     "text": [
      "0\n",
      "1\n",
      "2\n",
      "3\n",
      "4\n"
     ]
    }
   ],
   "source": [
    "# Using range to loop through numbers 0-4\n",
    "for i in range(5):\n",
    "    print(i)\n"
   ]
  },
  {
   "cell_type": "markdown",
   "metadata": {},
   "source": [
    "**`while` ** loop\n"
   ]
  },
  {
   "cell_type": "code",
   "execution_count": 26,
   "metadata": {},
   "outputs": [
    {
     "name": "stdout",
     "output_type": "stream",
     "text": [
      "Count is: 0\n",
      "Count is: 1\n",
      "Count is: 2\n"
     ]
    }
   ],
   "source": [
    "# Looping while a condition is True\n",
    "count = 0\n",
    "while count < 3:\n",
    "    print(\"Count is:\", count)\n",
    "    count += 1\n"
   ]
  },
  {
   "cell_type": "markdown",
   "metadata": {},
   "source": [
    "### Functions\n",
    "\n",
    "- A **function** is a reusable block of code that executes only when explicitly called.  \n",
    "- Functions allow code modularity, improving readability and maintainability.  \n",
    "- Functions can:  \n",
    "  - Accept **arguments** (or **parameters**) to modify their behavior.  \n",
    "  - Accept **any number** and **any type** of inputs.  \n",
    "  - Always **return a single object** (even if that object is a tuple, which may appear as multiple values).  \n",
    "- Syntax for defining a function:  \n",
    "\n",
    "```python\n",
    "def function_name(parameter1, parameter2):\n",
    "    # Function body (code to execute)\n",
    "    return some_value\n"
   ]
  },
  {
   "cell_type": "code",
   "execution_count": 27,
   "metadata": {},
   "outputs": [
    {
     "name": "stdout",
     "output_type": "stream",
     "text": [
      "8\n"
     ]
    }
   ],
   "source": [
    "# Function that takes two numbers and returns their sum\n",
    "def add_numbers(a, b):\n",
    "    return a + b\n",
    "\n",
    "# Using the function\n",
    "result = add_numbers(3, 5)\n",
    "print(result)  # Output: 8\n",
    "\n"
   ]
  },
  {
   "cell_type": "code",
   "execution_count": 28,
   "metadata": {},
   "outputs": [
    {
     "name": "stdout",
     "output_type": "stream",
     "text": [
      "Minimum: 1, Maximum: 9\n"
     ]
    }
   ],
   "source": [
    "# Function that returns multiple values (as a tuple)\n",
    "def min_max(values):\n",
    "    return min(values), max(values)\n",
    "\n",
    "# Calling the function\n",
    "numbers = [4, 7, 1, 9, 3]\n",
    "min_val, max_val = min_max(numbers)\n",
    "\n",
    "print(f\"Minimum: {min_val}, Maximum: {max_val}\")\n"
   ]
  },
  {
   "cell_type": "markdown",
   "metadata": {},
   "source": [
    "### Lambda Functions in Python  \n",
    "\n",
    "Lambda functions, also known as **anonymous functions**, are **small, single-line functions** that do not require a name. They are useful for **quick, simple operations** without formally defining a function using `def`.  \n"
   ]
  },
  {
   "cell_type": "code",
   "execution_count": 29,
   "metadata": {},
   "outputs": [
    {
     "name": "stdout",
     "output_type": "stream",
     "text": [
      "[1, 4, 9, 16, 25]\n"
     ]
    }
   ],
   "source": [
    "# Example: Squaring a list of numbers using lambda\n",
    "numbers = [1, 2, 3, 4, 5]\n",
    "squared_numbers = list(map(lambda x: x**2, numbers))\n",
    "\n",
    "print(squared_numbers)  # Output: [1, 4, 9, 16, 25]\n"
   ]
  },
  {
   "cell_type": "markdown",
   "metadata": {},
   "source": [
    "### Exercises"
   ]
  },
  {
   "cell_type": "markdown",
   "metadata": {},
   "source": [
    "**Exercise 1**: Compute the Sum of Even Layer Sizes  \n",
    "In a neural network, the number of neurons in each layer is often defined as a list.  \n",
    "Write a function `sum_even_layers(layers)` that takes a list of integers representing layer sizes and returns the sum of the sizes of layers that contain an even number of neurons.\n",
    "\n",
    "Example:  \n",
    "```python\n",
    "sum_even_layers([32, 64, 128, 45, 23, 256])  # Output: 448 (32 + 64 + 128 + 256)\n"
   ]
  },
  {
   "cell_type": "code",
   "execution_count": 30,
   "metadata": {},
   "outputs": [
    {
     "data": {
      "text/plain": [
       "480"
      ]
     },
     "execution_count": 30,
     "metadata": {},
     "output_type": "execute_result"
    }
   ],
   "source": [
    "def sum_even_layers(layers):\n",
    "    total = 0\n",
    "    for neurons in layers:\n",
    "        if neurons % 2 == 0:  # Check if even\n",
    "            total += neurons\n",
    "    return total\n",
    "\n",
    "# Example test\n",
    "sum_even_layers([32, 64, 128, 45, 23, 256])  # Expected Output: 448\n"
   ]
  },
  {
   "cell_type": "markdown",
   "metadata": {},
   "source": [
    "**Exercise 2**: Reverse an Activation Function Name  \n",
    "Activation functions such as `\"relu\"`, `\"sigmoid\"`, and `\"tanh\"` are widely used in neural networks.  \n",
    "Write a function `reverse_activation(name)` that takes an activation function name as a string and returns the reversed string.\n",
    "\n",
    "Example:  \n",
    "```python\n",
    "reverse_activation(\"relu\")  # Output: \"ruler\""
   ]
  },
  {
   "cell_type": "code",
   "execution_count": 31,
   "metadata": {},
   "outputs": [
    {
     "data": {
      "text/plain": [
       "'uler'"
      ]
     },
     "execution_count": 31,
     "metadata": {},
     "output_type": "execute_result"
    }
   ],
   "source": [
    "def reverse_activation(name):\n",
    "    reversed_name = \"\"\n",
    "    for char in name:\n",
    "        reversed_name = char + reversed_name  # Prepend character\n",
    "    return reversed_name\n",
    "\n",
    "# Example test\n",
    "reverse_activation(\"relu\")  # Expected Output: \"uler\"\n"
   ]
  },
  {
   "cell_type": "markdown",
   "metadata": {},
   "source": [
    "**Exercise 3**: Count the Number of ReLU Activations  \n",
    "Given a list of activation functions used in a neural network, write a function `count_relu(activations)` that counts how many times `\"relu\"` appears.\n",
    "\n",
    "Example:  \n",
    "```python\n",
    "count_relu([\"relu\", \"sigmoid\", \"relu\", \"tanh\", \"relu\", \"softmax\"])  # Output: 3\n"
   ]
  },
  {
   "cell_type": "markdown",
   "metadata": {},
   "source": [
    "## Modules and External Libraries\n",
    "\n",
    "\n",
    "In programming, a **module** is a piece of software that has a specific functionality.  \n",
    "For example, when building a **neural network**, one module may handle the **data preprocessing**, while another module is responsible for **model training** or **performance evaluation**.\n",
    "\n",
    "Think of **Modules, Packages, and Libraries** as **programs written by other developers**. Instead of coding everything from scratch, you can you use them\n",
    "\n",
    "Before using a module, you **must import** it into your script.  \n",
    "\n",
    "---\n"
   ]
  },
  {
   "cell_type": "code",
   "execution_count": 32,
   "metadata": {},
   "outputs": [
    {
     "name": "stdout",
     "output_type": "stream",
     "text": [
      "[ 2  4  6  8 10]\n"
     ]
    }
   ],
   "source": [
    "#Numpy arrays are great alternatives to Python Lists. Some of the key advantages of Numpy arrays are that they are fast, easy to work with, and give users the opportunity to perform calculations across entire arrays.\n",
    "\n",
    "import numpy as np  # Importing the NumPy library\n",
    "\n",
    "# Creating a simple NumPy array\n",
    "data = np.array([1, 2, 3, 4, 5])\n",
    "\n",
    "# Performing a basic operation (element-wise multiplication)\n",
    "scaled_data = data * 2  \n",
    "\n",
    "print(scaled_data)  # Output: [ 2  4  6  8 10]\n"
   ]
  },
  {
   "cell_type": "code",
   "execution_count": 33,
   "metadata": {},
   "outputs": [
    {
     "name": "stdout",
     "output_type": "stream",
     "text": [
      "         country    capital    area  population\n",
      "BR        Brazil   Brasilia   8.516      200.40\n",
      "RU        Russia     Moscow  17.100      143.50\n",
      "IN         India  New Dehli   3.286     1252.00\n",
      "CH         China    Beijing   9.597     1357.00\n",
      "SA  South Africa   Pretoria   1.221       52.98\n"
     ]
    }
   ],
   "source": [
    "# Pandas is a high-level data manipulation tool developed by Wes McKinney. It is built on the Numpy package and its key data structure is called the DataFrame. DataFrames allow you to store and manipulate tabular data in rows of observations and columns of variables.\n",
    "\n",
    "\n",
    "\n",
    "# Creating a dict to store data on brics\n",
    "bricsdata = {\"country\": [\"Brazil\", \"Russia\", \"India\", \"China\", \"South Africa\"],\n",
    "       \"capital\": [\"Brasilia\", \"Moscow\", \"New Dehli\", \"Beijing\", \"Pretoria\"],\n",
    "       \"area\": [8.516, 17.10, 3.286, 9.597, 1.221],\n",
    "       \"population\": [200.4, 143.5, 1252, 1357, 52.98] }\n",
    "\n",
    "# Import the pandas package as pd\n",
    "import pandas as pd\n",
    "\n",
    "# Create pandas dataframe from brics data\n",
    "brics = pd.DataFrame(bricsdata)\n",
    "# print(brics)\n",
    "\n",
    "# Set the index for brics\n",
    "brics.index = [\"BR\", \"RU\", \"IN\", \"CH\", \"SA\"]\n",
    "\n",
    "# Print out brics with new index values\n",
    "print(brics)\n",
    "     \n"
   ]
  },
  {
   "cell_type": "markdown",
   "metadata": {},
   "source": [
    "## Numerics: NumPy\n",
    "\n",
    "Fundamental Library for Numerical Computing in Python  \n",
    "\n",
    "**NumPy** (Numerical Python) is a powerful library for numerical computations in Python. It provides support for **multi-dimensional arrays** and **mathematical functions** to operate on them efficiently.  \n",
    "\n",
    "<u>**Why Use NumPy**</u>\n",
    "- **Fast and efficient**: Operations on NumPy arrays are much faster than Python lists.  \n",
    "- **Support for multi-dimensional arrays**: Essential for machine learning and data processing.  \n",
    "- **Built-in mathematical functions**: Enables complex computations with ease.  \n",
    "\n",
    "\n",
    "---"
   ]
  },
  {
   "cell_type": "code",
   "execution_count": 34,
   "metadata": {},
   "outputs": [],
   "source": [
    "# Importing NumPy\n",
    "\n",
    "# Before using NumPy, it must be imported: \n",
    "\n",
    "import numpy as np\n"
   ]
  },
  {
   "cell_type": "markdown",
   "metadata": {},
   "source": [
    "Entering `fun?` in Python will display the documentation for the function `fun`, if available.  \n",
    "Let's test this with `np.array()`.  \n"
   ]
  },
  {
   "cell_type": "code",
   "execution_count": 35,
   "metadata": {},
   "outputs": [],
   "source": [
    "#np.array?\n"
   ]
  },
  {
   "cell_type": "markdown",
   "metadata": {},
   "source": [
    "### Array Creation\n",
    "---"
   ]
  },
  {
   "cell_type": "markdown",
   "metadata": {},
   "source": [
    "In `numpy`, an *array* refers to a multidimensional collection of numerical values.  \n",
    "We can create one-dimensional arrays, also known as vectors, using the `np.array()` function.  \n",
    "\n",
    "Below, `x` and `y` are examples of such arrays.\n"
   ]
  },
  {
   "cell_type": "code",
   "execution_count": 36,
   "metadata": {},
   "outputs": [
    {
     "name": "stdout",
     "output_type": "stream",
     "text": [
      "Array x: [1 2 3]\n",
      "Array y: [4 5 6]\n"
     ]
    }
   ],
   "source": [
    "x = np.array([1, 2, 3])\n",
    "y = np.array([4, 5, 6])\n",
    "\n",
    "print(\"Array x:\", x)\n",
    "print(\"Array y:\", y)\n"
   ]
  },
  {
   "cell_type": "markdown",
   "metadata": {},
   "source": [
    "Because `x` and `y` were created with `np.array()`, adding them together produces the expected result.  \n",
    "This differs from the behavior seen earlier when attempting to add two standard Python lists without using `numpy`.  \n"
   ]
  },
  {
   "cell_type": "code",
   "execution_count": 37,
   "metadata": {},
   "outputs": [
    {
     "data": {
      "text/plain": [
       "array([5, 7, 9])"
      ]
     },
     "execution_count": 37,
     "metadata": {},
     "output_type": "execute_result"
    }
   ],
   "source": [
    "x + y"
   ]
  },
  {
   "cell_type": "markdown",
   "metadata": {},
   "source": [
    "In `numpy`, matrices are usually represented as two-dimensional arrays, while vectors are one-dimensional arrays.  \n",
    "{Although `np.matrix()` can also be used to define matrices, we will rely on `np.array()` throughout these labs.}  \n",
    "A two-dimensional array can be created as shown below.  \n"
   ]
  },
  {
   "cell_type": "code",
   "execution_count": 38,
   "metadata": {},
   "outputs": [
    {
     "data": {
      "text/plain": [
       "array([[1, 2],\n",
       "       [3, 4]])"
      ]
     },
     "execution_count": 38,
     "metadata": {},
     "output_type": "execute_result"
    }
   ],
   "source": [
    "x = np.array([[1, 2], [3, 4]])\n",
    "x"
   ]
  },
  {
   "cell_type": "markdown",
   "metadata": {},
   "source": [
    "Another useful routine is `linspace` for creating linearly spaced values in an interval. For instance, to create 10 values in `[0, 1]`, we can use"
   ]
  },
  {
   "cell_type": "code",
   "execution_count": 39,
   "metadata": {},
   "outputs": [
    {
     "data": {
      "text/plain": [
       "array([0.        , 0.11111111, 0.22222222, 0.33333333, 0.44444444,\n",
       "       0.55555556, 0.66666667, 0.77777778, 0.88888889, 1.        ])"
      ]
     },
     "execution_count": 39,
     "metadata": {},
     "output_type": "execute_result"
    }
   ],
   "source": [
    "np.linspace(0, 1, 10)"
   ]
  },
  {
   "cell_type": "markdown",
   "metadata": {},
   "source": [
    "The object `x` comes with multiple *attributes*—associated properties that provide useful information.  \n",
    "To access an attribute of `x`, we use the syntax `x.attribute`, replacing `attribute` with the specific name.  \n",
    "For example, we can retrieve the `ndim` attribute of `x` as shown below.  \n"
   ]
  },
  {
   "cell_type": "code",
   "execution_count": 40,
   "metadata": {},
   "outputs": [
    {
     "data": {
      "text/plain": [
       "2"
      ]
     },
     "execution_count": 40,
     "metadata": {},
     "output_type": "execute_result"
    }
   ],
   "source": [
    "x.ndim"
   ]
  },
  {
   "cell_type": "markdown",
   "metadata": {},
   "source": [
    "The result tells us that `x` is a two-dimensional array.  \n",
    "Likewise, the `x.dtype` attribute reveals the *data type* of `x`, showing that it consists of 64-bit integers:  \n"
   ]
  },
  {
   "cell_type": "code",
   "execution_count": 41,
   "metadata": {},
   "outputs": [
    {
     "data": {
      "text/plain": [
       "dtype('int64')"
      ]
     },
     "execution_count": 41,
     "metadata": {},
     "output_type": "execute_result"
    }
   ],
   "source": [
    "x.dtype"
   ]
  },
  {
   "cell_type": "markdown",
   "metadata": {},
   "source": [
    "Why does `x` contain integers? This happens because we constructed `x` using only integer values with the `np.array()` function.  \n",
    "If we had included any decimal numbers, the resulting array would consist of *floating point numbers* (i.e., real numbers).  \n"
   ]
  },
  {
   "cell_type": "code",
   "execution_count": 42,
   "metadata": {},
   "outputs": [
    {
     "data": {
      "text/plain": [
       "dtype('float64')"
      ]
     },
     "execution_count": 42,
     "metadata": {},
     "output_type": "execute_result"
    }
   ],
   "source": [
    "np.array([[1, 2], [3.0, 4]]).dtype\n"
   ]
  },
  {
   "cell_type": "markdown",
   "metadata": {},
   "source": [
    "The array `x` is a two-dimensional structure. To determine the number of rows and columns it contains, we can check its `shape` attribute.  \n"
   ]
  },
  {
   "cell_type": "code",
   "execution_count": 43,
   "metadata": {},
   "outputs": [
    {
     "data": {
      "text/plain": [
       "(2, 2)"
      ]
     },
     "execution_count": 43,
     "metadata": {},
     "output_type": "execute_result"
    }
   ],
   "source": [
    "x.shape\n"
   ]
  },
  {
   "cell_type": "markdown",
   "metadata": {},
   "source": [
    "### Basic Operations\n",
    "---"
   ]
  },
  {
   "cell_type": "markdown",
   "metadata": {},
   "source": [
    "In NumPy, functions that perform element-wise operations on arrays are known as [universal functions](https://numpy.org/doc/stable/reference/ufuncs.html).  \n"
   ]
  },
  {
   "cell_type": "code",
   "execution_count": 44,
   "metadata": {},
   "outputs": [
    {
     "data": {
      "text/plain": [
       "array([[ 0.84147098,  0.90929743],\n",
       "       [ 0.14112001, -0.7568025 ]])"
      ]
     },
     "execution_count": 44,
     "metadata": {},
     "output_type": "execute_result"
    }
   ],
   "source": [
    "np.sin(x)"
   ]
  },
  {
   "cell_type": "markdown",
   "metadata": {},
   "source": [
    "Arrays support direct arithmetic operations.  \n",
    "For example, if two arrays have compatible shapes, we can add them together like this:  \n"
   ]
  },
  {
   "cell_type": "code",
   "execution_count": 45,
   "metadata": {},
   "outputs": [
    {
     "data": {
      "text/plain": [
       "array([5, 7, 9])"
      ]
     },
     "execution_count": 45,
     "metadata": {},
     "output_type": "execute_result"
    }
   ],
   "source": [
    "array_a = np.array([1, 2, 3])\n",
    "array_b = np.array([4, 5, 6])\n",
    "array_a + array_b"
   ]
  },
  {
   "cell_type": "markdown",
   "metadata": {},
   "source": [
    "A *method* is a function that belongs to a specific object.  \n",
    "For example, if we have an array `x`, we can use the `sum()` method to compute the sum of all its elements by calling `x.sum()`.  \n",
    "This function call impl*Another* important operation is `reshape`, for changing the shape of an arrayicitly passes `x` as the first argument to its `sum()` method.\n",
    "\n",
    "Example: Sum elements of `x` by passing in `x` as an argument to the `np.sum()` function. "
   ]
  },
  {
   "cell_type": "code",
   "execution_count": 46,
   "metadata": {},
   "outputs": [
    {
     "data": {
      "text/plain": [
       "10"
      ]
     },
     "execution_count": 46,
     "metadata": {},
     "output_type": "execute_result"
    }
   ],
   "source": [
    "x = np.array([1, 2, 3, 4])\n",
    "np.sum(x)"
   ]
  },
  {
   "cell_type": "markdown",
   "metadata": {},
   "source": [
    "Another example is the `reshape()` method, which generates a new array with the same elements as `x` but a different shape.  \n",
    "To achieve this, we pass a `tuple` as an argument to `reshape()`. For instance, `(2, 3)` specifies that we want a two-dimensional array with 2 rows and 3 columns.  \n",
    "\n",
    "{Tuples, like lists, represent a sequence of objects. The key difference is that tuples are *immutable*, meaning their elements cannot be changed after creation, whereas lists allow modifications.}  \n",
    "\n",
    "In the following example, the `\\n` character is used to create a *new line* in the output.  \n"
   ]
  },
  {
   "cell_type": "code",
   "execution_count": 47,
   "metadata": {},
   "outputs": [
    {
     "name": "stdout",
     "output_type": "stream",
     "text": [
      "beginning x:\n",
      " [1 2 3 4 5 6]\n",
      "reshaped x:\n",
      " [[1 2 3]\n",
      " [4 5 6]]\n"
     ]
    }
   ],
   "source": [
    "x = np.array([1, 2, 3, 4, 5, 6])\n",
    "print('beginning x:\\n', x)\n",
    "x_reshape = x.reshape((2, 3))\n",
    "print('reshaped x:\\n', x_reshape)\n"
   ]
  },
  {
   "cell_type": "markdown",
   "metadata": {},
   "source": [
    "The output above shows that `numpy` arrays are structured as a sequence of *rows*.  \n",
    "This arrangement is known as **row-major ordering**, in contrast to *column-major ordering*.  \n"
   ]
  },
  {
   "cell_type": "markdown",
   "metadata": {},
   "source": [
    "In `Python` (and therefore `numpy`), indexing starts at 0.  \n",
    "This means that to retrieve the top-left element of `x_reshape`, we use `x_reshape[0,0]`.  \n"
   ]
  },
  {
   "cell_type": "code",
   "execution_count": 48,
   "metadata": {},
   "outputs": [
    {
     "data": {
      "text/plain": [
       "1"
      ]
     },
     "execution_count": 48,
     "metadata": {},
     "output_type": "execute_result"
    }
   ],
   "source": [
    "x_reshape[0, 0] "
   ]
  },
  {
   "cell_type": "markdown",
   "metadata": {},
   "source": [
    "We can create and reshape together"
   ]
  },
  {
   "cell_type": "code",
   "execution_count": 49,
   "metadata": {},
   "outputs": [
    {
     "data": {
      "text/plain": [
       "array([[ 0,  1,  2,  3],\n",
       "       [ 4,  5,  6,  7],\n",
       "       [ 8,  9, 10, 11],\n",
       "       [12, 13, 14, 15]])"
      ]
     },
     "execution_count": 49,
     "metadata": {},
     "output_type": "execute_result"
    }
   ],
   "source": [
    "A = np.array(np.arange(16)).reshape((4, 4))\n",
    "A"
   ]
  },
  {
   "cell_type": "markdown",
   "metadata": {},
   "source": [
    "Let's take a quick look at some useful attributes of arrays.  \n",
    "The `shape` attribute returns the array's dimensions as a tuple.  \n",
    "The `ndim` attribute indicates the number of dimensions, while `T` gives the array's transpose.  \n"
   ]
  },
  {
   "cell_type": "code",
   "execution_count": 50,
   "metadata": {},
   "outputs": [
    {
     "name": "stdout",
     "output_type": "stream",
     "text": [
      "x_reshape     :\n",
      " [[1 2 3]\n",
      " [4 5 6]]\n",
      "shape         : (2, 3)\n",
      "nr. dimensions: 2\n",
      "transpose     :\n",
      " [[1 4]\n",
      " [2 5]\n",
      " [3 6]]\n"
     ]
    }
   ],
   "source": [
    "print('x_reshape     :\\n', x_reshape)\n",
    "print('shape         :', x_reshape.shape)\n",
    "print('nr. dimensions:', x_reshape.ndim)\n",
    "print('transpose     :\\n', x_reshape.T)"
   ]
  },
  {
   "cell_type": "markdown",
   "metadata": {},
   "source": [
    "Like Python lists, NumPy arrays support slicing\n"
   ]
  },
  {
   "cell_type": "code",
   "execution_count": 51,
   "metadata": {},
   "outputs": [
    {
     "data": {
      "text/plain": [
       "array([5, 6, 7, 8, 9])"
      ]
     },
     "execution_count": 51,
     "metadata": {},
     "output_type": "execute_result"
    }
   ],
   "source": [
    "np.arange(10)[5:]"
   ]
  },
  {
   "cell_type": "markdown",
   "metadata": {},
   "source": [
    "We can also select only certain elements from the array"
   ]
  },
  {
   "cell_type": "code",
   "execution_count": 52,
   "metadata": {},
   "outputs": [
    {
     "data": {
      "text/plain": [
       "array([5, 6, 7, 8, 9])"
      ]
     },
     "execution_count": 52,
     "metadata": {},
     "output_type": "execute_result"
    }
   ],
   "source": [
    "x = np.arange(10)\n",
    "mask = x >= 5\n",
    "x[mask]"
   ]
  },
  {
   "cell_type": "markdown",
   "metadata": {},
   "source": [
    "### Exercises"
   ]
  },
  {
   "cell_type": "markdown",
   "metadata": {},
   "source": [
    "**Exercise 1** : More simple\n",
    "Create a 3x3 NumPy array filled with numbers from 1 to 9.  \n",
    "1. Access and print the element in the second row, third column.  \n",
    "2. Modify this element to be 99 and print the updated array.  \n"
   ]
  },
  {
   "cell_type": "code",
   "execution_count": 53,
   "metadata": {},
   "outputs": [
    {
     "name": "stdout",
     "output_type": "stream",
     "text": [
      "Original element: 6\n",
      "Updated array:\n",
      " [[ 1  2  3]\n",
      " [ 4  5 99]\n",
      " [ 7  8  9]]\n"
     ]
    }
   ],
   "source": [
    "# Solution\n",
    "arr = np.array([[1, 2, 3], [4, 5, 6], [7, 8, 9]])\n",
    "\n",
    "# Access element at second row, third column\n",
    "print(\"Original element:\", arr[1, 2])\n",
    "\n",
    "# Modify the element\n",
    "arr[1, 2] = 99\n",
    "\n",
    "# Print the modified array\n",
    "print(\"Updated array:\\n\", arr)\n"
   ]
  },
  {
   "cell_type": "markdown",
   "metadata": {},
   "source": [
    "**Exercise 2**: More advanced\n",
    "\n",
    "1. Manually create a **4×5 NumPy array** containing integer values.\n",
    "2. Print the **shape**, **data type**, and **number of dimensions** of the array.\n",
    "3. Convert the array’s data type to `float64` and print the updated data type.\n",
    "4. **Reshape** the array into a **2×10** array and print the new shape.\n",
    "5. **Flatten** the array into a one-dimensional array and print its shape.\n"
   ]
  },
  {
   "cell_type": "code",
   "execution_count": 54,
   "metadata": {},
   "outputs": [
    {
     "name": "stdout",
     "output_type": "stream",
     "text": [
      "Original Array:\n",
      " [[12 23 34 45 56]\n",
      " [67 78 89 90 12]\n",
      " [21 32 43 54 65]\n",
      " [76 87 98 11 22]]\n",
      "Shape: (4, 5)\n",
      "Data Type: int64\n",
      "Number of Dimensions: 2\n",
      "Updated Data Type: float64\n",
      "New Shape (2x10): (2, 10)\n",
      "Flattened Shape: (20,)\n"
     ]
    }
   ],
   "source": [
    "# Step 1: Manually create a 4x5 array with integer values\n",
    "arr = np.array([[12, 23, 34, 45, 56],\n",
    "                [67, 78, 89, 90, 12],\n",
    "                [21, 32, 43, 54, 65],\n",
    "                [76, 87, 98, 11, 22]])\n",
    "\n",
    "print(\"Original Array:\\n\", arr)\n",
    "\n",
    "# Step 2: Print shape, data type, and number of dimensions\n",
    "print(\"Shape:\", arr.shape)\n",
    "print(\"Data Type:\", arr.dtype)\n",
    "print(\"Number of Dimensions:\", arr.ndim)\n",
    "\n",
    "# Step 3: Convert the array to float64\n",
    "arr_float = arr.astype(np.float64)\n",
    "print(\"Updated Data Type:\", arr_float.dtype)\n",
    "\n",
    "# Step 4: Reshape the array to 2x10\n",
    "arr_reshaped = arr_float.reshape(2, 10)\n",
    "print(\"New Shape (2x10):\", arr_reshaped.shape)\n",
    "\n",
    "# Step 5: Flatten the array\n",
    "arr_flattened = arr_reshaped.flatten()\n",
    "print(\"Flattened Shape:\", arr_flattened.shape)\n"
   ]
  },
  {
   "cell_type": "markdown",
   "metadata": {},
   "source": [
    "---"
   ]
  },
  {
   "cell_type": "markdown",
   "metadata": {},
   "source": [
    "### Numerical Python\n",
    "---"
   ]
  },
  {
   "cell_type": "markdown",
   "metadata": {},
   "source": [
    "#### Random Module\n",
    "\n",
    "The `np.random` module in NumPy provides functions for generating random numbers, which are useful in simulations, machine learning, and statistical modeling.  \n",
    "\n",
    "**Key Functionalities:**  \n",
    "- **Generating random integers:** `np.random.randint(low, high, size, dtype)`  \n",
    "- **Generating random floats:** `np.random.random(size)` or `np.random.rand(dim1, dim2, ...)`  \n",
    "- **Sampling from distributions:** `np.random.normal(mean, std, size)`, `np.random.uniform(low, high, size)`  \n",
    "- **Shuffling arrays:** `np.random.shuffle(arr)`  \n",
    "- **Setting a random seed:** `np.random.seed(seed_value)` (for reproducibility)  \n",
    "\n",
    "---"
   ]
  },
  {
   "cell_type": "markdown",
   "metadata": {},
   "source": [
    "We generate 50 independent random variables from a $N(0,1)$ distribution. "
   ]
  },
  {
   "cell_type": "code",
   "execution_count": 55,
   "metadata": {},
   "outputs": [
    {
     "data": {
      "text/plain": [
       "array([-0.02214221, -0.66299996,  0.11320552,  0.42454177, -1.89430292,\n",
       "       -0.8668241 , -0.61762688,  0.77236343,  1.37693474, -0.66278298,\n",
       "        1.12137976, -0.8333847 ,  0.66162536, -1.17031999, -0.06324123,\n",
       "        0.82929948, -1.55076274,  0.06559568,  0.60017852,  0.35182882,\n",
       "       -0.89400962,  0.22002591,  2.32923999, -0.41785825,  0.68293337,\n",
       "        0.05355447,  0.22700921, -0.63952637, -1.00404987, -0.98187351,\n",
       "        0.5227687 ,  0.98654154, -1.8840941 ,  1.2031928 , -0.1406735 ,\n",
       "        0.87629882, -0.26895539, -0.30892473,  0.05087462,  1.87199042,\n",
       "        2.55035126, -0.64438385, -0.21653068, -0.98323305,  0.26924886,\n",
       "        0.56735001,  0.09488413,  0.25225958,  0.44366411,  1.07329326])"
      ]
     },
     "execution_count": 55,
     "metadata": {},
     "output_type": "execute_result"
    }
   ],
   "source": [
    "x = np.random.normal(size=50)\n",
    "x"
   ]
  },
  {
   "cell_type": "markdown",
   "metadata": {},
   "source": [
    "We get a **different set of results** any time we execute. We need to fix the seeding."
   ]
  },
  {
   "cell_type": "markdown",
   "metadata": {},
   "source": [
    "When working with **random number generation** in NumPy, results will vary each time the code is executed. To ensure **reproducibility**, we can set a **random seed** using `np.random.seed()`. This ensures that every time the script runs, the same sequence of random numbers is generated.\n",
    "\n",
    "**Why Use a Random Seed?**\n",
    "- Guarantees **consistent results** across multiple runs.\n",
    "- Essential for **debugging** and comparing results.\n",
    "- Useful when **training machine learning models** to ensure reproducibility.\n",
    "\n",
    "**How to Set a Random Seed**\n",
    "```python\n",
    "# Set the seed for reproducibility\n",
    "np.random.seed(42)"
   ]
  },
  {
   "cell_type": "code",
   "execution_count": 56,
   "metadata": {},
   "outputs": [
    {
     "data": {
      "text/plain": [
       "array([ 0.49671415, -0.1382643 ,  0.64768854,  1.52302986, -0.23415337,\n",
       "       -0.23413696,  1.57921282,  0.76743473, -0.46947439,  0.54256004,\n",
       "       -0.46341769, -0.46572975,  0.24196227, -1.91328024, -1.72491783,\n",
       "       -0.56228753, -1.01283112,  0.31424733, -0.90802408, -1.4123037 ,\n",
       "        1.46564877, -0.2257763 ,  0.0675282 , -1.42474819, -0.54438272,\n",
       "        0.11092259, -1.15099358,  0.37569802, -0.60063869, -0.29169375,\n",
       "       -0.60170661,  1.85227818, -0.01349722, -1.05771093,  0.82254491,\n",
       "       -1.22084365,  0.2088636 , -1.95967012, -1.32818605,  0.19686124,\n",
       "        0.73846658,  0.17136828, -0.11564828, -0.3011037 , -1.47852199,\n",
       "       -0.71984421, -0.46063877,  1.05712223,  0.34361829, -1.76304016])"
      ]
     },
     "execution_count": 56,
     "metadata": {},
     "output_type": "execute_result"
    }
   ],
   "source": [
    "np.random.seed(42)\n",
    "x = np.random.normal(size=50)\n",
    "x"
   ]
  },
  {
   "cell_type": "markdown",
   "metadata": {},
   "source": [
    "#### Statistics  \n",
    "\n",
    "NumPy provides powerful tools for statistical analysis, making it a fundamental library for data science and machine learning. It offers various functions to compute descriptive statistics, such as mean, median, standard deviation, and correlation.  \n",
    "\n",
    "**Commonly Used Statistical Functions in NumPy**:\n",
    "- `np.mean()`: Computes the mean (average) of an array.\n",
    "- `np.median()`: Finds the median value.\n",
    "- `np.std()`: Calculates the standard deviation.\n",
    "- `np.var()`: Computes the variance.\n",
    "- `np.min()` / `np.max()`: Returns the minimum and maximum values.\n",
    "- `np.percentile()`: Finds specific percentiles in the dataset.\n",
    "- `np.corrcoef()`: Computes the correlation matrix.\n",
    "- `np.histogram()`: Creates a histogram representation of data.\n",
    "\n",
    "Below are some Python examples demonstrating these functions.\n"
   ]
  },
  {
   "cell_type": "code",
   "execution_count": 57,
   "metadata": {},
   "outputs": [
    {
     "name": "stdout",
     "output_type": "stream",
     "text": [
      "Mean: 48.4423022390886\n",
      "Median: 48.09565562330431\n",
      "Standard Deviation: 13.554242649669444\n",
      "Variance: 183.71749380611817\n",
      "Variance hand: 0.6666666666666666\n",
      "Min: 10.703823438653835 Max: 77.78417276763406\n",
      "25th Percentile: 40.98641494255321\n",
      "50th Percentile (Median): 48.09565562330431\n",
      "75th Percentile: 56.08928078018093\n"
     ]
    }
   ],
   "source": [
    "# Set random seed for reproducibility\n",
    "np.random.seed(42)\n",
    "\n",
    "# Generate random dataset (100 values from a normal distribution)\n",
    "# np.random.normal(mean, std, size)\n",
    "data = np.random.normal(loc=50, scale=15, size=100)\n",
    "\n",
    "# Compute basic statistics\n",
    "mean_value = np.mean(data)\n",
    "median_value = np.median(data)\n",
    "std_dev = np.std(data)\n",
    "variance = np.var(data)\n",
    "min_value = np.min(data)\n",
    "max_value = np.max(data)\n",
    "\n",
    "# Compute percentiles\n",
    "q25 = np.percentile(data, 25)  # 25th percentile\n",
    "q50 = np.percentile(data, 50)  # Median (50th percentile)\n",
    "q75 = np.percentile(data, 75)  # 75th percentile\n",
    "\n",
    "print(\"Mean:\", mean_value)\n",
    "print(\"Median:\", median_value)\n",
    "print(\"Standard Deviation:\", std_dev)\n",
    "print(\"Variance:\", variance)\n",
    "print(\"Variance hand:\", np.mean((y - y.mean())**2))\n",
    "print(\"Min:\", min_value, \"Max:\", max_value)\n",
    "print(\"25th Percentile:\", q25)\n",
    "print(\"50th Percentile (Median):\", q50)\n",
    "print(\"75th Percentile:\", q75)\n"
   ]
  },
  {
   "cell_type": "markdown",
   "metadata": {},
   "source": [
    "#### Exercises"
   ]
  },
  {
   "cell_type": "markdown",
   "metadata": {},
   "source": [
    "**Exercise 1** \n",
    "\n",
    "Generate two **random datasets** of **250 values** each:  \n",
    "\n",
    "1. One using `np.random.uniform()` (floating-point values between **10 and 100**).  \n",
    "2. Another using `np.random.normal()` (normally distributed data with a **mean of 55** and **standard deviation of 15**).  \n",
    "\n",
    "Perform the following tasks:  \n",
    "- Compute the **correlation coefficient matrix** between the two datasets (use `np.corrcoef`function).  \n",
    "\n",
    "EXTRA:\n",
    "- Compute the **skewness** and **kurtosis** of each dataset.  \n",
    "- Find the **5th, 25th, 50th (median), 75th, and 95th percentiles** of each dataset.  \n",
    "- Normalize both datasets to have **zero mean and unit variance** (standardization).  \n",
    "- After standardization, compute the **new mean and standard deviation** of both datasets to verify correctness.  "
   ]
  },
  {
   "cell_type": "code",
   "execution_count": 58,
   "metadata": {},
   "outputs": [
    {
     "name": "stdout",
     "output_type": "stream",
     "text": [
      "Correlation Matrix:\n",
      " [[1.         0.15091028]\n",
      " [0.15091028 1.        ]]\n",
      "\n",
      "Dataset 1 - Skewness: -0.021627525735899496 Kurtosis: -1.1870764128816396\n",
      "Dataset 2 - Skewness: 0.18293757051883225 Kurtosis: -0.24073860946709047\n",
      "\n",
      "Dataset 1 Percentiles (5th, 25th, 50th, 75th, 95th): [13.33850554 31.8284978  56.2777033  74.25925726 94.8033551 ]\n",
      "Dataset 2 Percentiles (5th, 25th, 50th, 75th, 95th): [31.49070116 43.6842296  54.76930068 64.43962013 78.90635409]\n",
      "\n",
      "After Standardization - Dataset 1 Mean: -1.5987211554602254e-16 Std Dev: 1.0\n",
      "After Standardization - Dataset 2 Mean: -2.0605739337042906e-16 Std Dev: 1.0\n"
     ]
    }
   ],
   "source": [
    "# Solution\n",
    "import numpy as np\n",
    "from scipy.stats import skew, kurtosis\n",
    "\n",
    "# Generate random datasets\n",
    "dataset_1 = np.random.uniform(10, 100, size=250)\n",
    "dataset_2 = np.random.normal(55, 15, size=250)\n",
    "\n",
    "# Compute correlation matrix\n",
    "correlation_matrix = np.corrcoef(dataset_1, dataset_2)\n",
    "\n",
    "# Compute skewness and kurtosis\n",
    "skew_1, skew_2 = skew(dataset_1), skew(dataset_2)\n",
    "kurtosis_1, kurtosis_2 = kurtosis(dataset_1), kurtosis(dataset_2)\n",
    "\n",
    "# Compute percentiles\n",
    "percentiles_1 = np.percentile(dataset_1, [5, 25, 50, 75, 95])\n",
    "percentiles_2 = np.percentile(dataset_2, [5, 25, 50, 75, 95])\n",
    "\n",
    "# Standardization (zero mean, unit variance)\n",
    "dataset_1_std = (dataset_1 - np.mean(dataset_1)) / np.std(dataset_1)\n",
    "dataset_2_std = (dataset_2 - np.mean(dataset_2)) / np.std(dataset_2)\n",
    "\n",
    "# Verify standardization\n",
    "mean_1, std_1 = np.mean(dataset_1_std), np.std(dataset_1_std)\n",
    "mean_2, std_2 = np.mean(dataset_2_std), np.std(dataset_2_std)\n",
    "\n",
    "# Print results\n",
    "print(\"Correlation Matrix:\\n\", correlation_matrix)\n",
    "print(\"\\nDataset 1 - Skewness:\", skew_1, \"Kurtosis:\", kurtosis_1)\n",
    "print(\"Dataset 2 - Skewness:\", skew_2, \"Kurtosis:\", kurtosis_2)\n",
    "print(\"\\nDataset 1 Percentiles (5th, 25th, 50th, 75th, 95th):\", percentiles_1)\n",
    "print(\"Dataset 2 Percentiles (5th, 25th, 50th, 75th, 95th):\", percentiles_2)\n",
    "print(\"\\nAfter Standardization - Dataset 1 Mean:\", mean_1, \"Std Dev:\", std_1)\n",
    "print(\"After Standardization - Dataset 2 Mean:\", mean_2, \"Std Dev:\", std_2)\n"
   ]
  },
  {
   "cell_type": "markdown",
   "metadata": {},
   "source": [
    "## Graphics: Matplotlib\n",
    "\n",
    "**Introduction to Matplotlib**\n",
    "Matplotlib is a powerful **Python library** for creating **static, animated, and interactive visualizations**. It provides tools to plot data in various formats, making it essential for **analyzing and visualizing trends** in datasets used for Machine Learning and Deep Learning.\n",
    "\n",
    "In the context of **Neural Networks**, visualization is crucial for:\n",
    "- Understanding **data distributions** before training.\n",
    "- Monitoring **loss and accuracy curves** during training.\n",
    "- Visualizing **activation functions and decision boundaries**.\n",
    "- Inspecting **model predictions** and errors.\n",
    "\n",
    "**Common Matplotlib Applications in Neural Networks**\n",
    "1. **Visualizing Data Distributions**: Ensuring balanced data before training.\n",
    "2. **Plotting Training Loss and Accuracy**: Evaluating model performance over epochs.\n",
    "3. **Displaying Feature Maps in CNNs**: Understanding convolutional layers.\n",
    "4. **Comparing Model Predictions with Actual Labels**: Detecting misclassification.\n",
    "\n",
    "---"
   ]
  },
  {
   "cell_type": "code",
   "execution_count": 59,
   "metadata": {},
   "outputs": [],
   "source": [
    "from matplotlib import pyplot as plt"
   ]
  },
  {
   "cell_type": "markdown",
   "metadata": {},
   "source": [
    "### Plot\n",
    "We can generate data and plot it as a smooth line.\n"
   ]
  },
  {
   "cell_type": "code",
   "execution_count": 60,
   "metadata": {},
   "outputs": [
    {
     "data": {
      "image/png": "[encoded data removed]",
      "text/plain": [
       "<Figure size 640x480 with 1 Axes>"
      ]
     },
     "metadata": {},
     "output_type": "display_data"
    }
   ],
   "source": [
    "x_values = np.linspace(-3, 3, 100)\n",
    "\n",
    "plt.figure()\n",
    "plt.plot(x_values, np.sin(x_values), label=\"Sinusoid\")\n",
    "plt.xlabel(\"x\")\n",
    "plt.ylabel(\"sin(x)\")\n",
    "plt.title(\"Matplotlib example\")\n",
    "plt.legend(loc=\"upper left\")\n",
    "plt.show()"
   ]
  },
  {
   "cell_type": "markdown",
   "metadata": {},
   "source": [
    "### Scattered Plot\n",
    "We can visualize the relationship between two sets of randomly generated data points. This is useful for understanding data distribution before applying other techniques."
   ]
  },
  {
   "cell_type": "code",
   "execution_count": 61,
   "metadata": {},
   "outputs": [
    {
     "data": {
      "image/png": "[encoded data removed]",
      "text/plain": [
       "<Figure size 700x500 with 2 Axes>"
      ]
     },
     "metadata": {},
     "output_type": "display_data"
    }
   ],
   "source": [
    "import numpy as np\n",
    "import matplotlib.pyplot as plt\n",
    "\n",
    "# Generate random data\n",
    "np.random.seed(42)\n",
    "x = np.random.rand(100)\n",
    "y = x * 2 + np.random.normal(0, 0.1, 100)  # Linear relation with noise\n",
    "\n",
    "# Scatter plot\n",
    "plt.figure(figsize=(7, 5))\n",
    "plt.scatter(x, y, c=y, cmap=\"viridis\", alpha=0.7)\n",
    "plt.colorbar(label=\"Value Intensity\")\n",
    "plt.xlabel(\"Feature 1\")\n",
    "plt.ylabel(\"Feature 2\")\n",
    "plt.title(\"Scatter Plot of Random Data\")\n",
    "plt.show()\n"
   ]
  },
  {
   "cell_type": "markdown",
   "metadata": {},
   "source": [
    "### Histogram\n",
    "We can plot histograms of data to obtain information about the distribution of the data."
   ]
  },
  {
   "cell_type": "code",
   "execution_count": 62,
   "metadata": {},
   "outputs": [
    {
     "data": {
      "image/png": "[encoded data removed]",
      "text/plain": [
       "<Figure size 700x500 with 1 Axes>"
      ]
     },
     "metadata": {},
     "output_type": "display_data"
    }
   ],
   "source": [
    "# Generate normally distributed data\n",
    "data = np.random.normal(loc=0, scale=1, size=1000)\n",
    "\n",
    "# Histogram\n",
    "plt.figure(figsize=(7, 5))\n",
    "plt.hist(data, bins=30, color=\"blue\", alpha=0.7, edgecolor=\"black\")\n",
    "plt.xlabel(\"Value\")\n",
    "plt.ylabel(\"Frequency\")\n",
    "plt.title(\"Histogram of Normally Distributed Data\")\n",
    "plt.show()\n"
   ]
  },
  {
   "cell_type": "markdown",
   "metadata": {},
   "source": [
    "### Boxplots\n",
    "To represent distributions of different data at the same time. This is useful for comparing different categories in a dataset."
   ]
  },
  {
   "cell_type": "code",
   "execution_count": 63,
   "metadata": {},
   "outputs": [
    {
     "data": {
      "image/png": "[encoded data removed]",
      "text/plain": [
       "<Figure size 700x500 with 1 Axes>"
      ]
     },
     "metadata": {},
     "output_type": "display_data"
    }
   ],
   "source": [
    "# Generate random data for different groups\n",
    "group_1 = np.random.normal(0, 1, 100)\n",
    "group_2 = np.random.normal(1, 1, 100)\n",
    "group_3 = np.random.normal(2, 1, 100)\n",
    "\n",
    "# Create boxplot\n",
    "plt.figure(figsize=(7, 5))\n",
    "plt.boxplot([group_1, group_2, group_3], tick_labels=[\"Group 1\", \"Group 2\", \"Group 3\"])\n",
    "plt.xlabel(\"Groups\")\n",
    "plt.ylabel(\"Values\")\n",
    "plt.title(\"Boxplot of Random Data Groups\")\n",
    "plt.show()\n"
   ]
  },
  {
   "cell_type": "markdown",
   "metadata": {},
   "source": [
    "### Cost Function Evolution \n",
    "Typical Plot** in Deep Learning Problems"
   ]
  },
  {
   "cell_type": "code",
   "execution_count": 64,
   "metadata": {},
   "outputs": [
    {
     "data": {
      "image/png": "[encoded data removed]",
      "text/plain": [
       "<Figure size 800x500 with 1 Axes>"
      ]
     },
     "metadata": {},
     "output_type": "display_data"
    }
   ],
   "source": [
    "# Simulating loss function values for training and testing\n",
    "epochs = np.arange(1, 101)  # 100 epochs\n",
    "train_loss = np.exp(-epochs / 20) + np.random.normal(0, 0.02, len(epochs))  # Simulated decay with noise\n",
    "test_loss = np.exp(-epochs / 25) + np.random.normal(0, 0.02, len(epochs)) + 0.1  # Slightly different decay with noise\n",
    "\n",
    "# Plotting the cost function evolution\n",
    "plt.figure(figsize=(8, 5))\n",
    "plt.plot(epochs, train_loss, label=\"Training Loss\", color='blue', linewidth=2)\n",
    "plt.plot(epochs, test_loss, label=\"Validation Loss\", color='red', linestyle='dashed', linewidth=2)\n",
    "\n",
    "# Highlighting key points\n",
    "plt.scatter([epochs[-1]], [train_loss[-1]], color='blue', edgecolor='black', zorder=3)\n",
    "plt.scatter([epochs[-1]], [test_loss[-1]], color='red', edgecolor='black', zorder=3)\n",
    "\n",
    "# Adding labels and title\n",
    "plt.xlabel(\"Epochs\")\n",
    "plt.ylabel(\"Loss\")\n",
    "plt.title(\"Training vs Validation Loss Evolution\")\n",
    "plt.legend()\n",
    "plt.grid(True)\n",
    "\n",
    "# Show the plot\n",
    "plt.show()\n"
   ]
  },
  {
   "cell_type": "markdown",
   "metadata": {},
   "source": [
    "### Exercise\n",
    "Generate a dataset of **random values following a normal distribution** (Gaussian) with **mean = 50 and standard deviation = 10**.  \n",
    "- **Plot a histogram** of the dataset with appropriate bins.  \n",
    "- **Overlay the probability density function (PDF)** of the corresponding normal distribution.\n",
    "- Label the axes and add a title to the plot.\n",
    "\n",
    "To compute the PDF use the scipy library as follows:\n",
    "```python\n",
    "\n",
    "from scipy.stats import norm\n",
    "\n",
    "(...)\n",
    "pdf = norm.pdf(x, mean, std_dev)  # Compute PDF values\n"
   ]
  },
  {
   "cell_type": "code",
   "execution_count": 65,
   "metadata": {},
   "outputs": [
    {
     "data": {
      "image/png": "[encoded data removed]",
      "text/plain": [
       "<Figure size 800x500 with 1 Axes>"
      ]
     },
     "metadata": {},
     "output_type": "display_data"
    }
   ],
   "source": [
    "from scipy.stats import norm\n",
    "\n",
    "# set the seed\n",
    "np.random.seed(42)\n",
    "\n",
    "# Step 1: Generate random data from a normal distribution\n",
    "mean = 50\n",
    "std_dev = 10\n",
    "data = np.random.normal(mean, std_dev, 1000)  # Generate 1000 samples\n",
    "\n",
    "# Step 2: Compute the probability density function (PDF)\n",
    "x = np.linspace(min(data), max(data), 100)  # Define x-axis values\n",
    "pdf = norm.pdf(x, mean, std_dev)  # Compute PDF values\n",
    "\n",
    "# Step 3: Plot the histogram\n",
    "plt.figure(figsize=(8, 5))\n",
    "plt.hist(data, bins=30, density=True, alpha=0.6, color='b', edgecolor='black', label=\"Histogram\")\n",
    "\n",
    "# Step 4: Overlay the normal distribution curve\n",
    "plt.plot(x, pdf, 'r-', linewidth=2, label=\"Normal PDF\")\n",
    "\n",
    "# Step 5: Labels, title, and legend\n",
    "plt.xlabel(\"Value\")\n",
    "plt.ylabel(\"Density\")\n",
    "plt.title(\"Histogram with Normal Distribution Overlay\")\n",
    "plt.legend()\n",
    "plt.grid(True)\n",
    "\n",
    "# Show the plot\n",
    "plt.show()\n"
   ]
  },
  {
   "cell_type": "markdown",
   "metadata": {},
   "source": [
    "## Data Management: Pandas\n",
    "\n",
    "Datasets often contain various data types and may include labeled rows or columns.  \n",
    "\n",
    "Pandas is a powerful **Python library** for **data manipulation and analysis**. It provides two primary data structures:  \n",
    "- **Series** (1D labeled array)  \n",
    "- **DataFrame** (2D table similar to an Excel spreadsheet)  \n",
    "\n",
    "A **DataFrame** is commonly used to handle such structured data efficiently since it can be thought of as a collection of **columns**, where each column is an array of the same length.  \n",
    "Rows are formed by combining corresponding entries from each column.  \n",
    "\n",
    "---"
   ]
  },
  {
   "cell_type": "code",
   "execution_count": 66,
   "metadata": {},
   "outputs": [],
   "source": [
    "import pandas as pd\n"
   ]
  },
  {
   "cell_type": "markdown",
   "metadata": {},
   "source": [
    "### Create\n",
    "We can create a DataFrame from a dictionary"
   ]
  },
  {
   "cell_type": "code",
   "execution_count": 67,
   "metadata": {},
   "outputs": [
    {
     "name": "stdout",
     "output_type": "stream",
     "text": [
      "      Name  Age  Salary\n",
      "0    Alice   25   50000\n",
      "1      Bob   30   60000\n",
      "2  Charlie   35   70000\n"
     ]
    }
   ],
   "source": [
    "data = {\n",
    "    \"Name\": [\"Alice\", \"Bob\", \"Charlie\"],\n",
    "    \"Age\": [25, 30, 35],\n",
    "    \"Salary\": [50000, 60000, 70000]\n",
    "}\n",
    "\n",
    "df = pd.DataFrame(data)\n",
    "print(df)\n"
   ]
  },
  {
   "cell_type": "markdown",
   "metadata": {},
   "source": [
    "### Load from csv\n",
    "We can load a .csv"
   ]
  },
  {
   "cell_type": "code",
   "execution_count": 68,
   "metadata": {},
   "outputs": [
    {
     "name": "stdout",
     "output_type": "stream",
     "text": [
      "   Duration  Pulse  Maxpulse  Calories\n",
      "0        60    110       130     409.1\n",
      "1        60    117       145     479.0\n",
      "2        60    103       135     340.0\n",
      "3        45    109       175     282.4\n",
      "4        45    117       148     406.0\n"
     ]
    }
   ],
   "source": [
    "df = pd.read_csv(\"data.csv\")  # Load data from a CSV file\n",
    "print(df.head())  # Display the first 5 rows\n"
   ]
  },
  {
   "cell_type": "markdown",
   "metadata": {},
   "source": [
    "### Access\n",
    "We can access and filter some data\n"
   ]
  },
  {
   "cell_type": "code",
   "execution_count": 69,
   "metadata": {},
   "outputs": [
    {
     "name": "stdout",
     "output_type": "stream",
     "text": [
      "0      110\n",
      "1      117\n",
      "2      103\n",
      "3      109\n",
      "4      117\n",
      "      ... \n",
      "164    105\n",
      "165    110\n",
      "166    115\n",
      "167    120\n",
      "168    125\n",
      "Name: Pulse, Length: 169, dtype: int64\n",
      "Duration     60.0\n",
      "Pulse       110.0\n",
      "Maxpulse    130.0\n",
      "Calories    409.1\n",
      "Name: 0, dtype: float64\n",
      "     Duration  Pulse  Maxpulse  Calories\n",
      "1          60    117       145     479.0\n",
      "4          45    117       148     406.0\n",
      "22         60    130       101     300.0\n",
      "35         60    114       140     415.0\n",
      "43         60    111       138     400.0\n",
      "44         60    111       131     397.0\n",
      "47         45    111       136     300.0\n",
      "49         60    111       139     397.6\n",
      "51         80    123       146     643.1\n",
      "53         60    118       151     486.0\n",
      "54         30    136       175     238.0\n",
      "55         60    121       146     450.7\n",
      "56         60    118       121     413.0\n",
      "57         45    115       144     305.0\n",
      "58         20    153       172     226.4\n",
      "59         45    123       152     321.0\n",
      "63         45    118       141     341.0\n",
      "74         45    114       146     304.0\n",
      "80         30    159       182     319.2\n",
      "81         45    149       169     344.0\n",
      "85         30    151       170     300.0\n",
      "88         45    129       103     242.0\n",
      "94         20    150       171     127.4\n",
      "95         20    151       168     229.4\n",
      "97         25    152       168     244.2\n",
      "109       210    137       184    1860.4\n",
      "112        15    124       139     124.2\n",
      "116        60    116       141     443.0\n",
      "120        30    112       137     193.9\n",
      "122        60    119       169     336.7\n",
      "124        60    111       151     368.5\n",
      "129        60    114       151     384.0\n",
      "135        20    136       156     189.0\n",
      "136        45    117       143     317.7\n",
      "137        45    115       137     318.0\n",
      "138        45    113       138     308.0\n",
      "139        20    141       162     222.4\n",
      "143        45    122       149     335.4\n",
      "144        60    136       170     470.2\n",
      "147        60    112       146     361.9\n",
      "153        30    150       167     275.8\n",
      "155        60    111       151     368.5\n",
      "158        60    114       150     382.8\n",
      "166        60    115       145     310.2\n",
      "167        75    120       150     320.4\n",
      "168        75    125       150     330.4\n"
     ]
    }
   ],
   "source": [
    "print(df[\"Pulse\"])  # Access a specific column\n",
    "print(df.iloc[0])  # Access the first row\n",
    "print(df.loc[df[\"Pulse\"] > 110])  # Filter rows where Age > 28\n"
   ]
  },
  {
   "cell_type": "markdown",
   "metadata": {},
   "source": [
    "### Save to csv"
   ]
  },
  {
   "cell_type": "code",
   "execution_count": 70,
   "metadata": {},
   "outputs": [
    {
     "name": "stdout",
     "output_type": "stream",
     "text": [
      "      Name  Age         City\n",
      "0    Alice   25     New York\n",
      "1      Bob   30  Los Angeles\n",
      "2  Charlie   35      Chicago\n",
      "Data saved successfully to sample_data.csv\n"
     ]
    }
   ],
   "source": [
    "# Create a sample DataFrame\n",
    "data = {\n",
    "    \"Name\": [\"Alice\", \"Bob\", \"Charlie\"],\n",
    "    \"Age\": [25, 30, 35],\n",
    "    \"City\": [\"New York\", \"Los Angeles\", \"Chicago\"]\n",
    "}\n",
    "\n",
    "df = pd.DataFrame(data)\n",
    "\n",
    "print(df)  \n",
    "\n",
    "# Save the DataFrame to a CSV file\n",
    "df.to_csv(\"sample_data.csv\", index=False)\n",
    "\n",
    "print(\"Data saved successfully to sample_data.csv\")\n"
   ]
  },
  {
   "cell_type": "markdown",
   "metadata": {},
   "source": [
    "### Other Operations"
   ]
  },
  {
   "cell_type": "markdown",
   "metadata": {},
   "source": [
    "If a value is missing, we can substitute it\n"
   ]
  },
  {
   "cell_type": "code",
   "execution_count": 71,
   "metadata": {},
   "outputs": [
    {
     "name": "stdout",
     "output_type": "stream",
     "text": [
      "Original DataFrame with Missing Values:\n",
      "       Name   Age         City\n",
      "0    Alice  25.0     New York\n",
      "1      Bob   NaN  Los Angeles\n",
      "2  Charlie  35.0          NaN\n",
      "3    David  40.0      Chicago\n",
      "\n",
      "DataFrame after Filling Missing Values:\n",
      "       Name        Age         City\n",
      "0    Alice  25.000000     New York\n",
      "1      Bob  33.333333  Los Angeles\n",
      "2  Charlie  35.000000      Unknown\n",
      "3    David  40.000000      Chicago\n",
      "\n",
      "DataFrame after Dropping Missing Values:\n",
      "     Name   Age      City\n",
      "0  Alice  25.0  New York\n",
      "3  David  40.0   Chicago\n"
     ]
    }
   ],
   "source": [
    "# A DataFrame with missing values\n",
    "data = {\n",
    "    \"Name\": [\"Alice\", \"Bob\", \"Charlie\", \"David\"],\n",
    "    \"Age\": [25, np.nan, 35, 40],  # Missing value in Age\n",
    "    \"City\": [\"New York\", \"Los Angeles\", np.nan, \"Chicago\"]  # Missing value in City\n",
    "}\n",
    "\n",
    "df_missing = pd.DataFrame(data)\n",
    "\n",
    "# Display the DataFrame with missing values\n",
    "print(\"Original DataFrame with Missing Values:\\n\", df_missing)\n",
    "\n",
    "# Handling missing values: Fill missing values with a default value\n",
    "df_filled = df_missing.fillna({\"Age\": df_missing[\"Age\"].mean(), \"City\": \"Unknown\"})\n",
    "\n",
    "print(\"\\nDataFrame after Filling Missing Values:\\n\", df_filled)\n",
    "\n",
    "# Alternatively, drop rows with missing values\n",
    "df_dropped = df_missing.dropna()\n",
    "\n",
    "print(\"\\nDataFrame after Dropping Missing Values:\\n\", df_dropped)\n",
    "\n"
   ]
  },
  {
   "cell_type": "markdown",
   "metadata": {},
   "source": [
    "We can sort the data"
   ]
  },
  {
   "cell_type": "code",
   "execution_count": 72,
   "metadata": {},
   "outputs": [
    {
     "name": "stdout",
     "output_type": "stream",
     "text": [
      "\n",
      "DataFrame Sorted by Age (Ascending):\n",
      "       Name        Age         City\n",
      "0    Alice  25.000000     New York\n",
      "1      Bob  33.333333  Los Angeles\n",
      "2  Charlie  35.000000      Unknown\n",
      "3    David  40.000000      Chicago\n",
      "\n",
      "DataFrame Sorted by Age (Descending):\n",
      "       Name        Age         City\n",
      "3    David  40.000000      Chicago\n",
      "2  Charlie  35.000000      Unknown\n",
      "1      Bob  33.333333  Los Angeles\n",
      "0    Alice  25.000000     New York\n"
     ]
    }
   ],
   "source": [
    "# Sorting the DataFrame by Age in ascending order\n",
    "df_sorted = df_filled.sort_values(by=\"Age\")\n",
    "print(\"\\nDataFrame Sorted by Age (Ascending):\\n\", df_sorted)\n",
    "\n",
    "# Sorting the DataFrame by Age in descending order\n",
    "df_sorted_desc = df_filled.sort_values(by=\"Age\", ascending=False)\n",
    "print(\"\\nDataFrame Sorted by Age (Descending):\\n\", df_sorted_desc)\n",
    "\n"
   ]
  },
  {
   "cell_type": "markdown",
   "metadata": {},
   "source": [
    "We can group and aggregate data"
   ]
  },
  {
   "cell_type": "code",
   "execution_count": 73,
   "metadata": {},
   "outputs": [
    {
     "name": "stdout",
     "output_type": "stream",
     "text": [
      "\n",
      "Average Age by City:\n",
      " City\n",
      "Chicago        40.000000\n",
      "Los Angeles    33.333333\n",
      "New York       25.000000\n",
      "Unknown        35.000000\n",
      "Name: Age, dtype: float64\n",
      "\n",
      "Count of People per City:\n",
      " City\n",
      "Chicago        1\n",
      "Los Angeles    1\n",
      "New York       1\n",
      "Unknown        1\n",
      "Name: Name, dtype: int64\n"
     ]
    }
   ],
   "source": [
    "\n",
    "# Grouping by City and calculating the average Age for each group\n",
    "df_grouped = df_filled.groupby(\"City\")[\"Age\"].mean()\n",
    "print(\"\\nAverage Age by City:\\n\", df_grouped)\n",
    "\n",
    "# Grouping by City and counting the number of occurrences\n",
    "df_grouped_count = df_filled.groupby(\"City\")[\"Name\"].count()\n",
    "print(\"\\nCount of People per City:\\n\", df_grouped_count)\n"
   ]
  },
  {
   "cell_type": "markdown",
   "metadata": {},
   "source": [
    "### Exercise\n",
    "Handling and Analyzing Employee Data with Pandas\n",
    "\n",
    "You will work with a CSV file containing employee data. Your task is to load the data, handle missing values, sort the data, group it by specific attributes, and analyze key metrics.\n",
    "\n",
    "1. **Load the Data:** Read the `example_pandas.csv` file into a Pandas DataFrame.\n",
    "2. **Handle Missing Values:** Replace any missing values in the `Salary` column with the average salary.\n",
    "3. **Sort the Data:** Sort the employees by `Salary` in descending order.\n",
    "4. **Group Data:**\n",
    "   - Compute the **average salary** per `Department`.\n",
    "   - Count the **number of employees** per `City`.\n",
    "5. **Save the Processed Data:** Write the sorted data to a new CSV file named `example_pandas_sorted.csv`.\n",
    "6. **Bonus Task:** Identify and print the employee with the highest salary.\n",
    "\n"
   ]
  },
  {
   "cell_type": "code",
   "execution_count": 77,
   "metadata": {},
   "outputs": [
    {
     "name": "stdout",
     "output_type": "stream",
     "text": [
      "Loaded DataFrame:\n",
      "      Name Department   Salary           City\n",
      "0    Alice         HR  50000.0       New York\n",
      "1      Bob         IT  70000.0  San Francisco\n",
      "2  Charlie         IT      NaN       New York\n",
      "3    David    Finance  65000.0        Chicago\n",
      "4      Eve         HR  48000.0        Chicago\n",
      "DataFrame after handling missing values:\n",
      "      Name Department   Salary           City\n",
      "0    Alice         HR  50000.0       New York\n",
      "1      Bob         IT  70000.0  San Francisco\n",
      "2  Charlie         IT  58250.0       New York\n",
      "3    David    Finance  65000.0        Chicago\n",
      "4      Eve         HR  48000.0        Chicago\n",
      "\n",
      "Average Salary per Department:\n",
      "Department\n",
      "Finance    65000.0\n",
      "HR         49000.0\n",
      "IT         64125.0\n",
      "Name: Salary, dtype: float64\n",
      "\n",
      "Employee Count per City:\n",
      "City\n",
      "Chicago          2\n",
      "New York         2\n",
      "San Francisco    1\n",
      "Name: Name, dtype: int64\n",
      "\n",
      "Highest Paid Employee:\n",
      "Name                    Bob\n",
      "Department               IT\n",
      "Salary              70000.0\n",
      "City          San Francisco\n",
      "Name: 1, dtype: object\n"
     ]
    }
   ],
   "source": [
    "import pandas as pd\n",
    "import numpy as np\n",
    "\n",
    "# Step 1: Load Data from CSV\n",
    "df = pd.read_csv(\"exercise_pandas.csv\")\n",
    "\n",
    "print(\"Loaded DataFrame:\")\n",
    "print(df)\n",
    "\n",
    "# Step 2: Handle Missing Values (Replace NaN salary with the mean salary)\n",
    "df = df.assign(Salary=df[\"Salary\"].fillna(df[\"Salary\"].mean()))\n",
    "\n",
    "# Step 3: Sort by Salary in Descending Order\n",
    "df_sorted = df.sort_values(by=\"Salary\", ascending=False)\n",
    "\n",
    "# Step 4: Grouping Data\n",
    "avg_salary_per_department = df.groupby(\"Department\")[\"Salary\"].mean()\n",
    "employee_count_per_city = df.groupby(\"City\")[\"Name\"].count()\n",
    "\n",
    "# Step 5: Save Sorted Data to CSV\n",
    "df_sorted.to_csv(\"exercise_pandas_sorted.csv\", index=False)\n",
    "\n",
    "# Bonus: Find the employee with the highest salary\n",
    "highest_paid_employee = df_sorted.iloc[0]\n",
    "\n",
    "# Print Results\n",
    "print(\"DataFrame after handling missing values:\")\n",
    "print(df)\n",
    "print(\"\\nAverage Salary per Department:\")\n",
    "print(avg_salary_per_department)\n",
    "print(\"\\nEmployee Count per City:\")\n",
    "print(employee_count_per_city)\n",
    "print(\"\\nHighest Paid Employee:\")\n",
    "print(highest_paid_employee)\n"
   ]
  },
  {
   "cell_type": "code",
   "execution_count": null,
   "metadata": {},
   "outputs": [],
   "source": []
  }
 ],
 "metadata": {
  "kernelspec": {
   "display_name": "Python 3 (ipykernel)",
   "language": "python",
   "name": "python3"
  },
  "language_info": {
   "codemirror_mode": {
    "name": "ipython",
    "version": 3
   },
   "file_extension": ".py",
   "mimetype": "text/x-python",
   "name": "python",
   "nbconvert_exporter": "python",
   "pygments_lexer": "ipython3",
   "version": "3.12.6"
  }
 },
 "nbformat": 4,
 "nbformat_minor": 4
}
