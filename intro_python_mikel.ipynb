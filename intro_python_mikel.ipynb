{
 "cells": [
  {
   "cell_type": "markdown",
   "metadata": {},
   "source": [
    "# **INTRODUCCIÓN A PYTHON**"
   ]
  },
  {
   "cell_type": "markdown",
   "metadata": {},
   "source": [
    "En este curso usaremos Python como lenguaje informático para las prácticas de ordenador. Python es un lenguaje extremadamente versátil, que lo ha convertido en uno de los lenguajes de programación más utilizados en múltiples áreas de la Ciencia de Datos, con especial énfasis en la resolución de problemas numéricos de Investigación Operativa, y en la programación para su uso en Inteligencia Artificial.\n",
    "\n",
    "El enfoque de este curso será conocer algunas herramientas básicas que nos ofrece este lenguaje, más que en aprender a programar estrucutras complejas. Por lo tanto, nos centraremos en dar unas nociones fundamentales para que más adelante podáis trabajar con soltura por vuestra cuenta.\n",
    "\n",
    "## **Comandos básicos de Python**\n",
    "\n",
    "### **Impresión en pantalla**\n",
    "\n",
    "Empezamos definiendo variables numéricas e imprimiendo su valor en pantalla:"
   ]
  },
  {
   "cell_type": "code",
   "execution_count": 1,
   "metadata": {},
   "outputs": [
    {
     "name": "stdout",
     "output_type": "stream",
     "text": [
      "2\n",
      "3.5\n",
      "5.5\n"
     ]
    }
   ],
   "source": [
    "x=2\n",
    "y=3.5\n",
    "print(x)\n",
    "print(y)\n",
    "print(x+y)"
   ]
  },
  {
   "cell_type": "markdown",
   "metadata": {},
   "source": [
    "Para imprimir texto junto con las variables definidas, podemos hacerlo de las siguientes formas equivalentes:"
   ]
  },
  {
   "cell_type": "code",
   "execution_count": 3,
   "metadata": {},
   "outputs": [
    {
     "name": "stdout",
     "output_type": "stream",
     "text": [
      "El valor de x es 2\n",
      "El valor de x es 2\n",
      "El valor de x es 2\n"
     ]
    }
   ],
   "source": [
    "print(\"El valor de x es\",x)\n",
    "print(\"El valor de x es \"+str(x))\n",
    "print(f\"El valor de x es {x}\")"
   ]
  },
  {
   "cell_type": "markdown",
   "metadata": {},
   "source": [
    "Comprobamos que podemos usar \"+\" para concatenar strings. Como veremos en un momento, \"+\" puede utilizarse para concatenar listas también, además de para realizar la habitual suma entre números. \n",
    "\n",
    "Por otro lado, en el último ejemplo hemos utilizado lo que en Python se conoce como **f-string** (*formatted string*), la cual nos permite introducir valores de variables dentro de strings de una manera muy compacta. En este curso usaremos bastante esta última forma de impresión. "
   ]
  },
  {
   "cell_type": "markdown",
   "metadata": {},
   "source": [
    "### **Estructuras de control**"
   ]
  },
  {
   "cell_type": "markdown",
   "metadata": {},
   "source": [
    "Python destaca por usar la indentación para definir todas sus estructuras de control. Por ejemplo, una estructura del tipo **if** viene dada de la siguiente manera:"
   ]
  },
  {
   "cell_type": "code",
   "execution_count": 17,
   "metadata": {},
   "outputs": [
    {
     "name": "stdout",
     "output_type": "stream",
     "text": [
      "x es par.\n"
     ]
    }
   ],
   "source": [
    "if x%2==0:\n",
    "    print(\"x es par.\")\n",
    "else:\n",
    "    print(\"x es impar\")"
   ]
  },
  {
   "cell_type": "markdown",
   "metadata": {},
   "source": [
    "Los ciclos **while** siguen una estructura similar:"
   ]
  },
  {
   "cell_type": "code",
   "execution_count": 19,
   "metadata": {},
   "outputs": [
    {
     "name": "stdout",
     "output_type": "stream",
     "text": [
      "2\n",
      "3\n",
      "4\n"
     ]
    }
   ],
   "source": [
    "x=2\n",
    "\n",
    "while x<5:\n",
    "    print(x)\n",
    "    x+=1"
   ]
  },
  {
   "cell_type": "markdown",
   "metadata": {},
   "source": [
    "Por último, los ciclos **for** tienen la siguiente estructura: "
   ]
  },
  {
   "cell_type": "code",
   "execution_count": 22,
   "metadata": {},
   "outputs": [
    {
     "name": "stdout",
     "output_type": "stream",
     "text": [
      "i=0\n",
      "i=1\n",
      "i=2\n",
      "i=3\n",
      "i=4\n"
     ]
    }
   ],
   "source": [
    "for i in range(5):\n",
    "    print(f\"i={i}\")"
   ]
  },
  {
   "cell_type": "markdown",
   "metadata": {},
   "source": [
    "### **Definición de funciones**"
   ]
  },
  {
   "cell_type": "markdown",
   "metadata": {},
   "source": [
    "Existen dos sintaxis distintas para definir funciones en Python. La primera (y más usual) es"
   ]
  },
  {
   "cell_type": "code",
   "execution_count": 66,
   "metadata": {},
   "outputs": [],
   "source": [
    "def sumprod(x,y):\n",
    "    return x+y+x*y"
   ]
  },
  {
   "cell_type": "code",
   "execution_count": 67,
   "metadata": {},
   "outputs": [
    {
     "data": {
      "text/plain": [
       "11"
      ]
     },
     "execution_count": 67,
     "metadata": {},
     "output_type": "execute_result"
    }
   ],
   "source": [
    "sumprod(2,3)"
   ]
  },
  {
   "cell_type": "markdown",
   "metadata": {},
   "source": [
    "Para funciones que puedan definirse en poco espacio, suele ser habitual también usar el comando **lambda**: "
   ]
  },
  {
   "cell_type": "code",
   "execution_count": 68,
   "metadata": {},
   "outputs": [],
   "source": [
    "sumprod2 = lambda x,y: x+y+x*y"
   ]
  },
  {
   "cell_type": "code",
   "execution_count": 71,
   "metadata": {},
   "outputs": [
    {
     "data": {
      "text/plain": [
       "11"
      ]
     },
     "execution_count": 71,
     "metadata": {},
     "output_type": "execute_result"
    }
   ],
   "source": [
    "sumprod2(2,3)"
   ]
  },
  {
   "cell_type": "markdown",
   "metadata": {},
   "source": [
    "### **Librerías**"
   ]
  },
  {
   "cell_type": "markdown",
   "metadata": {},
   "source": [
    "A menudo querremos utilizar funciones y objetos específicos que no están incluídas por defecto en Python. Por ejemplo, si queremos utilizar funciones matemáticas como la exponencial o expresiones trigonométricas o si queremos generar número aleatorios. Para ello, **importamos** librerías (preferente al inicio de nuestro código):"
   ]
  },
  {
   "cell_type": "code",
   "execution_count": 4,
   "metadata": {},
   "outputs": [],
   "source": [
    "import math  # Para funciones matemáticas fundamentales\n",
    "import numpy as np # Para trabajar con listas como si fueran matrices"
   ]
  },
  {
   "cell_type": "markdown",
   "metadata": {},
   "source": [
    "Por ejemplo:"
   ]
  },
  {
   "cell_type": "code",
   "execution_count": 22,
   "metadata": {},
   "outputs": [
    {
     "data": {
      "text/plain": [
       "3628800"
      ]
     },
     "execution_count": 22,
     "metadata": {},
     "output_type": "execute_result"
    }
   ],
   "source": [
    "math.factorial(10)"
   ]
  },
  {
   "cell_type": "code",
   "execution_count": 15,
   "metadata": {},
   "outputs": [
    {
     "data": {
      "text/plain": [
       "0.9092974268256817"
      ]
     },
     "execution_count": 15,
     "metadata": {},
     "output_type": "execute_result"
    }
   ],
   "source": [
    "math.sin(2)"
   ]
  },
  {
   "cell_type": "code",
   "execution_count": 17,
   "metadata": {},
   "outputs": [
    {
     "data": {
      "text/plain": [
       "2.23606797749979"
      ]
     },
     "execution_count": 17,
     "metadata": {},
     "output_type": "execute_result"
    }
   ],
   "source": [
    "math.sqrt(5)"
   ]
  },
  {
   "cell_type": "code",
   "execution_count": 18,
   "metadata": {},
   "outputs": [
    {
     "data": {
      "text/plain": [
       "3.141592653589793"
      ]
     },
     "execution_count": 18,
     "metadata": {},
     "output_type": "execute_result"
    }
   ],
   "source": [
    "math.pi"
   ]
  },
  {
   "cell_type": "markdown",
   "metadata": {},
   "source": [
    "Para más información, tenéis disponbile la [documentación de math.](https://docs.python.org/3/library/math.html)"
   ]
  },
  {
   "cell_type": "markdown",
   "metadata": {},
   "source": [
    "### **Listas**"
   ]
  },
  {
   "cell_type": "markdown",
   "metadata": {},
   "source": [
    "Existen distintos tipos de colecciones de datos en Python (listas, tuplas, diccionarios), pero nosotros nos centraremos en trabajar con listas, que tienen la siguiente forma: "
   ]
  },
  {
   "cell_type": "code",
   "execution_count": 45,
   "metadata": {},
   "outputs": [],
   "source": [
    "list=[0,5,10,15,20,25]"
   ]
  },
  {
   "cell_type": "markdown",
   "metadata": {},
   "source": [
    "Podemos obtener elementos de la lista así:"
   ]
  },
  {
   "cell_type": "code",
   "execution_count": 46,
   "metadata": {},
   "outputs": [
    {
     "name": "stdout",
     "output_type": "stream",
     "text": [
      "0\n",
      "10\n",
      "[10, 15]\n"
     ]
    }
   ],
   "source": [
    "print(list[0])\n",
    "print(list[2])\n",
    "print(list[2:4])"
   ]
  },
  {
   "cell_type": "markdown",
   "metadata": {},
   "source": [
    "Cuando estamos trabajando con aplicaciones matemáticas, es muy común utilizar ciclos **for** para generar listas: "
   ]
  },
  {
   "cell_type": "code",
   "execution_count": 47,
   "metadata": {},
   "outputs": [
    {
     "name": "stdout",
     "output_type": "stream",
     "text": [
      "[0, 5, 10, 15, 20, 25]\n"
     ]
    }
   ],
   "source": [
    "list1=[]\n",
    "for i in range(6):\n",
    "    list1.append(i*5)\n",
    "\n",
    "print(list1)"
   ]
  },
  {
   "cell_type": "markdown",
   "metadata": {},
   "source": [
    "Sin embargo, es posible generar listas utilizando un método propio de Python conocido como *comprensión de listas*. Esencialmente, escribimos el ciclo **for** en una única linea de la siguiente forma:"
   ]
  },
  {
   "cell_type": "code",
   "execution_count": 50,
   "metadata": {},
   "outputs": [
    {
     "name": "stdout",
     "output_type": "stream",
     "text": [
      "[0, 5, 10, 15, 20, 25]\n",
      "[1, 8, 27, 64, 125, 216, 343, 512, 729, 1000]\n",
      "[0, 500, 1000, 1500, 2000, 2500]\n"
     ]
    }
   ],
   "source": [
    "list2=[i*5 for i in range(6)]\n",
    "print(list2)\n",
    "\n",
    "list3=[i**3 for i in range(1,11)]\n",
    "print(list3)\n",
    "\n",
    "list4=[i*100 for i in list1]\n",
    "print(list4)"
   ]
  },
  {
   "cell_type": "markdown",
   "metadata": {},
   "source": [
    "**Ejercicio:** Comprueba la siguiente identidad:\n",
    "\\begin{equation}\n",
    "    \\pi = \\sqrt{6\\sum_{n=1}^{\\infty} \\frac{1}{n^2}} .\n",
    "\\end{equation}\n",
    "Para ello, calcula la suma correspondiente para 10, 100 y 1000 términos.\n",
    "\n",
    "*[Nota: los elementos de una lista se suman mediante sum(list). Por otro lado, la raíz cuadrada de un número x viene dada mediante math.sqrt(x)]*\n"
   ]
  },
  {
   "cell_type": "code",
   "execution_count": 4,
   "metadata": {},
   "outputs": [],
   "source": [
    "import math"
   ]
  },
  {
   "cell_type": "code",
   "execution_count": 5,
   "metadata": {},
   "outputs": [
    {
     "data": {
      "text/plain": [
       "3.1415831042309477"
      ]
     },
     "execution_count": 5,
     "metadata": {},
     "output_type": "execute_result"
    }
   ],
   "source": [
    "math.sqrt(6*sum([1/n**2 for n in range(1,100000)]))"
   ]
  },
  {
   "cell_type": "markdown",
   "metadata": {
    "jp-MarkdownHeadingCollapsed": true
   },
   "source": [
    "## **Numpy**"
   ]
  },
  {
   "cell_type": "markdown",
   "metadata": {},
   "source": [
    "Veamos qué ocurre si intentamos sumar dos listas:"
   ]
  },
  {
   "cell_type": "code",
   "execution_count": 83,
   "metadata": {},
   "outputs": [
    {
     "name": "stdout",
     "output_type": "stream",
     "text": [
      "[1, 2, 3, 4, 5, 6]\n"
     ]
    }
   ],
   "source": [
    "list1=[1,2,3]\n",
    "list2=[4,5,6]\n",
    "\n",
    "print(list1+list2)"
   ]
  },
  {
   "cell_type": "markdown",
   "metadata": {},
   "source": [
    "Es decir, la operación \"+\" **concatena** listas en Python. A la hora de trabajar en entornos matemáticos, es extremadamente común querrer trabajar con listas como si fueran vectores, matrices o tensores (es decir, matrices con más de dos índices). Para ello, una librería de Python extremadamente conocida es **Numpy**, que nos permitirá trabajar con listas como si fueran matrices. \n",
    "\n",
    "Antes de nada, importamos **Numpy** para poder utilizar las funciones de su librería:"
   ]
  },
  {
   "cell_type": "code",
   "execution_count": 7,
   "metadata": {},
   "outputs": [],
   "source": [
    "import numpy as np"
   ]
  },
  {
   "cell_type": "markdown",
   "metadata": {},
   "source": [
    "Los objetos más importantes de Numpy son los **arrays**, que definimos de la siguiente manera:"
   ]
  },
  {
   "cell_type": "code",
   "execution_count": 58,
   "metadata": {},
   "outputs": [
    {
     "name": "stdout",
     "output_type": "stream",
     "text": [
      "[5 7 9]\n"
     ]
    }
   ],
   "source": [
    "array1=np.array(list1)\n",
    "array2=np.array(list2)\n",
    "\n",
    "print(array1+array2)"
   ]
  },
  {
   "cell_type": "markdown",
   "metadata": {},
   "source": [
    "Podemos crear matrices con estos arrays, y trabajar con ellas fácilmente:"
   ]
  },
  {
   "cell_type": "code",
   "execution_count": 23,
   "metadata": {},
   "outputs": [],
   "source": [
    "arr3=np.array([[1,2],[3,4]])\n",
    "arr4=np.array([[10,20],[30,40]])"
   ]
  },
  {
   "cell_type": "code",
   "execution_count": 61,
   "metadata": {},
   "outputs": [
    {
     "name": "stdout",
     "output_type": "stream",
     "text": [
      "[[1 2]\n",
      " [3 4]]\n"
     ]
    }
   ],
   "source": [
    "print(arr3)"
   ]
  },
  {
   "cell_type": "code",
   "execution_count": 99,
   "metadata": {},
   "outputs": [
    {
     "name": "stdout",
     "output_type": "stream",
     "text": [
      "[1 2]\n",
      "[2 4]\n",
      "4\n"
     ]
    }
   ],
   "source": [
    "print(arr3[0])   # Imprimir la primera fila\n",
    "print(arr3[:,1]) # Imprimir segunda columna\n",
    "print(arr3[1,1]) # Imprimir el elemento (1,1)"
   ]
  },
  {
   "cell_type": "code",
   "execution_count": 62,
   "metadata": {},
   "outputs": [
    {
     "name": "stdout",
     "output_type": "stream",
     "text": [
      "[[11 22]\n",
      " [33 44]]\n"
     ]
    }
   ],
   "source": [
    "print(arr3+arr4) # Suma de matrices"
   ]
  },
  {
   "cell_type": "code",
   "execution_count": 64,
   "metadata": {},
   "outputs": [
    {
     "name": "stdout",
     "output_type": "stream",
     "text": [
      "[[ 10  40]\n",
      " [ 90 160]]\n"
     ]
    }
   ],
   "source": [
    "print(arr3*arr4) # Multiplicación término a término"
   ]
  },
  {
   "cell_type": "code",
   "execution_count": 65,
   "metadata": {},
   "outputs": [
    {
     "name": "stdout",
     "output_type": "stream",
     "text": [
      "[[ 70 100]\n",
      " [150 220]]\n"
     ]
    }
   ],
   "source": [
    "print(arr3@arr4) # Multiplicación matricial usual"
   ]
  },
  {
   "cell_type": "markdown",
   "metadata": {},
   "source": [
    "Otra ventaja de utilizar arrays y las funciones definidas en la librería Numpy es que podemos aplicar dichas funciones directamente a todos los elementos del array de manera directa:"
   ]
  },
  {
   "cell_type": "code",
   "execution_count": 24,
   "metadata": {},
   "outputs": [
    {
     "data": {
      "text/plain": [
       "array([[ 2.71828183,  7.3890561 ],\n",
       "       [20.08553692, 54.59815003]])"
      ]
     },
     "execution_count": 24,
     "metadata": {},
     "output_type": "execute_result"
    }
   ],
   "source": [
    "np.exp(arr3)"
   ]
  },
  {
   "cell_type": "code",
   "execution_count": 25,
   "metadata": {},
   "outputs": [
    {
     "data": {
      "text/plain": [
       "array([[3.16227766, 4.47213595],\n",
       "       [5.47722558, 6.32455532]])"
      ]
     },
     "execution_count": 25,
     "metadata": {},
     "output_type": "execute_result"
    }
   ],
   "source": [
    "np.sqrt(arr4)"
   ]
  },
  {
   "cell_type": "markdown",
   "metadata": {},
   "source": [
    "Para más información sobre Numpy, ver su [documentación](https://numpy.org/)."
   ]
  },
  {
   "cell_type": "markdown",
   "metadata": {},
   "source": [
    "## **Representación gráfica de funciones y datos**"
   ]
  },
  {
   "cell_type": "markdown",
   "metadata": {},
   "source": [
    "Para poder graficar funciones matemáticas o conjuntos de datos, es habitual importar el siguiente paquete de Python:"
   ]
  },
  {
   "cell_type": "code",
   "execution_count": 6,
   "metadata": {},
   "outputs": [],
   "source": [
    "import matplotlib.pyplot as plt"
   ]
  },
  {
   "cell_type": "markdown",
   "metadata": {},
   "source": [
    "En general, los gráficos más comunes siguen una estructura muy similar. Por ello, simplemente daremos un par de ejemplos completos. Para más información, puedes consultar la [documentación](https://matplotlib.org/) o la [guía rápida](https://matplotlib.org/stable/users/explain/quick_start.html) de Matplotlib."
   ]
  },
  {
   "cell_type": "code",
   "execution_count": 8,
   "metadata": {},
   "outputs": [
    {
     "data": {
      "text/plain": [
       "[<matplotlib.lines.Line2D at 0x1e03a325cd0>]"
      ]
     },
     "execution_count": 8,
     "metadata": {},
     "output_type": "execute_result"
    },
    {
     "data": {
      "image/png": "[encoded data removed]",
      "text/plain": [
       "<Figure size 640x480 with 1 Axes>"
      ]
     },
     "metadata": {},
     "output_type": "display_data"
    }
   ],
   "source": [
    "xmin = 0\n",
    "xmax= 2*np.pi\n",
    "puntos=200\n",
    "\n",
    "x = np.linspace(xmin, xmax, puntos) # Creamos puntos entre xmin y xmax\n",
    "y = np.sin(x) # Evaluamos la función sin en todos los puntos\n",
    "\n",
    "fig, ax = plt.subplots()\n",
    "ax.set_xlabel(\"x\")\n",
    "ax.set_ylabel(\"sin(x)\")\n",
    "ax.plot(x, y)\n",
    "# fig.savefig(\"plot.pdf\") # Guardamos la figura en el directorio local"
   ]
  },
  {
   "cell_type": "code",
   "execution_count": null,
   "metadata": {},
   "outputs": [
    {
     "data": {
      "text/plain": [
       "<matplotlib.legend.Legend at 0x1e03a3bbe30>"
      ]
     },
     "execution_count": 9,
     "metadata": {},
     "output_type": "execute_result"
    },
    {
     "data": {
      "image/png": "[encoded data removed]",
      "text/plain": [
       "<Figure size 500x270 with 1 Axes>"
      ]
     },
     "metadata": {},
     "output_type": "display_data"
    }
   ],
   "source": [
    "x = np.linspace(0, 2, 100)\n",
    "\n",
    "fig, ax = plt.subplots(figsize=(5, 2.7))\n",
    "ax.set_xlabel(\"x\")\n",
    "ax.set_ylabel(\"y\")\n",
    "ax.plot(x, x, label='y=x')\n",
    "ax.plot(x, x**2, label='y=x**2')\n",
    "ax.plot(x, x**3, label='y=x**3')\n",
    "ax.legend()"
   ]
  },
  {
   "cell_type": "code",
   "execution_count": 10,
   "metadata": {},
   "outputs": [
    {
     "data": {
      "text/plain": [
       "[<matplotlib.lines.Line2D at 0x1e03bc0e180>]"
      ]
     },
     "execution_count": 10,
     "metadata": {},
     "output_type": "execute_result"
    },
    {
     "data": {
      "image/png": "[encoded data removed]",
      "text/plain": [
       "<Figure size 640x480 with 1 Axes>"
      ]
     },
     "metadata": {},
     "output_type": "display_data"
    }
   ],
   "source": [
    "x_data = np.array([1,2,3,4,5,6,7])\n",
    "y_data = np.array([2,-3,4,1,3,-1,4])\n",
    "\n",
    "fig, ax = plt.subplots()\n",
    "ax.set_xlabel(\"x\")\n",
    "ax.set_ylabel(\"y\")\n",
    "ax.plot(x_data, y_data,color=\"blue\",marker=\"o\",linestyle=\":\")"
   ]
  },
  {
   "cell_type": "code",
   "execution_count": 11,
   "metadata": {},
   "outputs": [],
   "source": [
    "%reset"
   ]
  },
  {
   "cell_type": "markdown",
   "metadata": {
    "id": "zch_a2wWAYxg"
   },
   "source": [
    "# **TEORÍA DE COLAS**\n",
    "\n"
   ]
  },
  {
   "cell_type": "markdown",
   "metadata": {
    "id": "CnuyINFcBS6U"
   },
   "source": [
    "Múltiples fenómenos organizativos contienen entidades de carácter discreto (máquinas, líneas\n",
    "telefónicas, cabinas de peaje en autopistas, etc.) que se denominan servidores y que otras entidades\n",
    "llamadas clientes utilizan. Este tipo de sistemas se agrupan bajo el nombre genérico de colas o líneas de\n",
    "espera. Cada cola consta de un número finito (generalmente bajo) de servidores que suelen estar\n",
    "agrupados en un centro de servicio. Debido al carácter aleatorio de la llegada de clientes y de los tiempos\n",
    "de servicio es posible que los clientes soporten una espera hasta el momento de ser atendidos.\n",
    "\n",
    "\n",
    "La teoría de colas tiene su origen en un trabajo de A.K. Erlang (1909) sobre congestión en el tráfico\n",
    "telefónico. El modelo de cola más simple es el representado en la siguiente [figura](https://drive.google.com/uc?export=view&id=1BgcTUuBkQQeK9VZuIx2O0O8ld12i6wsM), donde los clientes llegan a la\n",
    "entrada procedentes de un manantial finito o infinito y esperan en la cola hasta ser atendidos en el canal\n",
    "de servicio. Tras ser atendidos, los usuarios siguen adelante, hacia un nuevo punto de servicio o hacia la\n",
    "salida.\n",
    "\n",
    "\n",
    "Parece que pudieran presentarse casi infinitos tipos de colas. Sin embargo, y con objeto de simplificar el\n",
    "panorama, los posibles modelos se simbolizan mediante el esquema de clasificación:\n",
    "\n",
    " **X/Y/s**\n",
    "\n",
    "donde\n",
    "\n",
    "- X: distribución de probabilidad para el tiempo de llegada entre clientes.\n",
    "- Y: distribución de probabilidad para el tiempo de servicio.\n",
    "- s: número de canales de servicio en paralelo (servidores).\n",
    "\n",
    "Algunas de las abreviaturas más utilizadas para X e Y son:\n",
    "\n",
    "- M: distribución Markoviana (o exponencial)\n",
    "- D: distribución degenerada (es decir, de tiempos constantes).\n",
    "- G: distribución genérica.\n",
    "\n",
    "Además, salvo que se nos indique lo contrario, asumiremos que la cola no tiene límite en el número de clientes en el sistema, y que el servicio atiende primero al cliente que ha llegado antes (First In, First Out).\n",
    "\n",
    "Por ejemplo, la notación M/D/1 hace referencia a una cola con tiempos entre llegadas descritos por una distribución exponencial, tiempo de servicio determinista (constante) y que consta de un único servidor.\n",
    "\n",
    "<br/>\n",
    "\n",
    "El funcionamiento o desempeño de una cola se mide en función de varias características fundamentales,\n",
    "una vez se ha alcanzado el estado ergódico o estacionario (estable); es decir, cuando el comportamiento\n",
    "es independiente del estado inicial y del tiempo (a largo plazo, en el límite cuando el tiempo tiende a\n",
    "infinito). Las de mayor relevancia son:\n",
    "\n",
    "- $N$: variable aleatoria que representa el número de clientes en el sistema (en la cola más en servicio).\n",
    "\n",
    "- $N_q$: variable aleatoria que representa el número de clientes en la cola.\n",
    "\n",
    "- $T$: variable aleatoria que describe el tiempo que un cliente pasa en el sistema.\n",
    "\n",
    "- $T_q$: variable aleatoria que describe el tiempo que un cliente pasa en la cola.\n",
    "\n",
    "- $P_n$: probabilidad de que exactamente n clientes se encuentren en el sistema.\n",
    "\n",
    "- $L$: número esperado de clientes en el sistema.\n",
    "\n",
    "- $L_q$: número esperado de clientes en la cola (a la espera de ser servidos).\n",
    "\n",
    "- $W$: tiempo medio de espera para cada cliente en el sistema.\n",
    "\n",
    "- $W_q$: tiempo medio de espera por cliente en la cola.\n",
    "\n",
    "Por otra parte, la circulación en el sistema viene dada por:\n",
    "\n",
    "- $\\lambda$ : tasa media de llegadas de clientes, constante para todo n.\n",
    "\n",
    "- $\\mu$ : tasa media de servicio de clientes, constante para todo n.\n",
    "\n",
    "- $\\rho = \\lambda/\\mu$ : factor de utilización o intensidad de tráfico."
   ]
  },
  {
   "cell_type": "markdown",
   "metadata": {
    "id": "CSofKXIQEOdA"
   },
   "source": [
    "## **Modelo M/M/1**"
   ]
  },
  {
   "cell_type": "markdown",
   "metadata": {
    "id": "8V2rnOtbFqa4"
   },
   "source": [
    "Se trata de una cola en la que la distribución entre llegadas consecutivas de clientes es exponencial de\n",
    "parámetro $\\lambda$ (llegadas aleatorias, o sea según un proceso de Poisson), la distribución de los tiempos de\n",
    "servicio es exponencial de parámetro $\\mu$ y sin limitación en el número de clientes en el sistema. Para que\n",
    "la cola sea estable, es decir, para que no se forme una cola infinita, es necesario que $\\rho < 1$.\n",
    "\n",
    "\n",
    "Las principales medidas de desempeño resultan, por tanto:\n",
    "\n",
    "\\begin{align}\n",
    "P_0 &= 1 - \\rho \\\\[10pt]\n",
    "P_n &= \\rho^n P_0 \\\\[10pt]\n",
    "L_q &= \\frac{\\rho^2}{1-\\rho} \\\\[10pt]\n",
    "L &= \\rho + L_q = \\frac{\\rho}{1-\\rho} \\\\[10pt]\n",
    "W_q &= \\frac{\\rho}{\\mu (1-\\rho)} \\\\[10pt]\n",
    "W &= W_q + \\frac{1}{\\mu} = \\frac{1}{\\mu(1-\\rho)}\n",
    "\\end{align}\n",
    "\n",
    "La probabilidad de que haya al menos un cliente en el sistema (probabilidad de que un cliente tenga que\n",
    "esperar) es\n",
    "\n",
    "$$ P(N>0) = 1 - P_0 = \\rho . $$\n",
    "\n",
    "La probabilidad de que haya más de $n$ clientes en el sistema es de\n",
    "\n",
    "$$ P(N>n) = \\rho^{n+1} . $$\n",
    "\n",
    "Por último, la probabilidad de que el servidor esté ocioso o con probabilidad de espera nula es\n",
    "\n",
    "$$ P(N=0) = P_0 = 1 - \\rho $$\n",
    "\n",
    "La probabilidad de que un cliente salga antes de un tiempo $t$ del sistema es\n",
    "\n",
    "$$ P(T\\leq t) = 1 - e^{-\\mu t (1-\\rho)} $$\n",
    "\n",
    "La probabilidad de que un cliente espere en la cola un tiempo $t$, o menos, es\n",
    "\n",
    "$$ P (T_q \\leq t) = 1 - \\rho e^{-\\mu t (1-\\rho)} $$"
   ]
  },
  {
   "cell_type": "markdown",
   "metadata": {
    "id": "3ojHGnOXJr2x"
   },
   "source": [
    "### **Ejemplo de cola M/M/1**"
   ]
  },
  {
   "cell_type": "markdown",
   "metadata": {
    "id": "CWdRJN3nJ3KK"
   },
   "source": [
    "Si los clientes llegan a un teléfono público según un proceso exponencial con una tasa de 1 cliente cada 15 minutos (4 por hora) y la duración media de cada llamada es de 5 minutos (tasa de 12 clientes por hora, con distribución de los tiempos de servicio exponencial), determinar:\n",
    "\n",
    "1. Probabilidad de que un cliente nuevo tenga que esperar más de 10 minutos (1/6 horas) antes de acceder al teléfono.\n",
    "\n",
    "2. Probabilidad de que haya más de 3 personas en la cola (4 en el sistema).\n",
    "\n",
    "3. Probabilidad de que un cliente tenga que esperar más de 10 minutos (1/6 horas) en completar su llamada.\n",
    "\n",
    "Obtén y dibuja la función de probabilidad de que número de clientes en el sistema sea $n$, para $n\\in [0,10]$."
   ]
  },
  {
   "cell_type": "code",
   "execution_count": 12,
   "metadata": {},
   "outputs": [],
   "source": [
    "import math\n",
    "import numpy as np\n",
    "import matplotlib.pyplot as plt"
   ]
  },
  {
   "cell_type": "code",
   "execution_count": 13,
   "metadata": {
    "id": "LDuYE6xAAXq5"
   },
   "outputs": [],
   "source": [
    "landa = 4\n",
    "mu = 12\n",
    "rho = landa/mu"
   ]
  },
  {
   "cell_type": "code",
   "execution_count": 14,
   "metadata": {
    "colab": {
     "base_uri": "https://localhost:8080/"
    },
    "id": "DMD69B9wLK67",
    "outputId": "b9e91c28-3dbe-43d0-b715-70a434caff08"
   },
   "outputs": [
    {
     "name": "stdout",
     "output_type": "stream",
     "text": [
      "0.08786571270524224\n"
     ]
    }
   ],
   "source": [
    "# Prob. de que un cliente nuevo tenga que esperar más de 10 minutos (1/6 horas)\n",
    "# antes de acceder al teléfono\n",
    "# P(T_q > 1/6)\n",
    "\n",
    "print(rho*np.exp(-mu*(1/6)*(1-rho)))"
   ]
  },
  {
   "cell_type": "code",
   "execution_count": 15,
   "metadata": {
    "colab": {
     "base_uri": "https://localhost:8080/"
    },
    "id": "OA88CUwhMfi-",
    "outputId": "e3fcfbd6-473e-45ac-c759-753f58d24a8a"
   },
   "outputs": [
    {
     "name": "stdout",
     "output_type": "stream",
     "text": [
      "0.004115226337448558\n"
     ]
    }
   ],
   "source": [
    "# Prob. de que haya más de 3 personas en la cola (4 en el sistema)\n",
    "# P(N>4)\n",
    "\n",
    "print(rho**5)"
   ]
  },
  {
   "cell_type": "code",
   "execution_count": 16,
   "metadata": {
    "colab": {
     "base_uri": "https://localhost:8080/"
    },
    "id": "HKowkfdUM26A",
    "outputId": "8c245797-9dfc-40da-fe96-4e0f7ed67564"
   },
   "outputs": [
    {
     "name": "stdout",
     "output_type": "stream",
     "text": [
      "0.2635971381157267\n"
     ]
    }
   ],
   "source": [
    "# Prob. de que un cliente tenga que esperar más de 1/6 horas en completar\n",
    "# su llamada\n",
    "# P(T > 1/ 6)\n",
    "\n",
    "print(np.exp(-mu*(1/6)*(1-rho)))"
   ]
  },
  {
   "cell_type": "code",
   "execution_count": 17,
   "metadata": {
    "id": "jY4TbpSkOP1P"
   },
   "outputs": [
    {
     "data": {
      "text/plain": [
       "[<matplotlib.lines.Line2D at 0x1e03a38c0e0>]"
      ]
     },
     "execution_count": 17,
     "metadata": {},
     "output_type": "execute_result"
    },
    {
     "data": {
      "image/png": "[encoded data removed]",
      "text/plain": [
       "<Figure size 640x480 with 1 Axes>"
      ]
     },
     "metadata": {},
     "output_type": "display_data"
    }
   ],
   "source": [
    "# Plot de P_n para n=0,...,10\n",
    "\n",
    "p0 = 1 - rho\n",
    "pn = [(rho**n)*p0 for n in range(1,11)]\n",
    "\n",
    "x_data = range(0,11)\n",
    "y_data = [p0]+pn\n",
    "\n",
    "fig, ax = plt.subplots()\n",
    "ax.set_xlabel(\"Número de clientes en sistema (n)\")\n",
    "ax.set_ylabel(\"P_n\")\n",
    "ax.plot(x_data, y_data,color=\"blue\",marker=\"o\",linestyle=\":\")"
   ]
  },
  {
   "cell_type": "markdown",
   "metadata": {
    "id": "Mbkd89DYKEKD"
   },
   "source": [
    "## **Modelo M/M/s**"
   ]
  },
  {
   "cell_type": "markdown",
   "metadata": {
    "id": "wElrFl_rdsul"
   },
   "source": [
    "En este modelo se consideran $s$ canales de servicio o servidores. La condición de cola estable es $\\rho^* < 1$, donde $\\rho^* = \\frac{\\lambda}{s\\mu}$ se conoce como intensidad global de tráfico.\n",
    "\n",
    "Las principales medidas de desempeño son:\n",
    "\n",
    "\\begin{align}\n",
    "P_0 &= \\dfrac{1}{\\dfrac{\\rho^s}{s!(1-\\rho^*)}+ \\displaystyle\\sum_{k=0}^{s-1} \\frac{\\rho^k}{k!} } \\\\[10pt]\n",
    "%\n",
    "P_n &= \\left\\lbrace\n",
    "\\begin{array}{l}\n",
    "P_0 \\dfrac{\\rho^n}{n!}, \\quad \\text{si} \\ 1 \\leq n \\leq s \\\\[5pt]\n",
    "(\\rho^\\ast)^{n-s} P_s , \\quad \\text{si} \\ n>s\n",
    "\\end{array}\n",
    "\\right. \\\\[10pt]\n",
    "%\n",
    "L&=\\rho + \\frac{\\rho^*}{(1-\\rho^*)^2} P_s \\\\[10pt]\n",
    "%\n",
    "L_q &= L - \\rho \\\\[10pt]\n",
    "%\n",
    "W_q &=  \\frac{P_s}{s\\mu (1-\\rho^*)^2} \\\\[10pt]\n",
    "%\n",
    "W &= W_q + \\frac{1}{\\mu}\n",
    "\\end{align}\n",
    "\n",
    "El número medio de servidores desocupados es $s-\\rho$.\n",
    "\n",
    "Por otro lado, la probabilidad de tener que hacer cola, es decir, la probabilidad de que haya $s$ o más clientes en el sistema viene dada por la siguiente expresión (*fórmula de Erlang*):\n",
    "\n",
    "$$ P(N \\geq s) = \\frac{\\rho^s}{s!(1-\\rho^*)} P_0. $$\n",
    "\n",
    "La probabilidad de que el tiempo de espera en cola, $T_q$, sea menor que $t$ viene dada por\n",
    "\n",
    "$$ P(T_q \\leq t) = 1 - \\frac{e^{-\\mu t (s-\\rho)}}{1-\\rho^*} P_s. $$"
   ]
  },
  {
   "cell_type": "markdown",
   "metadata": {
    "id": "OI8rQVexgrPB"
   },
   "source": [
    "### **Ejemplo de cola M/M/s**"
   ]
  },
  {
   "cell_type": "markdown",
   "metadata": {
    "id": "fEkKXtv7gtdB"
   },
   "source": [
    "El peaje de una autopista posee 5 servidores automáticos siendo los tiempos de servicio exponenciales de media 1 minuto (tasa de 60 clientes por hora). Si la llegada de vehículos sigue una distribución exponencial, con una media de 299 vehículos por hora ¿Será necesario instalar dos servidores más con el fin de reducir el tiempo medio de espera de sus usuarios y mejorar su opinión sobre el servicio prestado por la autopista?"
   ]
  },
  {
   "cell_type": "code",
   "execution_count": 26,
   "metadata": {
    "id": "ozVHlTivgygS"
   },
   "outputs": [],
   "source": [
    "s=5\n",
    "mu=60\n",
    "landa=299\n",
    "rho=landa/mu\n",
    "rhoast=landa/(s*mu)"
   ]
  },
  {
   "cell_type": "markdown",
   "metadata": {
    "id": "2o0DPfMpi9gz"
   },
   "source": [
    "Basaremos nuestra decisión estudiando el número de coches haciendo cola ($L_q$), y el tiempo esperado que estarán esperando hasta salir del peaje ($W$)."
   ]
  },
  {
   "cell_type": "code",
   "execution_count": 28,
   "metadata": {
    "colab": {
     "base_uri": "https://localhost:8080/"
    },
    "id": "lKAPCOrHirpx",
    "outputId": "79b46ad2-241a-4b32-d65f-b1e409075b54"
   },
   "outputs": [
    {
     "name": "stdout",
     "output_type": "stream",
     "text": [
      "Para 5 servidores obtenemos \n",
      " lq = 296.50 coches haciendo cola \n",
      "  w = 1.01 horas\n"
     ]
    }
   ],
   "source": [
    "p0 = 1 / ( rho**s/(math.factorial(s)*(1-rhoast)) + sum([rho**k/math.factorial(k) for k in range(s)]) )\n",
    "\n",
    "ps = p0 * rho**s/math.factorial(s)\n",
    "\n",
    "lq = rhoast*ps/(1-rhoast)**2\n",
    "\n",
    "w = ps/(s*mu*(1-rhoast)**2) + 1/mu\n",
    "\n",
    "print(f\"Para {s} servidores obtenemos \\n lq = {lq:.2f} coches haciendo cola \\n  w = {w:.2f} horas\")"
   ]
  },
  {
   "cell_type": "markdown",
   "metadata": {
    "id": "JNMg52Wioois"
   },
   "source": [
    "Si instalamos 2 servidores más, pasaremos de tener 297 coches haciendo cola, a sólo 0.9 de media. Por otro lado, el tiempo de espera total pasará de 1 hora a 0.01 horas. Por lo tanto, instalar dos pasajes más está completamente justificado."
   ]
  },
  {
   "cell_type": "markdown",
   "metadata": {
    "id": "6fuLg-m2unnN"
   },
   "source": [
    "## **Modelo M/G/1**"
   ]
  },
  {
   "cell_type": "markdown",
   "metadata": {
    "id": "H9AXOYwLusB1"
   },
   "source": [
    "Las dos modelos anteriores son **colas de Poisson**, pues tanto la distribución de los tiempos entre llegadas\n",
    "como la de los tiempos de servicio es exponencial. Esta última suposición no suele responder muy bien en\n",
    "la mayoría de las situaciones prácticas pues, con frecuencia, los tiempos de servicios reales se desvían\n",
    "bastante del modelo exponencial, sobre todo cuando los requerimientos de los clientes son muy similares.\n",
    "Desgraciadamente el estudio analítico de las colas con distribuciones no exponenciales es mucho más\n",
    "complicado, aunque se han podido obtener algunos resultados útiles para ciertos modelos.\n",
    "\n",
    "En el modelo M/G/1 se supone que el proceso de llegadas es Poisson de parámetro $\\lambda$ (tiempos entre llegadas exponenciales), tiempos de servicio con distribución arbitraria y un único servidor. Si se conocen\n",
    "la media $1/\\mu$ y la varianza $\\sigma^2$ de la distribución de los tiempos de servicio, entonces, para cuando se\n",
    "alcance en algún momento la *condición de estado estable* $\\rho = \\lambda/\\mu < 1$, se pueden establecer los siguientes resultados:\n",
    "\n",
    "\\begin{align}\n",
    "P_0 &= 1 - \\rho \\\\[10pt]\n",
    "%\n",
    "L_q &= \\frac{\\lambda^2 \\sigma^2 + \\rho^2}{2(1-\\rho)}\n",
    "\\end{align}\n",
    "\n",
    "Esta última es la fórmula de Pollaczek-Kyntchine y es uno de los resultados más importantes de la teoria\n",
    "de colas, debido al predominio de los sistemas M/G/1 en la práctica. Además, tenemos que\n",
    "\n",
    "\\begin{align}\n",
    "L &= \\rho + L_q \\\\[10pt]\n",
    "%\n",
    "W_q &= \\frac{\\lambda  \\left( \\sigma^2 + \\mu^{-2} \\right)  }{2(1-\\rho)} \\\\[10pt]\n",
    "%\n",
    "W &= \\frac{1}{\\mu} + W_q\n",
    "\\end{align}\n",
    "\n",
    "Hay que tener en cuenta que si $\\sigma^2$ disminuye los valores anteriores disminuyen, lo que significa que la consistencia del\n",
    "servidor tiene mucha trascendencia en el desempeño del sistema."
   ]
  },
  {
   "cell_type": "markdown",
   "metadata": {
    "id": "U0NDu9N_xFea"
   },
   "source": [
    "### **Ejemplo de cola M/G/1**"
   ]
  },
  {
   "cell_type": "markdown",
   "metadata": {
    "id": "eyhWDbcRxHV0"
   },
   "source": [
    "La distribución de los tiempos de consulta de un médico tiene una media de 12 minutos por paciente (0,2 horas), siendo su desviación típica 24 minutos (0,4 horas). Si los enfermos acuden según una distribución de Poisson de tasa 3 llegadas por hora, determina el tiempo medio que un paciente espera antes de pasar a la consulta y el que tarda en salir a la calle. Estudia la longitud de la cola en función de la tasa de llegadas; para ello, haz un gráfico de la longitud de la cola frente a $\\lambda$ para $\\lambda \\in [0,4.5]$."
   ]
  },
  {
   "cell_type": "code",
   "execution_count": 20,
   "metadata": {
    "colab": {
     "base_uri": "https://localhost:8080/"
    },
    "id": "5TSCUbb4xFOp",
    "outputId": "07dee5a8-0141-4ede-890e-ad439e447b7a"
   },
   "outputs": [
    {
     "name": "stdout",
     "output_type": "stream",
     "text": [
      "El tiempo medio de espera antes de entrar a consulta será de 0.75 horas\n"
     ]
    }
   ],
   "source": [
    "landa = 3\n",
    "mu = 1/0.2\n",
    "sigma = 0.4\n",
    "rho = landa/mu\n",
    "\n",
    "# El tiempo medio de espera en la cola es W_q:\n",
    "\n",
    "wq = landa*(sigma**2 + mu**(-2))/(2*(1-rho))\n",
    "print(f\"El tiempo medio de espera antes de entrar a consulta será de {wq:.2f} horas\")"
   ]
  },
  {
   "cell_type": "code",
   "execution_count": 21,
   "metadata": {
    "id": "39X94AA_ER3R"
   },
   "outputs": [],
   "source": [
    "def lq(lan):\n",
    "    rho = lan/mu\n",
    "    return (lan**2*sigma**2 + rho**2)/(2*(1-rho))"
   ]
  },
  {
   "cell_type": "code",
   "execution_count": 61,
   "metadata": {
    "colab": {
     "base_uri": "https://localhost:8080/",
     "height": 449
    },
    "id": "1K4B1rNKGMZM",
    "outputId": "ec953a7d-5859-46d8-9fd7-34ee7429ffb2"
   },
   "outputs": [
    {
     "data": {
      "text/plain": [
       "[<matplotlib.lines.Line2D at 0x1d028eb1880>]"
      ]
     },
     "execution_count": 61,
     "metadata": {},
     "output_type": "execute_result"
    },
    {
     "data": {
      "image/png": "[encoded data removed]",
      "text/plain": [
       "<Figure size 640x480 with 1 Axes>"
      ]
     },
     "metadata": {},
     "output_type": "display_data"
    }
   ],
   "source": [
    "x_data = np.linspace(0.1, 4.5, 100)\n",
    "y_data=lq(x_data)\n",
    "\n",
    "fig, ax = plt.subplots()\n",
    "ax.set_xlabel(\"Número de clientes en sistema (n)\")\n",
    "ax.set_ylabel(\"P_n\")\n",
    "ax.plot(x_data, y_data,color=\"blue\")"
   ]
  }
 ],
 "metadata": {
  "colab": {
   "provenance": []
  },
  "kernelspec": {
   "display_name": "base",
   "language": "python",
   "name": "python3"
  },
  "language_info": {
   "codemirror_mode": {
    "name": "ipython",
    "version": 3
   },
   "file_extension": ".py",
   "mimetype": "text/x-python",
   "name": "python",
   "nbconvert_exporter": "python",
   "pygments_lexer": "ipython3",
   "version": "3.12.3"
  }
 },
 "nbformat": 4,
 "nbformat_minor": 4
}
