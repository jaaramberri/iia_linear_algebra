{
 "cells": [
  {
   "cell_type": "markdown",
   "metadata": {},
   "source": [
    "# Understanding Monte Carlo methods"
   ]
  },
  {
   "cell_type": "markdown",
   "metadata": {},
   "source": [
    "# Example 1: Coin Flip Example"
   ]
  },
  {
   "cell_type": "markdown",
   "metadata": {},
   "source": [
    "## Monte Carlo Approximation of an Integral using Bernoulli Draws\n",
    "\n",
    "This exercise demonstrates how to approximate an integral using Monte Carlo simulation.\n",
    "\n",
    "Specifically, we will estimate the value of the integral used to calculate the expected value of a Bernoulli random variable.\n",
    "\n",
    "## Background: Bernoulli Distribution\n",
    "\n",
    "A Bernoulli distribution describes a random experiment with two possible outcomes: success (e.g., heads) or failure (e.g., tails). It's parameterized by a single value, *p*, which represents the probability of success.\n",
    "\n",
    "* **Random Variable:** Let *X* be a Bernoulli random variable, denoted as *X* ~ Bernoulli(p).\n",
    "* **Probability Mass Function (PMF):**\n",
    "    * P(X = 1) = *p* (probability of success)\n",
    "    * P(X = 0) = 1 - *p* (probability of failure)\n",
    "* **Expected Value (Mean):** E[X] = *p*\n",
    "* **Variance:** Var(X) = *p*(1 - *p*)\n",
    "\n",
    "## Problem Statement\n",
    "\n",
    "Given a Bernoulli random variable *X* with probability *p* of success (i.e., P(X = 1) = *p*), the expected value of *X* is equal to *p*.\n",
    "\n",
    "The goal is to estimate the expected value of the Bernoulli random variable using Monte Carlo simulation.\n",
    "\n",
    "## Monte Carlo Simulation Approach\n",
    "\n",
    "We can approximate the expected value of a random variable using Monte Carlo simulation. The general procedure involves:\n",
    "\n",
    "1.  **Generate Random Samples:**\n",
    "    * Draw *N* independent random samples from the Bernoulli(p) distribution. This is equivalent to simulating *N* coin flips, where each flip has a probability *p* of landing heads.\n",
    "    * Let these samples be denoted as $X_1, X_2, \\cdots, X_N$.\n",
    "\n",
    "2.  **Approximate the expected value**\n",
    "    * **Expected Value of X:** $E[X] = \\int x * f(x) dx$\n",
    "    * **Monte Carlo Estimation:** $E[X] ≈ (1/N) * \\sum_{i=1}^{N} X_{i}$\n",
    "    * The sample mean of the generated samples serves as an approximation of the expected value of the Bernoulli random variable.\n",
    "    "
   ]
  },
  {
   "cell_type": "markdown",
   "metadata": {},
   "source": [
    "# Basic Programming in Python"
   ]
  },
  {
   "cell_type": "code",
   "execution_count": null,
   "metadata": {},
   "outputs": [],
   "source": [
    "ewdwe"
   ]
  },
  {
   "cell_type": "code",
   "execution_count": null,
   "metadata": {},
   "outputs": [],
   "source": [
    "wdwwd"
   ]
  }
 ],
 "metadata": {
  "kernelspec": {
   "display_name": "Python 3 (ipykernel)",
   "language": "python",
   "name": "python3"
  },
  "language_info": {
   "codemirror_mode": {
    "name": "ipython",
    "version": 3
   },
   "file_extension": ".py",
   "mimetype": "text/x-python",
   "name": "python",
   "nbconvert_exporter": "python",
   "pygments_lexer": "ipython3",
   "version": "3.13.2"
  }
 },
 "nbformat": 4,
 "nbformat_minor": 4
}
