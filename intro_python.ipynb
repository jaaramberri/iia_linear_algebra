{
 "cells": [
  {
   "cell_type": "markdown",
   "metadata": {},
   "source": [
    "# Introduction to Python\n",
    "\n",
    "If you're here, you likely already know what Python is, how to install it, and why it's so widely loved.\n",
    "\n",
    "This notebook includes some basic `Python` commands that will be useful for the Degree on Applied Artificial Intelligence and its Mathematical Foundations. \n",
    "\n",
    "Find more resources in this tutorial: [docs.python.org/3/tutorial/](https://docs.python.org/3/tutorial/). \n"
   ]
  },
  {
   "cell_type": "markdown",
   "metadata": {},
   "source": [
    "- How a something works in Python:\n",
    "\n",
    "- How does `print` work?  \n",
    "    - Use `print?` to get information about it.  \n"
   ]
  },
  {
   "cell_type": "code",
   "execution_count": 1,
   "metadata": {},
   "outputs": [],
   "source": [
    "#print?"
   ]
  },
  {
   "cell_type": "markdown",
   "metadata": {},
   "source": [
    "- Adding two numbers in Python is straightforward:  \n"
   ]
  },
  {
   "cell_type": "code",
   "execution_count": 2,
   "metadata": {},
   "outputs": [
    {
     "data": {
      "text/plain": [
       "8"
      ]
     },
     "execution_count": 2,
     "metadata": {},
     "output_type": "execute_result"
    }
   ],
   "source": [
    "3 + 5\n"
   ]
  },
  {
   "cell_type": "markdown",
   "metadata": {},
   "source": [
    "- In Python, text data can be represented using strings.  \n",
    "    - Both `\"hello\"` and `'hello'` are valid strings.  \n",
    "    - Strings can be joined using the `+` operator.  \n"
   ]
  },
  {
   "cell_type": "code",
   "execution_count": 3,
   "metadata": {},
   "outputs": [
    {
     "data": {
      "text/plain": [
       "'hello world'"
      ]
     },
     "execution_count": 3,
     "metadata": {},
     "output_type": "execute_result"
    }
   ],
   "source": [
    "\"hello\" + \" \" + \"world\"\n"
   ]
  },
  {
   "cell_type": "markdown",
   "metadata": {},
   "source": [
    "## Variables and Data Types  \n",
    "\n",
    "- In Python, we declare a variable by assigning a value with the `=` sign.  \n",
    "    - Variables act as pointers rather than actual data containers!  \n",
    "- Python offers a range of data types and structures, including:  \n",
    "    - Booleans (`True` or `False`)  \n",
    "    - Numbers (integers, floats, etc.)  \n",
    "    - Lists\n",
    "    - Strings\n",
    "    - Tuples\n",
    "    - Dictionaries\n",
    "    - Classes\n",
    "    - ... \n",
    "- No need to declare a variable's type when it is assigned, it is determined dynamically using [duck typing](https://en.wikipedia.org/wiki/Duck_typing).\n",
    "\n",
    "(\"If it walks like a duck and it quacks like a duck, then it must be a duck\")\n",
    "\n",
    "---\n"
   ]
  },
  {
   "cell_type": "markdown",
   "metadata": {},
   "source": [
    "### Data Structures  "
   ]
  },
  {
   "cell_type": "code",
   "execution_count": 4,
   "metadata": {},
   "outputs": [],
   "source": [
    "# An integer. Notice the variable naming convention.\n",
    "age_in_years = 39"
   ]
  },
  {
   "cell_type": "code",
   "execution_count": 5,
   "metadata": {},
   "outputs": [],
   "source": [
    "# A float\n",
    "almost_pi = 3.1415"
   ]
  },
  {
   "cell_type": "code",
   "execution_count": 6,
   "metadata": {},
   "outputs": [],
   "source": [
    "# A string\n",
    "proton = \"P is for proton\""
   ]
  },
  {
   "cell_type": "code",
   "execution_count": 7,
   "metadata": {},
   "outputs": [],
   "source": [
    "# A boolean takes on only the values True or False\n",
    "enjoying_tutorial = True"
   ]
  },
  {
   "cell_type": "markdown",
   "metadata": {},
   "source": [
    "- Most programs need more than just basic data types; they require structured data.  \n",
    "- Python has built-in support for various essential data structures.  \n",
    "    - Additional, more advanced, structures can be found in the [collections](https://docs.python.org/3/library/collections.html) module, a specialized container datatypes providing alternatives to Python’s general purpose built-in containers."
   ]
  },
  {
   "cell_type": "markdown",
   "metadata": {},
   "source": [
    "#### Lists  \n",
    "- An ordered, heterogeneous collection of elements that can store multiple values in a single variable.  \n",
    "- Elements in a list can be accessed by their position (index).  \n",
    "- Lists are **mutable** elements (they can be changed after creation).  \n",
    "- Lists are created using square brackets `[]`:  \n",
    "  - `my_list = []`  \n",
    "  - Alternatively, a list can be declared using `list()` (though square brackets are more commonly used).  \n",
    "- To access elements:  \n",
    "  - First element: `my_list[0]`  \n",
    "  - Last element: `my_list[-1]`\n"
   ]
  },
  {
   "cell_type": "code",
   "execution_count": 8,
   "metadata": {},
   "outputs": [
    {
     "data": {
      "text/plain": [
       "[3, 4, 5, 4, 9, 7]"
      ]
     },
     "execution_count": 8,
     "metadata": {},
     "output_type": "execute_result"
    }
   ],
   "source": [
    "x = [3, 4, 5]\n",
    "y = [4, 9, 7]\n",
    "x + y"
   ]
  },
  {
   "cell_type": "code",
   "execution_count": 9,
   "metadata": {},
   "outputs": [
    {
     "data": {
      "text/plain": [
       "(10, 40)"
      ]
     },
     "execution_count": 9,
     "metadata": {},
     "output_type": "execute_result"
    }
   ],
   "source": [
    "# Creating a list\n",
    "my_list = [10, 20, 30, 40]\n",
    "\n",
    "# Accessing the first and last elements\n",
    "first_element = my_list[0]\n",
    "last_element = my_list[-1]\n",
    "\n",
    "first_element, last_element\n"
   ]
  },
  {
   "cell_type": "markdown",
   "metadata": {},
   "source": [
    "Lists have a dynamic size and elements can be added (appended) to them"
   ]
  },
  {
   "cell_type": "code",
   "execution_count": 10,
   "metadata": {},
   "outputs": [
    {
     "data": {
      "text/plain": [
       "[10, 20, 30, 40, 4]"
      ]
     },
     "execution_count": 10,
     "metadata": {},
     "output_type": "execute_result"
    }
   ],
   "source": [
    "my_list.append(4)\n",
    "my_list"
   ]
  },
  {
   "cell_type": "markdown",
   "metadata": {},
   "source": [
    "We can access \"slices\" of a list using `my_list[i:j]` where `i` is the start of the slice (again, indexing starts from 0) and `j` the end of the slice. For instance:"
   ]
  },
  {
   "cell_type": "code",
   "execution_count": 11,
   "metadata": {},
   "outputs": [
    {
     "data": {
      "text/plain": [
       "[20, 30]"
      ]
     },
     "execution_count": 11,
     "metadata": {},
     "output_type": "execute_result"
    }
   ],
   "source": [
    "my_list[1:3]"
   ]
  },
  {
   "cell_type": "markdown",
   "metadata": {},
   "source": [
    "Omitting the second index means that the slice shoud run until the end of the list"
   ]
  },
  {
   "cell_type": "code",
   "execution_count": 12,
   "metadata": {},
   "outputs": [
    {
     "data": {
      "text/plain": [
       "[20, 30, 40, 4]"
      ]
     },
     "execution_count": 12,
     "metadata": {},
     "output_type": "execute_result"
    }
   ],
   "source": [
    "my_list[1:]"
   ]
  },
  {
   "cell_type": "markdown",
   "metadata": {},
   "source": [
    "We can check if an element is in the list using `in`."
   ]
  },
  {
   "cell_type": "code",
   "execution_count": 13,
   "metadata": {},
   "outputs": [
    {
     "data": {
      "text/plain": [
       "False"
      ]
     },
     "execution_count": 13,
     "metadata": {},
     "output_type": "execute_result"
    }
   ],
   "source": [
    "5 in my_list"
   ]
  },
  {
   "cell_type": "markdown",
   "metadata": {},
   "source": [
    "The length of a list can be obtained using the `len` function"
   ]
  },
  {
   "cell_type": "code",
   "execution_count": 14,
   "metadata": {},
   "outputs": [
    {
     "data": {
      "text/plain": [
       "5"
      ]
     },
     "execution_count": 14,
     "metadata": {},
     "output_type": "execute_result"
    }
   ],
   "source": [
    "len(my_list)"
   ]
  },
  {
   "cell_type": "markdown",
   "metadata": {},
   "source": [
    "#### Strings\n",
    "- A **string** is a sequence of characters enclosed in quotes.  \n",
    "- Strings can be created using **single (' ')**, **double (\" \")** quotes.  \n",
    "- Strings are **immutable** (they cannot be changed after creation).  \n",
    "- Strings support **indexing** (to access individual characters) and **slicing** (to extract substrings).  \n",
    "- Common string operations include:  \n",
    "  - Concatenation (`+`)  \n",
    "  - Repetition (`*`)  \n",
    "  - Length (`len()`)  \n",
    "  - Methods like `.upper()`, `.lower()`, `.strip()`, `.split()`, etc. "
   ]
  },
  {
   "cell_type": "code",
   "execution_count": 15,
   "metadata": {},
   "outputs": [
    {
     "name": "stdout",
     "output_type": "stream",
     "text": [
      "Hello World, Python is fun!\n"
     ]
    }
   ],
   "source": [
    "# Different ways to create strings\n",
    "str1 = 'Hello'  \n",
    "str2 = \"World,\"  \n",
    "str3 = \"Python is fun!\"  \n",
    "\n",
    "print(str1, str2, str3)\n"
   ]
  },
  {
   "cell_type": "markdown",
   "metadata": {},
   "source": [
    "\n",
    "#### Tuples  \n",
    "\n",
    "- Very similar to lists.  \n",
    "- The key difference: **tuples are immutable** (they cannot be changed after creation).  \n",
    "- Syntax for declaring a tuple:  \n",
    "  - `my_tuple = ()` (using parentheses).  \n",
    "- Elements in a tuple can be accessed by index, just like lists:  \n",
    "  - First element: `my_tuple[0]`  \n",
    "  - Last element: `my_tuple[-1]`  \n"
   ]
  },
  {
   "cell_type": "code",
   "execution_count": null,
   "metadata": {},
   "outputs": [],
   "source": []
  },
  {
   "cell_type": "code",
   "execution_count": 16,
   "metadata": {},
   "outputs": [
    {
     "data": {
      "text/plain": [
       "(5, 'duck')"
      ]
     },
     "execution_count": 16,
     "metadata": {},
     "output_type": "execute_result"
    }
   ],
   "source": [
    "# Creating a tuple\n",
    "my_tuple = (5, \"car\", 15, \"duck\")\n",
    "\n",
    "# Accessing the first and last elements\n",
    "first_element = my_tuple[0]\n",
    "last_element = my_tuple[-1]\n",
    "\n",
    "first_element, last_element\n"
   ]
  },
  {
   "cell_type": "markdown",
   "metadata": {},
   "source": [
    "We cannot modify a tuple and trying to do so introduces an *exception*, or error."
   ]
  },
  {
   "cell_type": "code",
   "execution_count": 17,
   "metadata": {},
   "outputs": [],
   "source": [
    "#my_tuple = (3, 4, 5)\n",
    "#my_tuple[0] = 2"
   ]
  },
  {
   "cell_type": "markdown",
   "metadata": {},
   "source": [
    "#### Dictionaries\n",
    "\n",
    "- **Unordered** collection of key-value pairs.  \n",
    "- Dictionary elements are accessed using **keys**, not positions.\n",
    "- Dictionaries are **mutable** (they can be changed after creation).  \n",
    "- Syntax for creating a dictionary:  \n",
    "  - `my_dictionary = {}` (using curly brackets).  \n",
    "  - Alternatively: `my_dictionary = dict()`, but curly brackets are more commonly used.  \n",
    "- Accessing values:  \n",
    "  - `my_dictionary[\"key_name\"]` retrieves the value associated with `\"key_name\"`.  \n"
   ]
  },
  {
   "cell_type": "code",
   "execution_count": 18,
   "metadata": {},
   "outputs": [
    {
     "data": {
      "text/plain": [
       "('Alice', 25)"
      ]
     },
     "execution_count": 18,
     "metadata": {},
     "output_type": "execute_result"
    }
   ],
   "source": [
    "# Creating a dictionary\n",
    "my_dictionary = {\n",
    "    \"name\": \"Alice\",\n",
    "    \"age\": 25,\n",
    "    \"city\": \"New York\"\n",
    "}\n",
    "\n",
    "# Accessing values by key\n",
    "name = my_dictionary[\"name\"]\n",
    "age = my_dictionary[\"age\"]\n",
    "\n",
    "name, age\n"
   ]
  },
  {
   "cell_type": "code",
   "execution_count": 19,
   "metadata": {},
   "outputs": [],
   "source": [
    "## Conditionals"
   ]
  },
  {
   "cell_type": "markdown",
   "metadata": {},
   "source": [
    "#### Classes  \n",
    "\n",
    "- A **class** is a blueprint for creating **objects**.  \n",
    "- Classes define attributes (variables) and **methods** (functions) that belong to an object.  \n",
    "- The `__init__` method initializes the attributes of the class when an object is created.  \n",
    "- `self` refers to the instance of the class itself and allows access to its attributes and methods.  \n",
    "- Syntax:  \n",
    "\n",
    "```python\n",
    "class ClassName:\n",
    "    def __init__(self, param1, param2):\n",
    "        self.attribute1 = param1\n",
    "        self.attribute2 = param2\n",
    "\n",
    "    def method(self):\n",
    "        return self.attribute1\n"
   ]
  },
  {
   "cell_type": "code",
   "execution_count": 20,
   "metadata": {},
   "outputs": [
    {
     "data": {
      "text/plain": [
       "'Hello, my name is Julen and I am 40 years old.'"
      ]
     },
     "execution_count": 20,
     "metadata": {},
     "output_type": "execute_result"
    }
   ],
   "source": [
    "# Defining a simple class\n",
    "class Person:\n",
    "    def __init__(self, name, age):\n",
    "        self.name = name  # Attribute: name\n",
    "        self.age = age    # Attribute: age\n",
    "\n",
    "    def greet(self):\n",
    "        return f\"Hello, my name is {self.name} and I am {self.age} years old.\"\n",
    "\n",
    "\n",
    "# Creating an instance of the Person class\n",
    "person1 = Person(\"Julen\", 40)\n",
    "\n",
    "# Calling the method\n",
    "person1.greet()\n",
    "\n"
   ]
  },
  {
   "cell_type": "code",
   "execution_count": 21,
   "metadata": {},
   "outputs": [
    {
     "name": "stdout",
     "output_type": "stream",
     "text": [
      "30\n",
      "0\n"
     ]
    }
   ],
   "source": [
    "class Calculator:\n",
    "    def __init__(self, value):\n",
    "        self.value = value  # Instance attribute\n",
    "\n",
    "    def add(self, num):\n",
    "        self.value += num  # Modifies the instance attribute\n",
    "\n",
    "    def multiply(self, num):\n",
    "        self.value *= num  # Another instance method\n",
    "\n",
    "    def reset():\n",
    "        return Calculator(0)  # No 'self', creates a new instance\n",
    "\n",
    "# Creating an instance\n",
    "calc = Calculator(10)\n",
    "calc.add(5)         # 10 + 5 = 15\n",
    "calc.multiply(2)    # 15 * 2 = 30\n",
    "\n",
    "# Calling the method without an instance\n",
    "new_calc = Calculator.reset()  # Creates a new Calculator instance with value 0\n",
    "\n",
    "# Printing results\n",
    "print(calc.value)  # Output: 30\n",
    "print(new_calc.value)  # Output: 0\n"
   ]
  },
  {
   "cell_type": "markdown",
   "metadata": {},
   "source": [
    "### Exercises"
   ]
  },
  {
   "cell_type": "markdown",
   "metadata": {},
   "source": [
    "- **Exercise 1**: List Operations  \n",
    "\n",
    "Create a list containing the numbers `[3, 7, 2, 9, 1]`.  \n",
    "Perform the following operations:  \n",
    "1. Append the number `5` to the list.  \n",
    "2. Remove the smallest number.  \n",
    "3. Sort the list in descending order.  \n",
    "4. Retrieve and print the last element in the list.  \n"
   ]
  },
  {
   "cell_type": "code",
   "execution_count": 22,
   "metadata": {},
   "outputs": [
    {
     "name": "stdout",
     "output_type": "stream",
     "text": [
      "2\n",
      "[9, 7, 5, 3, 2]\n"
     ]
    }
   ],
   "source": [
    "# Solution\n",
    "numbers = [3, 7, 2, 9, 1]\n",
    "\n",
    "# 1. Append 5\n",
    "numbers.append(5)\n",
    "\n",
    "# 2. Remove the smallest number\n",
    "numbers.remove(min(numbers))\n",
    "\n",
    "# 3. Sort in descending order\n",
    "numbers.sort(reverse=True)\n",
    "\n",
    "# 4. Print the last element\n",
    "print(numbers[-1])\n",
    "\n",
    "# Final list\n",
    "print(numbers)\n"
   ]
  },
  {
   "cell_type": "markdown",
   "metadata": {},
   "source": [
    "- **Exercise 2**: Tuples\n",
    "\n",
    "Given the tuple `coordinates = (10, 20, 30)`:  \n",
    "1. Extract the values into three variables: `x, y, z`.  \n",
    "2. Print each variable separately.  \n",
    "3. Try modifying `x` to `15` and observe what happens.  \n"
   ]
  },
  {
   "cell_type": "code",
   "execution_count": 23,
   "metadata": {},
   "outputs": [
    {
     "name": "stdout",
     "output_type": "stream",
     "text": [
      "10\n",
      "20\n",
      "30\n"
     ]
    }
   ],
   "source": [
    "# Solution\n",
    "coordinates = (10, 20, 30)\n",
    "\n",
    "# 1. Tuple unpacking\n",
    "x, y, z = coordinates\n",
    "\n",
    "# 2. Print values\n",
    "print(x)\n",
    "print(y)\n",
    "print(z)\n",
    "\n",
    "# 3. Attempt to modify x (this will raise an error)\n",
    "# x = 15  # Uncommenting this will cause a TypeError\n"
   ]
  },
  {
   "cell_type": "markdown",
   "metadata": {},
   "source": [
    "- **Exercise 3**: Dictionaries  \n",
    "\n",
    "Create a dictionary representing a student's grades with the following data:  \n",
    "- `\"Math\"`: `85`  \n",
    "- `\"Science\"`: `90`  \n",
    "- `\"History\"`: `78`  \n",
    "\n",
    "Then, perform the following:  \n",
    "1. Add a new subject `\"English\"` with a grade of `88`.  \n",
    "2. Update the `\"Math\"` grade to `92`.  \n",
    "3. Remove `\"History\"` from the dictionary.  \n",
    "4. Print all subjects and their corresponding grades.  \n"
   ]
  },
  {
   "cell_type": "code",
   "execution_count": 24,
   "metadata": {},
   "outputs": [
    {
     "name": "stdout",
     "output_type": "stream",
     "text": [
      "Math: 92\n",
      "Science: 90\n",
      "English: 88\n"
     ]
    }
   ],
   "source": [
    "# Solution\n",
    "grades = {\n",
    "    \"Math\": 85,\n",
    "    \"Science\": 90,\n",
    "    \"History\": 78\n",
    "}\n",
    "\n",
    "# 1. Add \"English\" with a grade of 88\n",
    "grades[\"English\"] = 88\n",
    "\n",
    "# 2. Update \"Math\" grade to 92\n",
    "grades[\"Math\"] = 92\n",
    "\n",
    "# 3. Remove \"History\" safely (avoids KeyError if not present)\n",
    "grades.pop(\"History\", None)\n",
    "\n",
    "# 4. Print all subjects and grades\n",
    "for subject, grade in grades.items():\n",
    "    print(f\"{subject}: {grade}\")\n"
   ]
  },
  {
   "cell_type": "markdown",
   "metadata": {},
   "source": [
    "- **Exercise 4**: Classes\n",
    "\n",
    "1. Define a class `NeuralNetwork` with the following properties:  \n",
    "   - `architecture` (string)  \n",
    "   - `layers` (integer)  \n",
    "   - `activation_function` (string)  \n",
    "\n",
    "2. Create an `__init__` method to initialize these attributes.  \n",
    "\n",
    "3. Add a method `get_info()` that returns a formatted string describing the neural network.  \n",
    "\n",
    "4. Instantiate a `NeuralNetwork` object with `\"Feedforward\"`, `5`, and `\"ReLU\"`.  \n",
    "\n",
    "5. Call the `get_info()` method and print the result.  "
   ]
  },
  {
   "cell_type": "code",
   "execution_count": 25,
   "metadata": {},
   "outputs": [
    {
     "name": "stdout",
     "output_type": "stream",
     "text": [
      "('Feedforward', 5, 'ReLU')\n"
     ]
    }
   ],
   "source": [
    "# Solution\n",
    "class NeuralNetwork:\n",
    "    def __init__(self, architecture, layers, activation):\n",
    "        self.architecture = architecture\n",
    "        self.layers = layers\n",
    "        self.activation = activation\n",
    "    \n",
    "    def get_info(self):\n",
    "        return self.architecture, self.layers, self.activation\n",
    "#        return f\"Neural Network: {self.architecture} with {self.layers} layers using {self.activation} activation\"\n",
    "\n",
    "# 4. Create a NeuralNetwork object\n",
    "my_nn = NeuralNetwork(\"Feedforward\", 5, \"ReLU\")\n",
    "\n",
    "# 5. Call get_info() and print\n",
    "print(my_nn.get_info())\n"
   ]
  },
  {
   "cell_type": "markdown",
   "metadata": {},
   "source": [
    "## Loops, Conditional Statements, Functions\n",
    "\n",
    "---"
   ]
  },
  {
   "cell_type": "markdown",
   "metadata": {},
   "source": [
    "### Loops \n",
    "\n",
    "Loops allow us to execute a block of code multiple times. Python has two main types of loops:  \n",
    "\n",
    "- **`for` loops** → Used for iterating over sequences (like lists, tuples, dictionaries, or strings).  \n",
    "- **`while` loops** → Runs as long as a given condition is `True`.  \n",
    "\n",
    "\n"
   ]
  },
  {
   "cell_type": "markdown",
   "metadata": {},
   "source": [
    "**`for`** loop "
   ]
  },
  {
   "cell_type": "code",
   "execution_count": 26,
   "metadata": {},
   "outputs": [
    {
     "name": "stdout",
     "output_type": "stream",
     "text": [
      "apple\n",
      "banana\n",
      "cherry\n"
     ]
    }
   ],
   "source": [
    "# Looping through a list\n",
    "fruits = [\"apple\", \"banana\", \"cherry\"]\n",
    "for fruit in fruits:\n",
    "    print(fruit)\n"
   ]
  },
  {
   "cell_type": "markdown",
   "metadata": {},
   "source": [
    "**`for`** loop with range"
   ]
  },
  {
   "cell_type": "code",
   "execution_count": 27,
   "metadata": {},
   "outputs": [
    {
     "name": "stdout",
     "output_type": "stream",
     "text": [
      "0\n",
      "1\n",
      "2\n",
      "3\n",
      "4\n"
     ]
    }
   ],
   "source": [
    "# Using range to loop through numbers 0-4\n",
    "for i in range(5):\n",
    "    print(i)\n"
   ]
  },
  {
   "cell_type": "markdown",
   "metadata": {},
   "source": [
    "**`while` ** loop\n"
   ]
  },
  {
   "cell_type": "code",
   "execution_count": 28,
   "metadata": {},
   "outputs": [
    {
     "name": "stdout",
     "output_type": "stream",
     "text": [
      "Count is: 0\n",
      "Count is: 1\n",
      "Count is: 2\n"
     ]
    }
   ],
   "source": [
    "# Looping while a condition is True\n",
    "count = 0\n",
    "while count < 3:\n",
    "    print(\"Count is:\", count)\n",
    "    count += 1\n"
   ]
  },
  {
   "cell_type": "markdown",
   "metadata": {},
   "source": [
    "### Conditional Statements\n",
    "\n",
    "(`if`, `if-else`, and `if-elif-else` Clauses)\n",
    "\n",
    "Conditional statements in Python allow the execution of different blocks of code depending on certain conditions.\n",
    "\n",
    "- **`if`**: Executes a block of code if the condition is `True`.  \n",
    "- **`elif` (else if)**: Checks another condition if the previous `if` condition was `False`. You can have multiple `elif` statements.  \n",
    "- **`else`**: Executes a block of code if none of the `if` or `elif` conditions are met. It acts as the default case.\n"
   ]
  },
  {
   "cell_type": "code",
   "execution_count": 29,
   "metadata": {},
   "outputs": [
    {
     "name": "stdout",
     "output_type": "stream",
     "text": [
      "x is greater than 5 but not more than 10\n"
     ]
    }
   ],
   "source": [
    "x = 7\n",
    "if x > 10:\n",
    "    print(\"x is greater than 10\")\n",
    "elif x > 5:\n",
    "    print(\"x is greater than 5 but not more than 10\")\n",
    "else:\n",
    "    print(\"x is 5 or less\")  # This will execute\n"
   ]
  },
  {
   "cell_type": "markdown",
   "metadata": {},
   "source": [
    "It is possible to include logical operators"
   ]
  },
  {
   "cell_type": "code",
   "execution_count": 30,
   "metadata": {},
   "outputs": [
    {
     "name": "stdout",
     "output_type": "stream",
     "text": [
      "Good performance, but there’s room for improvement.\n"
     ]
    }
   ],
   "source": [
    "score = 85\n",
    "attendance = 90\n",
    "\n",
    "if score >= 90 and attendance >= 80:\n",
    "    print(\"Excellent performance!\")  \n",
    "elif (score >= 70 and attendance >= 75) or (score >= 80 and attendance >= 60):\n",
    "    print(\"Good performance, but there’s room for improvement.\")\n",
    "elif score < 70 and (attendance < 75 or score < 50):\n",
    "    print(\"Needs significant improvement.\")\n",
    "else:\n",
    "    print(\"Performance is average.\")"
   ]
  },
  {
   "cell_type": "markdown",
   "metadata": {},
   "source": [
    "### Functions\n",
    "\n",
    "- A **function** is a reusable block of code that executes only when explicitly called.  \n",
    "- Functions allow code modularity, improving readability and maintainability.  \n",
    "- Functions can:  \n",
    "  - Accept **arguments** (or **parameters**) to modify their behavior.  \n",
    "  - Accept **any number** and **any type** of inputs.  \n",
    "  - Always **return a single object** (even if that object is a tuple, which may appear as multiple values).  \n",
    "- Syntax for defining a function:  \n",
    "\n",
    "```python\n",
    "def function_name(parameter1, parameter2):\n",
    "    # Function body (code to execute)\n",
    "    return some_value\n"
   ]
  },
  {
   "cell_type": "code",
   "execution_count": 31,
   "metadata": {},
   "outputs": [
    {
     "name": "stdout",
     "output_type": "stream",
     "text": [
      "8\n"
     ]
    }
   ],
   "source": [
    "# Function that takes two numbers and returns their sum\n",
    "def add_numbers(a, b):\n",
    "    return a + b\n",
    "\n",
    "# Using the function\n",
    "result = add_numbers(3, 5)\n",
    "print(result)  # Output: 8\n",
    "\n"
   ]
  },
  {
   "cell_type": "code",
   "execution_count": 32,
   "metadata": {},
   "outputs": [
    {
     "name": "stdout",
     "output_type": "stream",
     "text": [
      "Minimum: 1, Maximum: 9\n"
     ]
    }
   ],
   "source": [
    "# Function that returns multiple values (as a tuple)\n",
    "def min_max(values):\n",
    "    return min(values), max(values)\n",
    "\n",
    "# Calling the function\n",
    "numbers = [4, 7, 1, 9, 3]\n",
    "min_val, max_val = min_max(numbers)\n",
    "\n",
    "print(f\"Minimum: {min_val}, Maximum: {max_val}\")\n"
   ]
  },
  {
   "cell_type": "markdown",
   "metadata": {},
   "source": [
    "### Lambda Functions in Python  \n",
    "\n",
    "Lambda functions, also known as **anonymous functions**, are **small, single-line functions** that do not require a name. They are useful for **quick, simple operations** without formally defining a function using `def`.  \n"
   ]
  },
  {
   "cell_type": "code",
   "execution_count": 33,
   "metadata": {},
   "outputs": [
    {
     "name": "stdout",
     "output_type": "stream",
     "text": [
      "[1, 4, 9, 16, 25]\n"
     ]
    }
   ],
   "source": [
    "# Example: Squaring a list of numbers using lambda\n",
    "numbers = [1, 2, 3, 4, 5]\n",
    "squared_numbers = list(map(lambda x: x**2, numbers))\n",
    "\n",
    "print(squared_numbers)  # Output: [1, 4, 9, 16, 25]\n"
   ]
  },
  {
   "cell_type": "markdown",
   "metadata": {},
   "source": [
    "### Exercises"
   ]
  },
  {
   "cell_type": "markdown",
   "metadata": {},
   "source": [
    "**Exercise 1**: Compute the Sum of Even Layer Sizes  \n",
    "In a neural network, the number of neurons in each layer is often defined as a list.  \n",
    "Write a function `sum_even_layers(layers)` that takes a list of integers representing layer sizes and returns the sum of the sizes of layers that contain an even number of neurons.\n",
    "\n",
    "Example:  \n",
    "```python\n",
    "sum_even_layers([32, 64, 128, 45, 23, 256])  # Output: 448 (32 + 64 + 128 + 256)\n"
   ]
  },
  {
   "cell_type": "code",
   "execution_count": 34,
   "metadata": {},
   "outputs": [
    {
     "name": "stdout",
     "output_type": "stream",
     "text": [
      "480\n"
     ]
    }
   ],
   "source": [
    "def sum_even_layers(layers):\n",
    "    total = 0\n",
    "    for layer in layers:\n",
    "        if layer % 2 == 0:\n",
    "            total += layer\n",
    "    return total\n",
    "\n",
    "# Example usage\n",
    "result = sum_even_layers([32, 64, 128, 45, 23, 256])\n",
    "print(result)  # Output: 480 (32 + 64 + 128 + 256)\n"
   ]
  },
  {
   "cell_type": "code",
   "execution_count": 35,
   "metadata": {},
   "outputs": [
    {
     "name": "stdout",
     "output_type": "stream",
     "text": [
      "480\n"
     ]
    }
   ],
   "source": [
    "def sum_even_layers(layers):\n",
    "    return sum(layer for layer in layers if layer % 2 == 0)\n",
    "\n",
    "# Example usage\n",
    "result = sum_even_layers([32, 64, 128, 45, 23, 256])\n",
    "print(result)  # Output: 480 (32 + 64 + 128 + 256)\n"
   ]
  },
  {
   "cell_type": "markdown",
   "metadata": {},
   "source": [
    "**Exercise 2**: Reverse an Activation Function Name  \n",
    "Activation functions such as `\"relu\"`, `\"sigmoid\"`, and `\"tanh\"` are widely used in neural networks.  \n",
    "Write a function `reverse_activation(name)` that takes an activation function name as a string and returns the reversed string.\n",
    "\n",
    "Example:  \n",
    "```python\n",
    "reverse_activation(\"relu\")  # Output: \"ruler\""
   ]
  },
  {
   "cell_type": "code",
   "execution_count": 36,
   "metadata": {},
   "outputs": [
    {
     "data": {
      "text/plain": [
       "'uler'"
      ]
     },
     "execution_count": 36,
     "metadata": {},
     "output_type": "execute_result"
    }
   ],
   "source": [
    "def reverse_activation(name):\n",
    "    reversed_name = \"\"\n",
    "    for char in name:\n",
    "        reversed_name = char + reversed_name  # Prepend character\n",
    "    return reversed_name\n",
    "\n",
    "# Example test\n",
    "reverse_activation(\"relu\")  # Expected Output: \"uler\"\n"
   ]
  },
  {
   "cell_type": "markdown",
   "metadata": {},
   "source": [
    "**Exercise 3**: Count the Number of ReLU Activations  \n",
    "Given a list of activation functions used in a neural network, write a function `count_relu(activations)` that counts how many times `\"relu\"` appears.\n",
    "\n",
    "Example:  \n",
    "```python\n",
    "count_relu([\"relu\", \"sigmoid\", \"relu\", \"tanh\", \"relu\", \"softmax\"])  # Output: 3\n"
   ]
  },
  {
   "cell_type": "markdown",
   "metadata": {},
   "source": [
    "## Modules and External Libraries\n",
    "\n",
    "- In programming, a **module** is a piece of software that has a specific functionality.  \n",
    "- For example, when building a **neural network**, one module may handle the **data preprocessing**, while another module is responsible for **model training** or **performance evaluation**.\n",
    "- Think of **Modules, Packages, and Libraries** as **programs written by other developers**. Instead of coding everything from scratch, you can use them.\n",
    "- Before using a module, you **must import** it into your script."
   ]
  },
  {
   "cell_type": "code",
   "execution_count": 37,
   "metadata": {},
   "outputs": [
    {
     "ename": "AttributeError",
     "evalue": "module 'numpy' has no attribute 'array'",
     "output_type": "error",
     "traceback": [
      "\u001b[31m---------------------------------------------------------------------------\u001b[39m",
      "\u001b[31mAttributeError\u001b[39m                            Traceback (most recent call last)",
      "\u001b[36mCell\u001b[39m\u001b[36m \u001b[39m\u001b[32mIn[37]\u001b[39m\u001b[32m, line 6\u001b[39m\n\u001b[32m      3\u001b[39m \u001b[38;5;28;01mimport\u001b[39;00m\u001b[38;5;250m \u001b[39m\u001b[34;01mnumpy\u001b[39;00m\u001b[38;5;250m \u001b[39m\u001b[38;5;28;01mas\u001b[39;00m\u001b[38;5;250m \u001b[39m\u001b[34;01mnp\u001b[39;00m  \u001b[38;5;66;03m# Importing the NumPy library\u001b[39;00m\n\u001b[32m      5\u001b[39m \u001b[38;5;66;03m# Creating a simple NumPy array\u001b[39;00m\n\u001b[32m----> \u001b[39m\u001b[32m6\u001b[39m data = \u001b[43mnp\u001b[49m\u001b[43m.\u001b[49m\u001b[43marray\u001b[49m([\u001b[32m1\u001b[39m, \u001b[32m2\u001b[39m, \u001b[32m3\u001b[39m, \u001b[32m4\u001b[39m, \u001b[32m5\u001b[39m])\n\u001b[32m      8\u001b[39m \u001b[38;5;66;03m# Performing a basic operation (element-wise multiplication)\u001b[39;00m\n\u001b[32m      9\u001b[39m scaled_data = data * \u001b[32m2\u001b[39m  \n",
      "\u001b[31mAttributeError\u001b[39m: module 'numpy' has no attribute 'array'"
     ]
    }
   ],
   "source": [
    "#Numpy arrays are great alternatives to Python Lists. Some of the key advantages of Numpy arrays are that they are fast, easy to work with, and give users the opportunity to perform calculations across entire arrays.\n",
    "\n",
    "import numpy as np  # Importing the NumPy library\n",
    "\n",
    "# Creating a simple NumPy array\n",
    "data = np.array([1, 2, 3, 4, 5])\n",
    "\n",
    "# Performing a basic operation (element-wise multiplication)\n",
    "scaled_data = data * 2  \n",
    "\n",
    "print(scaled_data)  # Output: [ 2  4  6  8 10]\n"
   ]
  },
  {
   "cell_type": "code",
   "execution_count": null,
   "metadata": {},
   "outputs": [],
   "source": [
    "# Pandas is a high-level data manipulation tool developed by Wes McKinney. It is built on the Numpy package and its key data structure is called the DataFrame. DataFrames allow you to store and manipulate tabular data in rows of observations and columns of variables.\n",
    "\n",
    "\n",
    "\n",
    "# Creating a dict to store data on brics\n",
    "bricsdata = {\"country\": [\"Brazil\", \"Russia\", \"India\", \"China\", \"South Africa\"],\n",
    "       \"capital\": [\"Brasilia\", \"Moscow\", \"New Dehli\", \"Beijing\", \"Pretoria\"],\n",
    "       \"area\": [8.516, 17.10, 3.286, 9.597, 1.221],\n",
    "       \"population\": [200.4, 143.5, 1252, 1357, 52.98] }\n",
    "\n",
    "# Import the pandas package as pd\n",
    "import pandas as pd\n",
    "\n",
    "# Create pandas dataframe from brics data\n",
    "brics = pd.DataFrame(bricsdata)\n",
    "# print(brics)\n",
    "\n",
    "# Set the index for brics\n",
    "brics.index = [\"BR\", \"RU\", \"IN\", \"CH\", \"SA\"]\n",
    "\n",
    "# Print out brics with new index values\n",
    "print(brics)\n",
    "     \n"
   ]
  },
  {
   "cell_type": "markdown",
   "metadata": {},
   "source": [
    "## Numerics: NumPy\n",
    "\n",
    "- **NumPy** (Numerical Python) is a fundamental library for numerical computations in Python. It provides support for **multi-dimensional arrays** and **mathematical functions** to operate on them efficiently.  \n",
    "\n",
    "- <u>**Why Use NumPy**</u>\n",
    "\n",
    "    - **Fast and efficient**: Operations on NumPy arrays are much faster than Python lists.  \n",
    "    - **Support for multi-dimensional arrays**: Essential for machine learning and data processing.  \n",
    "    - **Built-in mathematical functions**: Enables complex computations with ease.  \n",
    "\n",
    "\n",
    "---"
   ]
  },
  {
   "cell_type": "code",
   "execution_count": null,
   "metadata": {},
   "outputs": [],
   "source": [
    "# Importing NumPy\n",
    "\n",
    "# Before using NumPy, it must be imported: \n",
    "\n",
    "import numpy as np\n"
   ]
  },
  {
   "cell_type": "markdown",
   "metadata": {},
   "source": [
    "Entering `fun?` in Python will display the documentation for the function `fun`, if available.  \n",
    "Let's test this with `np.array()`.  \n"
   ]
  },
  {
   "cell_type": "code",
   "execution_count": null,
   "metadata": {},
   "outputs": [],
   "source": [
    "#np.array?\n"
   ]
  },
  {
   "cell_type": "markdown",
   "metadata": {},
   "source": [
    "### Array Creation\n",
    "---"
   ]
  },
  {
   "cell_type": "markdown",
   "metadata": {},
   "source": [
    "In `numpy`, an *array* refers to a multidimensional collection of numerical values.  \n",
    "We can create one-dimensional arrays, also known as vectors, using the `np.array()` function.  \n",
    "\n",
    "Below, `x` and `y` are examples of such arrays.\n"
   ]
  },
  {
   "cell_type": "code",
   "execution_count": null,
   "metadata": {},
   "outputs": [],
   "source": [
    "x = np.array([1, 2, 3])\n",
    "y = np.array([4, 5, 6])\n",
    "\n",
    "print(\"Array x:\", x)\n",
    "print(\"Array y:\", y)\n"
   ]
  },
  {
   "cell_type": "markdown",
   "metadata": {},
   "source": [
    "Because `x` and `y` were created with `np.array()`, adding them together produces the expected result.  \n",
    "This differs from the behavior seen earlier when attempting to add two standard Python lists without using `numpy`.  \n"
   ]
  },
  {
   "cell_type": "code",
   "execution_count": null,
   "metadata": {},
   "outputs": [],
   "source": [
    "x + y"
   ]
  },
  {
   "cell_type": "markdown",
   "metadata": {},
   "source": [
    "In `numpy`, matrices are usually represented as two-dimensional arrays, while vectors are one-dimensional arrays.  \n",
    "{Although `np.matrix()` can also be used to define matrices, we will rely on `np.array()` throughout these labs.}  \n",
    "A two-dimensional array can be created as shown below.  \n"
   ]
  },
  {
   "cell_type": "code",
   "execution_count": null,
   "metadata": {},
   "outputs": [],
   "source": [
    "x = np.array([[1, 2], [3, 4]])\n",
    "x"
   ]
  },
  {
   "cell_type": "markdown",
   "metadata": {},
   "source": [
    "Another useful routine is `linspace` for creating linearly spaced values in an interval. For instance, to create 10 values in `[0, 1]`, we can use"
   ]
  },
  {
   "cell_type": "code",
   "execution_count": null,
   "metadata": {},
   "outputs": [],
   "source": [
    "np.linspace(0, 1, 10)"
   ]
  },
  {
   "cell_type": "markdown",
   "metadata": {},
   "source": [
    "The object `x` comes with multiple *attributes*—associated properties that provide useful information.  \n",
    "To access an attribute of `x`, we use the syntax `x.attribute`, replacing `attribute` with the specific name.  \n",
    "For example, we can retrieve the `ndim` attribute of `x` as shown below.  \n"
   ]
  },
  {
   "cell_type": "code",
   "execution_count": null,
   "metadata": {},
   "outputs": [],
   "source": [
    "x.ndim"
   ]
  },
  {
   "cell_type": "markdown",
   "metadata": {},
   "source": [
    "The result tells us that `x` is a two-dimensional array.  \n",
    "Likewise, the `x.dtype` attribute reveals the *data type* of `x`, showing that it consists of 64-bit integers:  \n"
   ]
  },
  {
   "cell_type": "code",
   "execution_count": null,
   "metadata": {},
   "outputs": [],
   "source": [
    "x.dtype"
   ]
  },
  {
   "cell_type": "markdown",
   "metadata": {},
   "source": [
    "Why does `x` contain integers? This happens because we constructed `x` using only integer values with the `np.array()` function.  \n",
    "If we had included any decimal numbers, the resulting array would consist of *floating point numbers* (i.e., real numbers).  \n"
   ]
  },
  {
   "cell_type": "code",
   "execution_count": null,
   "metadata": {},
   "outputs": [],
   "source": [
    "np.array([[1, 2], [3.0, 4]]).dtype\n"
   ]
  },
  {
   "cell_type": "markdown",
   "metadata": {},
   "source": [
    "The array `x` is a two-dimensional structure. To determine the number of rows and columns it contains, we can check its `shape` attribute.  \n"
   ]
  },
  {
   "cell_type": "code",
   "execution_count": null,
   "metadata": {},
   "outputs": [],
   "source": [
    "x.shape\n"
   ]
  },
  {
   "cell_type": "markdown",
   "metadata": {},
   "source": [
    "### Basic Operations\n",
    "---"
   ]
  },
  {
   "cell_type": "markdown",
   "metadata": {},
   "source": [
    "In NumPy, functions that perform element-wise operations on arrays are known as [universal functions](https://numpy.org/doc/stable/reference/ufuncs.html).  \n"
   ]
  },
  {
   "cell_type": "code",
   "execution_count": null,
   "metadata": {},
   "outputs": [],
   "source": [
    "np.sin(x)"
   ]
  },
  {
   "cell_type": "markdown",
   "metadata": {},
   "source": [
    "Arrays support direct arithmetic operations.  \n",
    "For example, if two arrays have compatible shapes, we can add them together like this:  \n"
   ]
  },
  {
   "cell_type": "code",
   "execution_count": null,
   "metadata": {},
   "outputs": [],
   "source": [
    "array_a = np.array([1, 2, 3])\n",
    "array_b = np.array([4, 5, 6])\n",
    "array_a + array_b"
   ]
  },
  {
   "cell_type": "markdown",
   "metadata": {},
   "source": [
    "A *method* is a function that belongs to a specific object.  \n",
    "For example, if we have an array `x`, we can use the `sum()` method to compute the sum of all its elements by calling `x.sum()`.  \n",
    "This function call impl*Another* important operation is `reshape`, for changing the shape of an arrayicitly passes `x` as the first argument to its `sum()` method.\n",
    "\n",
    "Example: Sum elements of `x` by passing in `x` as an argument to the `np.sum()` function. "
   ]
  },
  {
   "cell_type": "code",
   "execution_count": null,
   "metadata": {},
   "outputs": [],
   "source": [
    "x = np.array([1, 2, 3, 4])\n",
    "np.sum(x)"
   ]
  },
  {
   "cell_type": "markdown",
   "metadata": {},
   "source": [
    "Another example is the `reshape()` method, which generates a new array with the same elements as `x` but a different shape.  \n",
    "To achieve this, we pass a `tuple` as an argument to `reshape()`. For instance, `(2, 3)` specifies that we want a two-dimensional array with 2 rows and 3 columns.  \n",
    "\n",
    "{Tuples, like lists, represent a sequence of objects. The key difference is that tuples are *immutable*, meaning their elements cannot be changed after creation, whereas lists allow modifications.}  \n",
    "\n",
    "In the following example, the `\\n` character is used to create a *new line* in the output.  \n"
   ]
  },
  {
   "cell_type": "code",
   "execution_count": null,
   "metadata": {},
   "outputs": [],
   "source": [
    "x = np.array([1, 2, 3, 4, 5, 6])\n",
    "print('beginning x:\\n', x)\n",
    "x_reshape = x.reshape((2, 3))\n",
    "print('reshaped x:\\n', x_reshape)\n"
   ]
  },
  {
   "cell_type": "markdown",
   "metadata": {},
   "source": [
    "The output above shows that `numpy` arrays are structured as a sequence of *rows*.  \n",
    "This arrangement is known as **row-major ordering**, in contrast to *column-major ordering*.  \n"
   ]
  },
  {
   "cell_type": "markdown",
   "metadata": {},
   "source": [
    "In `Python` (and therefore `numpy`), indexing starts at 0.  \n",
    "This means that to retrieve the top-left element of `x_reshape`, we use `x_reshape[0,0]`.  \n"
   ]
  },
  {
   "cell_type": "code",
   "execution_count": null,
   "metadata": {},
   "outputs": [],
   "source": [
    "x_reshape[0, 0] "
   ]
  },
  {
   "cell_type": "markdown",
   "metadata": {},
   "source": [
    "We can create and reshape together"
   ]
  },
  {
   "cell_type": "code",
   "execution_count": null,
   "metadata": {},
   "outputs": [],
   "source": [
    "A = np.array(np.arange(16)).reshape((4, 4))\n",
    "A"
   ]
  },
  {
   "cell_type": "markdown",
   "metadata": {},
   "source": [
    "Let's take a quick look at some useful attributes of arrays.  \n",
    "The `shape` attribute returns the array's dimensions as a tuple.  \n",
    "The `ndim` attribute indicates the number of dimensions, while `T` gives the array's transpose.  \n"
   ]
  },
  {
   "cell_type": "code",
   "execution_count": null,
   "metadata": {},
   "outputs": [],
   "source": [
    "print('x_reshape     :\\n', x_reshape)\n",
    "print('shape         :', x_reshape.shape)\n",
    "print('nr. dimensions:', x_reshape.ndim)\n",
    "print('transpose     :\\n', x_reshape.T)"
   ]
  },
  {
   "cell_type": "markdown",
   "metadata": {},
   "source": [
    "Like Python lists, NumPy arrays support slicing\n"
   ]
  },
  {
   "cell_type": "code",
   "execution_count": null,
   "metadata": {},
   "outputs": [],
   "source": [
    "np.arange(10)[5:]"
   ]
  },
  {
   "cell_type": "markdown",
   "metadata": {},
   "source": [
    "We can also select only certain elements from the array"
   ]
  },
  {
   "cell_type": "code",
   "execution_count": null,
   "metadata": {},
   "outputs": [],
   "source": [
    "x = np.arange(10)\n",
    "mask = x >= 5\n",
    "x[mask]"
   ]
  },
  {
   "cell_type": "markdown",
   "metadata": {},
   "source": [
    "### Exercises"
   ]
  },
  {
   "cell_type": "markdown",
   "metadata": {},
   "source": [
    "**Exercise 1** : More simple\n",
    "Create a 3x3 NumPy array filled with numbers from 1 to 9.  \n",
    "1. Access and print the element in the second row, third column.  \n",
    "2. Modify this element to be 99 and print the updated array.  \n"
   ]
  },
  {
   "cell_type": "code",
   "execution_count": null,
   "metadata": {},
   "outputs": [],
   "source": [
    "# Solution\n",
    "arr = np.array([[1, 2, 3], [4, 5, 6], [7, 8, 9]])\n",
    "\n",
    "# Access element at second row, third column\n",
    "print(\"Original element:\", arr[1, 2])\n",
    "\n",
    "# Modify the element\n",
    "arr[1, 2] = 99\n",
    "\n",
    "# Print the modified array\n",
    "print(\"Updated array:\\n\", arr)\n"
   ]
  },
  {
   "cell_type": "markdown",
   "metadata": {},
   "source": [
    "**Exercise 2**: More advanced\n",
    "\n",
    "1. Manually create a **4×5 NumPy array** containing integer values.\n",
    "2. Print the **shape**, **data type**, and **number of dimensions** of the array.\n",
    "3. Convert the array’s data type to `float64` and print the updated data type.\n",
    "4. **Reshape** the array into a **2×10** array and print the new shape.\n",
    "5. **Flatten** the array into a one-dimensional array and print its shape (use `flatten` method).\n"
   ]
  },
  {
   "cell_type": "code",
   "execution_count": null,
   "metadata": {},
   "outputs": [],
   "source": [
    "# Step 1: Manually create a 4x5 array with integer values\n",
    "arr = np.array([[12, 23, 34, 45, 56],\n",
    "                [67, 78, 89, 90, 12],\n",
    "                [21, 32, 43, 54, 65],\n",
    "                [76, 87, 98, 11, 22]])\n",
    "\n",
    "print(\"Original Array:\\n\", arr)\n",
    "\n",
    "# Step 2: Print shape, data type, and number of dimensions\n",
    "print(\"Shape:\", arr.shape)\n",
    "print(\"Data Type:\", arr.dtype)\n",
    "print(\"Number of Dimensions:\", arr.ndim)\n",
    "\n",
    "# Step 3: Convert the array to float64\n",
    "arr_float = arr.astype(np.float64)\n",
    "print(\"Updated Data Type:\", arr_float.dtype)\n",
    "\n",
    "# Step 4: Reshape the array to 2x10\n",
    "arr_reshaped = arr_float.reshape(2, 10)\n",
    "print(\"New Shape (2x10):\", arr_reshaped.shape)\n",
    "\n",
    "# Step 5: Flatten the array\n",
    "arr_flattened = arr_reshaped.flatten()\n",
    "print(\"Flattened Shape:\", arr_flattened.shape)\n"
   ]
  },
  {
   "cell_type": "markdown",
   "metadata": {},
   "source": [
    "---"
   ]
  },
  {
   "cell_type": "markdown",
   "metadata": {},
   "source": [
    "### Numerical Python\n",
    "---"
   ]
  },
  {
   "cell_type": "markdown",
   "metadata": {},
   "source": [
    "#### Random Module\n",
    "\n",
    "The `np.random` module in NumPy provides functions for generating random numbers, which are useful in simulations, machine learning, and statistical modeling.  \n",
    "\n",
    "**Key Functionalities:**  \n",
    "- **Generating random integers:** `np.random.randint(low, high, size, dtype)`  \n",
    "- **Generating random floats:** `np.random.random(size)` or `np.random.rand(dim1, dim2, ...)`  \n",
    "- **Sampling from distributions:** `np.random.normal(mean, std, size)`, `np.random.uniform(low, high, size)`  \n",
    "- **Shuffling arrays:** `np.random.shuffle(arr)`  \n",
    "- **Setting a random seed:** `np.random.seed(seed_value)` (for reproducibility)  \n",
    "\n",
    "---"
   ]
  },
  {
   "cell_type": "markdown",
   "metadata": {},
   "source": [
    "We generate 50 independent random variables from a $N(0,1)$ distribution. "
   ]
  },
  {
   "cell_type": "code",
   "execution_count": null,
   "metadata": {},
   "outputs": [],
   "source": [
    "x = np.random.normal(size=50)\n",
    "x"
   ]
  },
  {
   "cell_type": "markdown",
   "metadata": {},
   "source": [
    "We get a **different set of results** any time we execute. We need to fix the seeding."
   ]
  },
  {
   "cell_type": "markdown",
   "metadata": {},
   "source": [
    "When working with **random number generation** in NumPy, results will vary each time the code is executed. \n",
    "\n",
    "To ensure **reproducibility**, we can set a **random seed** using `np.random.seed()`.\n",
    "\n",
    "This ensures that the same sequence of random numbers is generated every time the script runs.\n",
    "\n",
    "**Why Use a Random Seed?**\n",
    "- Guarantees **consistent results** across multiple runs.\n",
    "- Essential for **debugging** and comparing results.\n",
    "- Useful when **training machine learning models** to ensure reproducibility.\n",
    "\n",
    "**How to Set a Random Seed**\n",
    "```python\n",
    "# Set the seed for reproducibility\n",
    "np.random.seed(42)"
   ]
  },
  {
   "cell_type": "code",
   "execution_count": null,
   "metadata": {},
   "outputs": [],
   "source": [
    "np.random.seed(42)\n",
    "x = np.random.normal(size=50)\n",
    "x"
   ]
  },
  {
   "cell_type": "markdown",
   "metadata": {},
   "source": [
    "#### Statistics  \n",
    "\n",
    "NumPy provides powerful tools for statistical analysis, making it a fundamental library for data science and IA. It offers various functions to compute descriptive statistics, such as mean, median, standard deviation, and correlation.  \n",
    "\n",
    "**Commonly Used Statistical Functions in NumPy**:\n",
    "- `np.mean()`: Computes the mean (average) of an array.\n",
    "- `np.median()`: Finds the median value.\n",
    "- `np.std()`: Calculates the standard deviation.\n",
    "- `np.var()`: Computes the variance.\n",
    "- `np.min()` / `np.max()`: Returns the minimum and maximum values.\n",
    "- `np.percentile()`: Finds specific percentiles in the dataset.\n",
    "- `np.corrcoef()`: Computes the correlation matrix.\n",
    "- `np.histogram()`: Creates a histogram representation of data.\n",
    "\n",
    "Example:"
   ]
  },
  {
   "cell_type": "code",
   "execution_count": null,
   "metadata": {},
   "outputs": [],
   "source": [
    "# Set random seed for reproducibility\n",
    "np.random.seed(42)\n",
    "\n",
    "# Generate random dataset (100 values from a normal distribution)\n",
    "# np.random.normal(mean, std, size)\n",
    "data = np.random.normal(loc=50, scale=15, size=100)\n",
    "\n",
    "# Compute basic statistics\n",
    "mean_value = np.mean(data)\n",
    "median_value = np.median(data)\n",
    "std_dev = np.std(data)\n",
    "variance = np.var(data)\n",
    "min_value = np.min(data)\n",
    "max_value = np.max(data)\n",
    "\n",
    "# Compute percentiles\n",
    "q25 = np.percentile(data, 25)  # 25th percentile\n",
    "q50 = np.percentile(data, 50)  # Median (50th percentile)\n",
    "q75 = np.percentile(data, 75)  # 75th percentile\n",
    "\n",
    "print(\"Mean:\", mean_value)\n",
    "print(\"Median:\", median_value)\n",
    "print(\"Standard Deviation:\", std_dev)\n",
    "print(\"Variance:\", variance)\n",
    "print(\"Variance hand:\", np.mean((y - y.mean())**2))\n",
    "print(\"Min:\", min_value, \"Max:\", max_value)\n",
    "print(\"25th Percentile:\", q25)\n",
    "print(\"50th Percentile (Median):\", q50)\n",
    "print(\"75th Percentile:\", q75)\n"
   ]
  },
  {
   "cell_type": "markdown",
   "metadata": {},
   "source": [
    "#### Exercises"
   ]
  },
  {
   "cell_type": "markdown",
   "metadata": {},
   "source": [
    "**Exercise 1** \n",
    "\n",
    "Generate two **random datasets** of **250 values** each:  \n",
    "\n",
    "1. One using `np.random.uniform()` (floating-point values between **10 and 100**).  \n",
    "2. Another using `np.random.normal()` (normally distributed data with a **mean of 55** and **standard deviation of 15**).  \n",
    "\n",
    "Perform the following tasks:  \n",
    "- Compute the **correlation coefficient matrix** between the two datasets (use `np.corrcoef`function).  \n",
    "\n",
    "EXTRA:\n",
    "- Compute the **skewness** and **kurtosis** of each dataset.  \n",
    "- Find the **5th, 25th, 50th (median), 75th, and 95th percentiles** of each dataset.  \n",
    "- Normalize both datasets to have **zero mean and unit variance** (standardization).  \n",
    "- After standardization, compute the **new mean and standard deviation** of both datasets to verify correctness.  "
   ]
  },
  {
   "cell_type": "code",
   "execution_count": null,
   "metadata": {},
   "outputs": [],
   "source": [
    "# Solution\n",
    "import numpy as np\n",
    "from scipy.stats import skew, kurtosis\n",
    "\n",
    "# Generate random datasets\n",
    "dataset_1 = np.random.uniform(10, 100, size=250)\n",
    "dataset_2 = np.random.normal(55, 15, size=250)\n",
    "\n",
    "# Compute correlation matrix\n",
    "correlation_matrix = np.corrcoef(dataset_1, dataset_2)\n",
    "\n",
    "# Compute skewness and kurtosis\n",
    "skew_1, skew_2 = skew(dataset_1), skew(dataset_2)\n",
    "kurtosis_1, kurtosis_2 = kurtosis(dataset_1), kurtosis(dataset_2)\n",
    "\n",
    "# Compute percentiles\n",
    "percentiles_1 = np.percentile(dataset_1, [5, 25, 50, 75, 95])\n",
    "percentiles_2 = np.percentile(dataset_2, [5, 25, 50, 75, 95])\n",
    "\n",
    "# Standardization (zero mean, unit variance)\n",
    "dataset_1_std = (dataset_1 - np.mean(dataset_1)) / np.std(dataset_1)\n",
    "dataset_2_std = (dataset_2 - np.mean(dataset_2)) / np.std(dataset_2)\n",
    "\n",
    "# Verify standardization\n",
    "mean_1, std_1 = np.mean(dataset_1_std), np.std(dataset_1_std)\n",
    "mean_2, std_2 = np.mean(dataset_2_std), np.std(dataset_2_std)\n",
    "\n",
    "# Print results\n",
    "print(\"Correlation Matrix:\\n\", correlation_matrix)\n",
    "print(\"\\nDataset 1 - Skewness:\", skew_1, \"Kurtosis:\", kurtosis_1)\n",
    "print(\"Dataset 2 - Skewness:\", skew_2, \"Kurtosis:\", kurtosis_2)\n",
    "print(\"\\nDataset 1 Percentiles (5th, 25th, 50th, 75th, 95th):\", percentiles_1)\n",
    "print(\"Dataset 2 Percentiles (5th, 25th, 50th, 75th, 95th):\", percentiles_2)\n",
    "print(\"\\nAfter Standardization - Dataset 1 Mean:\", mean_1, \"Std Dev:\", std_1)\n",
    "print(\"After Standardization - Dataset 2 Mean:\", mean_2, \"Std Dev:\", std_2)\n"
   ]
  },
  {
   "cell_type": "markdown",
   "metadata": {},
   "source": [
    "## Graphics: Matplotlib\n",
    "\n",
    "- It provides tools to plot data in various formats and for creating **static, animated, and interactive visualizations**.\n",
    "\n",
    "- In the context of **Neural Networks**, visualization is crucial for:\n",
    "  - Understanding **data distributions** before training.\n",
    "  - Monitoring **loss and accuracy curves** during training.\n",
    "  - Visualizing **activation functions and decision boundaries**.\n",
    "  - Inspecting **model predictions** and errors.\n",
    "\n",
    "---"
   ]
  },
  {
   "cell_type": "code",
   "execution_count": null,
   "metadata": {},
   "outputs": [],
   "source": [
    "from matplotlib import pyplot as plt"
   ]
  },
  {
   "cell_type": "markdown",
   "metadata": {},
   "source": [
    "### Plot\n",
    "We can generate data and plot it as a smooth line.\n"
   ]
  },
  {
   "cell_type": "code",
   "execution_count": null,
   "metadata": {},
   "outputs": [],
   "source": [
    "x_values = np.linspace(-3, 3, 100)\n",
    "\n",
    "plt.figure()\n",
    "plt.plot(x_values, np.sin(x_values), label=\"Sinusoid\")\n",
    "plt.xlabel(\"x\")\n",
    "plt.ylabel(\"sin(x)\")\n",
    "plt.title(\"Matplotlib example\")\n",
    "plt.legend(loc=\"upper left\")\n",
    "plt.show()"
   ]
  },
  {
   "cell_type": "markdown",
   "metadata": {},
   "source": [
    "### Scattered Plot\n",
    "We can visualize the relationship between two sets of randomly generated data points. This is useful for understanding data distribution before applying other techniques."
   ]
  },
  {
   "cell_type": "code",
   "execution_count": 38,
   "metadata": {},
   "outputs": [
    {
     "ename": "AttributeError",
     "evalue": "module 'numpy' has no attribute 'random'",
     "output_type": "error",
     "traceback": [
      "\u001b[31m---------------------------------------------------------------------------\u001b[39m",
      "\u001b[31mAttributeError\u001b[39m                            Traceback (most recent call last)",
      "\u001b[36mCell\u001b[39m\u001b[36m \u001b[39m\u001b[32mIn[38]\u001b[39m\u001b[32m, line 2\u001b[39m\n\u001b[32m      1\u001b[39m \u001b[38;5;66;03m# Generate random data\u001b[39;00m\n\u001b[32m----> \u001b[39m\u001b[32m2\u001b[39m \u001b[43mnp\u001b[49m\u001b[43m.\u001b[49m\u001b[43mrandom\u001b[49m.seed(\u001b[32m42\u001b[39m)\n\u001b[32m      3\u001b[39m x = np.random.rand(\u001b[32m100\u001b[39m)\n\u001b[32m      4\u001b[39m y = x * \u001b[32m2\u001b[39m + np.random.normal(\u001b[32m0\u001b[39m, \u001b[32m0.1\u001b[39m, \u001b[32m100\u001b[39m)  \u001b[38;5;66;03m# Linear relation with noise\u001b[39;00m\n",
      "\u001b[31mAttributeError\u001b[39m: module 'numpy' has no attribute 'random'"
     ]
    }
   ],
   "source": [
    "# Generate random data\n",
    "np.random.seed(42)\n",
    "x = np.random.rand(100)\n",
    "y = x * 2 + np.random.normal(0, 0.1, 100)  # Linear relation with noise\n",
    "\n",
    "# Scatter plot\n",
    "plt.figure(figsize=(7, 5))\n",
    "plt.scatter(x, y, c=y, cmap=\"viridis\", alpha=0.7)\n",
    "plt.colorbar(label=\"Value Intensity\")\n",
    "plt.xlabel(\"Feature 1\")\n",
    "plt.ylabel(\"Feature 2\")\n",
    "plt.title(\"Scatter Plot of Random Data\")\n",
    "plt.show()\n"
   ]
  },
  {
   "cell_type": "markdown",
   "metadata": {},
   "source": [
    "### Histogram\n",
    "We can plot histograms of data to obtain information about the distribution of the data."
   ]
  },
  {
   "cell_type": "code",
   "execution_count": null,
   "metadata": {},
   "outputs": [],
   "source": [
    "# Generate normally distributed data\n",
    "data = np.random.normal(loc=0, scale=1, size=1000)\n",
    "\n",
    "# Histogram\n",
    "plt.figure(figsize=(7, 5))\n",
    "plt.hist(data, bins=30, color=\"blue\", alpha=0.7, edgecolor=\"black\")\n",
    "plt.xlabel(\"Value\")\n",
    "plt.ylabel(\"Frequency\")\n",
    "plt.title(\"Histogram of Normally Distributed Data\")\n",
    "plt.show()\n"
   ]
  },
  {
   "cell_type": "markdown",
   "metadata": {},
   "source": [
    "### Boxplots\n",
    "To represent distributions of different data at the same time. This is useful for comparing different categories in a dataset."
   ]
  },
  {
   "cell_type": "code",
   "execution_count": null,
   "metadata": {},
   "outputs": [],
   "source": [
    "# Generate random data for different groups\n",
    "group_1 = np.random.normal(0, 1, 100)\n",
    "group_2 = np.random.normal(1, 1, 100)\n",
    "group_3 = np.random.normal(2, 1, 100)\n",
    "\n",
    "# Create boxplot\n",
    "plt.figure(figsize=(7, 5))\n",
    "plt.boxplot([group_1, group_2, group_3], tick_labels=[\"Group 1\", \"Group 2\", \"Group 3\"])\n",
    "plt.xlabel(\"Groups\")\n",
    "plt.ylabel(\"Values\")\n",
    "plt.title(\"Boxplot of Random Data Groups\")\n",
    "plt.show()\n"
   ]
  },
  {
   "cell_type": "markdown",
   "metadata": {},
   "source": [
    "### Cost Function Evolution \n",
    "Typical Plot in Deep Learning Problems"
   ]
  },
  {
   "cell_type": "code",
   "execution_count": null,
   "metadata": {},
   "outputs": [],
   "source": [
    "# Simulating loss function values for training and testing\n",
    "epochs = np.arange(1, 101)  # 100 epochs\n",
    "train_loss = np.exp(-epochs / 20) + np.random.normal(0, 0.02, len(epochs))  # Simulated decay with noise\n",
    "test_loss = np.exp(-epochs / 25) + np.random.normal(0, 0.02, len(epochs)) + 0.1  # Slightly different decay with noise\n",
    "\n",
    "# Plotting the cost function evolution\n",
    "plt.figure(figsize=(8, 5))\n",
    "plt.plot(epochs, train_loss, label=\"Training Loss\", color='blue', linewidth=2)\n",
    "plt.plot(epochs, test_loss, label=\"Validation Loss\", color='red', linestyle='dashed', linewidth=2)\n",
    "\n",
    "# Highlighting key points\n",
    "plt.scatter([epochs[-1]], [train_loss[-1]], color='blue', edgecolor='black', zorder=3)\n",
    "plt.scatter([epochs[-1]], [test_loss[-1]], color='red', edgecolor='black', zorder=3)\n",
    "\n",
    "# Adding labels and title\n",
    "plt.xlabel(\"Epochs\")\n",
    "plt.ylabel(\"Loss\")\n",
    "plt.title(\"Training vs Validation Loss Evolution\")\n",
    "plt.legend()\n",
    "plt.grid(True)\n",
    "\n",
    "# Show the plot\n",
    "plt.show()\n"
   ]
  },
  {
   "cell_type": "markdown",
   "metadata": {},
   "source": [
    "### Exercise\n",
    "Generate a dataset of **random values following a normal distribution** (Gaussian) with **mean = 50 and standard deviation = 10**.  \n",
    "- **Plot a histogram** of the dataset with appropriate bins.  \n",
    "- **Overlay the probability density function (PDF)** of the corresponding normal distribution.\n",
    "- Label the axes and add a title to the plot.\n",
    "\n",
    "To compute the PDF use the scipy library as follows:\n",
    "```python\n",
    "\n",
    "from scipy.stats import norm\n",
    "\n",
    "(...)\n",
    "pdf = norm.pdf(x, mean, std_dev)  # Compute PDF values\n"
   ]
  },
  {
   "cell_type": "code",
   "execution_count": null,
   "metadata": {},
   "outputs": [],
   "source": [
    "from scipy.stats import norm\n",
    "\n",
    "# set the seed\n",
    "np.random.seed(42)\n",
    "\n",
    "# Step 1: Generate random data from a normal distribution\n",
    "mean = 50\n",
    "std_dev = 10\n",
    "data = np.random.normal(mean, std_dev, 1000)  # Generate 1000 samples\n",
    "\n",
    "# Step 2: Compute the probability density function (PDF)\n",
    "x = np.linspace(min(data), max(data), 100)  # Define x-axis values\n",
    "pdf = norm.pdf(x, mean, std_dev)  # Compute PDF values\n",
    "\n",
    "# Step 3: Plot the histogram\n",
    "plt.figure(figsize=(8, 5))\n",
    "plt.hist(data, bins=30, density=True, alpha=0.6, color='b', edgecolor='black', label=\"Histogram\")\n",
    "\n",
    "# Step 4: Overlay the normal distribution curve\n",
    "plt.plot(x, pdf, 'r-', linewidth=2, label=\"Normal PDF\")\n",
    "\n",
    "# Step 5: Labels, title, and legend\n",
    "plt.xlabel(\"Value\")\n",
    "plt.ylabel(\"Density\")\n",
    "plt.title(\"Histogram with Normal Distribution Overlay\")\n",
    "plt.legend()\n",
    "plt.grid(True)\n",
    "\n",
    "# Show the plot\n",
    "plt.show()\n"
   ]
  },
  {
   "cell_type": "markdown",
   "metadata": {},
   "source": [
    "## Data Management: Pandas\n",
    "\n",
    "- Datasets often contain various data types and may include labeled rows or columns.  \n",
    "\n",
    "- Pandas is a powerful **Python library** for **data manipulation and analysis**. It provides two primary data structures:\n",
    "\n",
    "  - **Series** (1D labeled array)  \n",
    "  - **DataFrame** (2D table similar to an Excel spreadsheet)  \n",
    "\n",
    "\n",
    "- A **DataFrame** is commonly used to handle such structured data efficiently since it can be thought of as a collection of **columns**, where each column is an array of the same length.  \n",
    "Rows are formed by combining corresponding entries from each column.  \n",
    "\n",
    "---"
   ]
  },
  {
   "cell_type": "code",
   "execution_count": 41,
   "metadata": {},
   "outputs": [
    {
     "ename": "ModuleNotFoundError",
     "evalue": "No module named 'pandas'",
     "output_type": "error",
     "traceback": [
      "\u001b[31m---------------------------------------------------------------------------\u001b[39m",
      "\u001b[31mModuleNotFoundError\u001b[39m                       Traceback (most recent call last)",
      "\u001b[36mCell\u001b[39m\u001b[36m \u001b[39m\u001b[32mIn[41]\u001b[39m\u001b[32m, line 1\u001b[39m\n\u001b[32m----> \u001b[39m\u001b[32m1\u001b[39m \u001b[38;5;28;01mimport\u001b[39;00m\u001b[38;5;250m \u001b[39m\u001b[34;01mpandas\u001b[39;00m\u001b[38;5;250m \u001b[39m\u001b[38;5;28;01mas\u001b[39;00m\u001b[38;5;250m \u001b[39m\u001b[34;01mpd\u001b[39;00m\n",
      "\u001b[31mModuleNotFoundError\u001b[39m: No module named 'pandas'"
     ]
    }
   ],
   "source": [
    "import pandas as pd\n"
   ]
  },
  {
   "cell_type": "markdown",
   "metadata": {},
   "source": [
    "### Create\n",
    "We can create a DataFrame from a dictionary"
   ]
  },
  {
   "cell_type": "code",
   "execution_count": null,
   "metadata": {},
   "outputs": [],
   "source": [
    "data = {\n",
    "    \"Name\": [\"Alice\", \"Bob\", \"Charlie\"],\n",
    "    \"Age\": [25, 30, 35],\n",
    "    \"Salary\": [50000, 60000, 70000]\n",
    "}\n",
    "\n",
    "df = pd.DataFrame(data)\n",
    "print(df)\n"
   ]
  },
  {
   "cell_type": "markdown",
   "metadata": {},
   "source": [
    "### Load from csv\n",
    "We can load a .csv"
   ]
  },
  {
   "cell_type": "code",
   "execution_count": null,
   "metadata": {},
   "outputs": [],
   "source": [
    "df = pd.read_csv(\"data.csv\")  # Load data from a CSV file\n",
    "print(df.head())  # Display the first 5 rows\n"
   ]
  },
  {
   "cell_type": "markdown",
   "metadata": {},
   "source": [
    "### Access\n",
    "We can access and filter some data\n"
   ]
  },
  {
   "cell_type": "code",
   "execution_count": null,
   "metadata": {},
   "outputs": [],
   "source": [
    "print(df[\"Pulse\"])  # Access a specific column\n",
    "print(df.iloc[0])  # Access the first row\n",
    "print(df.loc[df[\"Pulse\"] > 110])  # Filter rows where Age > 28\n"
   ]
  },
  {
   "cell_type": "markdown",
   "metadata": {},
   "source": [
    "### Save to csv"
   ]
  },
  {
   "cell_type": "code",
   "execution_count": null,
   "metadata": {},
   "outputs": [],
   "source": [
    "# Create a sample DataFrame\n",
    "data = {\n",
    "    \"Name\": [\"Alice\", \"Bob\", \"Charlie\"],\n",
    "    \"Age\": [25, 30, 35],\n",
    "    \"City\": [\"New York\", \"Los Angeles\", \"Chicago\"]\n",
    "}\n",
    "\n",
    "df = pd.DataFrame(data)\n",
    "\n",
    "print(df)  \n",
    "\n",
    "# Save the DataFrame to a CSV file\n",
    "df.to_csv(\"sample_data.csv\", index=False)\n",
    "\n",
    "print(\"Data saved successfully to sample_data.csv\")\n"
   ]
  },
  {
   "cell_type": "markdown",
   "metadata": {},
   "source": [
    "### Other Operations"
   ]
  },
  {
   "cell_type": "markdown",
   "metadata": {},
   "source": [
    "If a value is missing, we can substitute it\n"
   ]
  },
  {
   "cell_type": "code",
   "execution_count": null,
   "metadata": {},
   "outputs": [],
   "source": [
    "# A DataFrame with missing values\n",
    "data = {\n",
    "    \"Name\": [\"Alice\", \"Bob\", \"Charlie\", \"David\"],\n",
    "    \"Age\": [25, np.nan, 35, 40],  # Missing value in Age\n",
    "    \"City\": [\"New York\", \"Los Angeles\", np.nan, \"Chicago\"]  # Missing value in City\n",
    "}\n",
    "\n",
    "df_missing = pd.DataFrame(data)\n",
    "\n",
    "# Display the DataFrame with missing values\n",
    "print(\"Original DataFrame with Missing Values:\\n\", df_missing)\n",
    "\n",
    "# Handling missing values: Fill missing values with a default value\n",
    "df_filled = df_missing.fillna({\"Age\": df_missing[\"Age\"].mean(), \"City\": \"Unknown\"})\n",
    "\n",
    "print(\"\\nDataFrame after Filling Missing Values:\\n\", df_filled)\n",
    "\n",
    "# Alternatively, drop rows with missing values\n",
    "df_dropped = df_missing.dropna()\n",
    "\n",
    "print(\"\\nDataFrame after Dropping Missing Values:\\n\", df_dropped)\n",
    "\n"
   ]
  },
  {
   "cell_type": "markdown",
   "metadata": {},
   "source": [
    "We can sort the data"
   ]
  },
  {
   "cell_type": "code",
   "execution_count": null,
   "metadata": {},
   "outputs": [],
   "source": [
    "# Sorting the DataFrame by Age in ascending order\n",
    "df_sorted = df_filled.sort_values(by=\"Age\")\n",
    "print(\"\\nDataFrame Sorted by Age (Ascending):\\n\", df_sorted)\n",
    "\n",
    "# Sorting the DataFrame by Age in descending order\n",
    "df_sorted_desc = df_filled.sort_values(by=\"Age\", ascending=False)\n",
    "print(\"\\nDataFrame Sorted by Age (Descending):\\n\", df_sorted_desc)\n",
    "\n"
   ]
  },
  {
   "cell_type": "markdown",
   "metadata": {},
   "source": [
    "We can group and aggregate data"
   ]
  },
  {
   "cell_type": "code",
   "execution_count": null,
   "metadata": {},
   "outputs": [],
   "source": [
    "\n",
    "# Grouping by City and calculating the average Age for each group\n",
    "df_grouped = df_filled.groupby(\"City\")[\"Age\"].mean()\n",
    "print(\"\\nAverage Age by City:\\n\", df_grouped)\n",
    "\n",
    "# Grouping by City and counting the number of occurrences\n",
    "df_grouped_count = df_filled.groupby(\"City\")[\"Name\"].count()\n",
    "print(\"\\nCount of People per City:\\n\", df_grouped_count)\n"
   ]
  },
  {
   "cell_type": "markdown",
   "metadata": {},
   "source": [
    "### Exercise\n",
    "Handling and Analyzing Employee Data with Pandas\n",
    "\n",
    "You will work with a CSV file containing employee data. Your task is to load the data, handle missing values, sort the data, group it by specific attributes, and analyze key metrics.\n",
    "\n",
    "1. **Load the Data:** Read the `example_pandas.csv` file into a Pandas DataFrame.\n",
    "2. **Handle Missing Values:** Replace any missing values in the `Salary` column with the average salary.\n",
    "3. **Sort the Data:** Sort the employees by `Salary` in descending order.\n",
    "4. **Group Data:**\n",
    "   - Compute the **average salary** per `Department`.\n",
    "   - Count the **number of employees** per `City`.\n",
    "5. **Save the Processed Data:** Write the sorted data to a new CSV file named `example_pandas_sorted.csv`.\n",
    "6. **Bonus Task:** Identify and print the employee with the highest salary.\n",
    "\n"
   ]
  },
  {
   "cell_type": "code",
   "execution_count": null,
   "metadata": {},
   "outputs": [],
   "source": [
    "import pandas as pd\n",
    "import numpy as np\n",
    "\n",
    "# Step 1: Load Data from CSV\n",
    "df = pd.read_csv(\"exercise_pandas.csv\")\n",
    "\n",
    "print(\"Loaded DataFrame:\")\n",
    "print(df)\n",
    "\n",
    "# Step 2: Handle Missing Values (Replace NaN salary with the mean salary)\n",
    "df = df.assign(Salary=df[\"Salary\"].fillna(df[\"Salary\"].mean()))\n",
    "\n",
    "# Step 3: Sort by Salary in Descending Order\n",
    "df_sorted = df.sort_values(by=\"Salary\", ascending=False)\n",
    "\n",
    "# Step 4: Grouping Data\n",
    "avg_salary_per_department = df.groupby(\"Department\")[\"Salary\"].mean()\n",
    "employee_count_per_city = df.groupby(\"City\")[\"Name\"].count()\n",
    "\n",
    "# Step 5: Save Sorted Data to CSV\n",
    "df_sorted.to_csv(\"exercise_pandas_sorted.csv\", index=False)\n",
    "\n",
    "# Bonus: Find the employee with the highest salary\n",
    "highest_paid_employee = df_sorted.iloc[0]\n",
    "\n",
    "# Print Results\n",
    "print(\"DataFrame after handling missing values:\")\n",
    "print(df)\n",
    "print(\"\\nAverage Salary per Department:\")\n",
    "print(avg_salary_per_department)\n",
    "print(\"\\nEmployee Count per City:\")\n",
    "print(employee_count_per_city)\n",
    "print(\"\\nHighest Paid Employee:\")\n",
    "print(highest_paid_employee)\n"
   ]
  }
 ],
 "metadata": {
  "kernelspec": {
   "display_name": "Python 3 (ipykernel)",
   "language": "python",
   "name": "python3"
  },
  "language_info": {
   "codemirror_mode": {
    "name": "ipython",
    "version": 3
   },
   "file_extension": ".py",
   "mimetype": "text/x-python",
   "name": "python",
   "nbconvert_exporter": "python",
   "pygments_lexer": "ipython3",
   "version": "3.13.2"
  }
 },
 "nbformat": 4,
 "nbformat_minor": 4
}
